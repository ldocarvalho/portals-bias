{
  "nbformat": 4,
  "nbformat_minor": 0,
  "metadata": {
    "colab": {
      "name": "portals-bias.ipynb",
      "provenance": [],
      "collapsed_sections": [
        "_z2CxtgK2HFd",
        "rwZiRQ1cmn9U",
        "ht2bJSxbr17R",
        "Smg6bXC6r4en",
        "yszbvIIfsEej",
        "YBawW_gNsGUk",
        "meS1vddOTc-d",
        "Q82zstqVZl_H",
        "fu2tmuDAY0b1",
        "hWFDCeeYrT9m",
        "Np0tN09v3NbD"
      ],
      "toc_visible": true,
      "authorship_tag": "ABX9TyOMA2MfU2Q4tayQo1HTFmYU",
      "include_colab_link": true
    },
    "kernelspec": {
      "name": "python3",
      "display_name": "Python 3"
    },
    "language_info": {
      "name": "python"
    }
  },
  "cells": [
    {
      "cell_type": "markdown",
      "metadata": {
        "id": "view-in-github",
        "colab_type": "text"
      },
      "source": [
        "<a href=\"https://colab.research.google.com/github/ldocarvalho/portals-bias/blob/main/portals_bias.ipynb\" target=\"_parent\"><img src=\"https://colab.research.google.com/assets/colab-badge.svg\" alt=\"Open In Colab\"/></a>"
      ]
    },
    {
      "cell_type": "markdown",
      "source": [
        "### Data"
      ],
      "metadata": {
        "id": "_z2CxtgK2HFd"
      }
    },
    {
      "cell_type": "code",
      "source": [
        "import pandas as pd"
      ],
      "metadata": {
        "id": "NDs2LQWJSHIX"
      },
      "execution_count": 32,
      "outputs": []
    },
    {
      "cell_type": "code",
      "source": [
        "df_names = [\"Source\",\"Title\",\"Content\",\"Bias\"]\n",
        "df_news_aggregator = pd.read_csv('https://raw.githubusercontent.com/ldocarvalho/portals-bias/main/Dataset/News-Aggregator-14/news-aggregator.csv?token=AKX52J7EV5Y2TFAPAPLJ3Q3BYDMV2', names = df_names, skiprows = 1, header = None)\n",
        "df_news_aggregator"
      ],
      "metadata": {
        "id": "fPzFw21W2IiV",
        "colab": {
          "base_uri": "https://localhost:8080/",
          "height": 0
        },
        "outputId": "e9974467-3116-44c6-e550-588924d1d797"
      },
      "execution_count": 33,
      "outputs": [
        {
          "output_type": "execute_result",
          "data": {
            "text/html": [
              "\n",
              "  <div id=\"df-b8b5d63f-0eb1-47bd-9314-2938313bd4c3\">\n",
              "    <div class=\"colab-df-container\">\n",
              "      <div>\n",
              "<style scoped>\n",
              "    .dataframe tbody tr th:only-of-type {\n",
              "        vertical-align: middle;\n",
              "    }\n",
              "\n",
              "    .dataframe tbody tr th {\n",
              "        vertical-align: top;\n",
              "    }\n",
              "\n",
              "    .dataframe thead th {\n",
              "        text-align: right;\n",
              "    }\n",
              "</style>\n",
              "<table border=\"1\" class=\"dataframe\">\n",
              "  <thead>\n",
              "    <tr style=\"text-align: right;\">\n",
              "      <th></th>\n",
              "      <th>Source</th>\n",
              "      <th>Title</th>\n",
              "      <th>Content</th>\n",
              "      <th>Bias</th>\n",
              "    </tr>\n",
              "  </thead>\n",
              "  <tbody>\n",
              "    <tr>\n",
              "      <th>0</th>\n",
              "      <td>wsj.com</td>\n",
              "      <td>EU Week Ahead March 10-14: Bank Resolution, Tr...</td>\n",
              "      <td>The European Union’s to-do list isn’t long thi...</td>\n",
              "      <td>right-center</td>\n",
              "    </tr>\n",
              "    <tr>\n",
              "      <th>1</th>\n",
              "      <td>wsj.com</td>\n",
              "      <td>ECB's Noyer not Happy With Euro Strength -- Up...</td>\n",
              "      <td>News Corp is a network of leading companies in...</td>\n",
              "      <td>right-center</td>\n",
              "    </tr>\n",
              "    <tr>\n",
              "      <th>2</th>\n",
              "      <td>seattlepi.com</td>\n",
              "      <td>EBay, Icahn talk smack</td>\n",
              "      <td>Follow @csaid EBay has come out swinging again...</td>\n",
              "      <td>left-center</td>\n",
              "    </tr>\n",
              "    <tr>\n",
              "      <th>3</th>\n",
              "      <td>techcrunch.com</td>\n",
              "      <td>EBay Asks Shareholders To Vote Against PayPal ...</td>\n",
              "      <td>The war of words between eBay and its new shar...</td>\n",
              "      <td>left-center</td>\n",
              "    </tr>\n",
              "    <tr>\n",
              "      <th>4</th>\n",
              "      <td>valuewalk.com</td>\n",
              "      <td>Carl Icahn: Donahoe Cost eBay Investors More T...</td>\n",
              "      <td>Carl Icahn has again posted an open letter on ...</td>\n",
              "      <td>right-center</td>\n",
              "    </tr>\n",
              "    <tr>\n",
              "      <th>...</th>\n",
              "      <td>...</td>\n",
              "      <td>...</td>\n",
              "      <td>...</td>\n",
              "      <td>...</td>\n",
              "    </tr>\n",
              "    <tr>\n",
              "      <th>1795</th>\n",
              "      <td>newsone.com</td>\n",
              "      <td>NewsOne Minute: Chris Rock Interviews White Pe...</td>\n",
              "      <td>Chris Rock Interviews White People at a Monste...</td>\n",
              "      <td>left-center</td>\n",
              "    </tr>\n",
              "    <tr>\n",
              "      <th>1796</th>\n",
              "      <td>twitchy.com</td>\n",
              "      <td>Chart-topping songwriter Diane Warren: Hope so...</td>\n",
              "      <td>Texas cheerleader and big-game hunter Kendall ...</td>\n",
              "      <td>right</td>\n",
              "    </tr>\n",
              "    <tr>\n",
              "      <th>1797</th>\n",
              "      <td>twitchy.com</td>\n",
              "      <td>Reality star Joanna Krupa would love to see ‘t...</td>\n",
              "      <td>Model Joanna Krupa is known for her stints on ...</td>\n",
              "      <td>right</td>\n",
              "    </tr>\n",
              "    <tr>\n",
              "      <th>1798</th>\n",
              "      <td>austinchronicle.com</td>\n",
              "      <td>Elaine Stritch (1925-2014)</td>\n",
              "      <td>During her seven decades as a \"Broadway Baby\" ...</td>\n",
              "      <td>left</td>\n",
              "    </tr>\n",
              "    <tr>\n",
              "      <th>1799</th>\n",
              "      <td>powerlineblog.com</td>\n",
              "      <td>The Awful Jobs Picture: 6.2% Unemployment Is O...</td>\n",
              "      <td>The Labor Department reported today that the e...</td>\n",
              "      <td>right</td>\n",
              "    </tr>\n",
              "  </tbody>\n",
              "</table>\n",
              "<p>1800 rows × 4 columns</p>\n",
              "</div>\n",
              "      <button class=\"colab-df-convert\" onclick=\"convertToInteractive('df-b8b5d63f-0eb1-47bd-9314-2938313bd4c3')\"\n",
              "              title=\"Convert this dataframe to an interactive table.\"\n",
              "              style=\"display:none;\">\n",
              "        \n",
              "  <svg xmlns=\"http://www.w3.org/2000/svg\" height=\"24px\"viewBox=\"0 0 24 24\"\n",
              "       width=\"24px\">\n",
              "    <path d=\"M0 0h24v24H0V0z\" fill=\"none\"/>\n",
              "    <path d=\"M18.56 5.44l.94 2.06.94-2.06 2.06-.94-2.06-.94-.94-2.06-.94 2.06-2.06.94zm-11 1L8.5 8.5l.94-2.06 2.06-.94-2.06-.94L8.5 2.5l-.94 2.06-2.06.94zm10 10l.94 2.06.94-2.06 2.06-.94-2.06-.94-.94-2.06-.94 2.06-2.06.94z\"/><path d=\"M17.41 7.96l-1.37-1.37c-.4-.4-.92-.59-1.43-.59-.52 0-1.04.2-1.43.59L10.3 9.45l-7.72 7.72c-.78.78-.78 2.05 0 2.83L4 21.41c.39.39.9.59 1.41.59.51 0 1.02-.2 1.41-.59l7.78-7.78 2.81-2.81c.8-.78.8-2.07 0-2.86zM5.41 20L4 18.59l7.72-7.72 1.47 1.35L5.41 20z\"/>\n",
              "  </svg>\n",
              "      </button>\n",
              "      \n",
              "  <style>\n",
              "    .colab-df-container {\n",
              "      display:flex;\n",
              "      flex-wrap:wrap;\n",
              "      gap: 12px;\n",
              "    }\n",
              "\n",
              "    .colab-df-convert {\n",
              "      background-color: #E8F0FE;\n",
              "      border: none;\n",
              "      border-radius: 50%;\n",
              "      cursor: pointer;\n",
              "      display: none;\n",
              "      fill: #1967D2;\n",
              "      height: 32px;\n",
              "      padding: 0 0 0 0;\n",
              "      width: 32px;\n",
              "    }\n",
              "\n",
              "    .colab-df-convert:hover {\n",
              "      background-color: #E2EBFA;\n",
              "      box-shadow: 0px 1px 2px rgba(60, 64, 67, 0.3), 0px 1px 3px 1px rgba(60, 64, 67, 0.15);\n",
              "      fill: #174EA6;\n",
              "    }\n",
              "\n",
              "    [theme=dark] .colab-df-convert {\n",
              "      background-color: #3B4455;\n",
              "      fill: #D2E3FC;\n",
              "    }\n",
              "\n",
              "    [theme=dark] .colab-df-convert:hover {\n",
              "      background-color: #434B5C;\n",
              "      box-shadow: 0px 1px 3px 1px rgba(0, 0, 0, 0.15);\n",
              "      filter: drop-shadow(0px 1px 2px rgba(0, 0, 0, 0.3));\n",
              "      fill: #FFFFFF;\n",
              "    }\n",
              "  </style>\n",
              "\n",
              "      <script>\n",
              "        const buttonEl =\n",
              "          document.querySelector('#df-b8b5d63f-0eb1-47bd-9314-2938313bd4c3 button.colab-df-convert');\n",
              "        buttonEl.style.display =\n",
              "          google.colab.kernel.accessAllowed ? 'block' : 'none';\n",
              "\n",
              "        async function convertToInteractive(key) {\n",
              "          const element = document.querySelector('#df-b8b5d63f-0eb1-47bd-9314-2938313bd4c3');\n",
              "          const dataTable =\n",
              "            await google.colab.kernel.invokeFunction('convertToInteractive',\n",
              "                                                     [key], {});\n",
              "          if (!dataTable) return;\n",
              "\n",
              "          const docLinkHtml = 'Like what you see? Visit the ' +\n",
              "            '<a target=\"_blank\" href=https://colab.research.google.com/notebooks/data_table.ipynb>data table notebook</a>'\n",
              "            + ' to learn more about interactive tables.';\n",
              "          element.innerHTML = '';\n",
              "          dataTable['output_type'] = 'display_data';\n",
              "          await google.colab.output.renderOutput(dataTable, element);\n",
              "          const docLink = document.createElement('div');\n",
              "          docLink.innerHTML = docLinkHtml;\n",
              "          element.appendChild(docLink);\n",
              "        }\n",
              "      </script>\n",
              "    </div>\n",
              "  </div>\n",
              "  "
            ],
            "text/plain": [
              "                   Source  ...          Bias\n",
              "0                 wsj.com  ...  right-center\n",
              "1                 wsj.com  ...  right-center\n",
              "2           seattlepi.com  ...   left-center\n",
              "3          techcrunch.com  ...   left-center\n",
              "4           valuewalk.com  ...  right-center\n",
              "...                   ...  ...           ...\n",
              "1795          newsone.com  ...   left-center\n",
              "1796          twitchy.com  ...         right\n",
              "1797          twitchy.com  ...         right\n",
              "1798  austinchronicle.com  ...          left\n",
              "1799    powerlineblog.com  ...         right\n",
              "\n",
              "[1800 rows x 4 columns]"
            ]
          },
          "metadata": {},
          "execution_count": 33
        }
      ]
    },
    {
      "cell_type": "code",
      "source": [
        "df_news_july = pd.read_csv('https://raw.githubusercontent.com/ldocarvalho/portals-bias/main/Dataset/News-July-19/news-july.csv?token=AKX52J5KQ3NIC6K7PWM7XPLBYDNKA', names = df_names, skiprows = 1, header = None)\n",
        "df_news_july"
      ],
      "metadata": {
        "colab": {
          "base_uri": "https://localhost:8080/",
          "height": 0
        },
        "id": "E8amovQMSZXs",
        "outputId": "cb8ebc1e-fae2-4af5-ea5a-722c830d4366"
      },
      "execution_count": 34,
      "outputs": [
        {
          "output_type": "execute_result",
          "data": {
            "text/html": [
              "\n",
              "  <div id=\"df-7a7a44fd-5ef2-4f9d-a6a7-3c4e81a32775\">\n",
              "    <div class=\"colab-df-container\">\n",
              "      <div>\n",
              "<style scoped>\n",
              "    .dataframe tbody tr th:only-of-type {\n",
              "        vertical-align: middle;\n",
              "    }\n",
              "\n",
              "    .dataframe tbody tr th {\n",
              "        vertical-align: top;\n",
              "    }\n",
              "\n",
              "    .dataframe thead th {\n",
              "        text-align: right;\n",
              "    }\n",
              "</style>\n",
              "<table border=\"1\" class=\"dataframe\">\n",
              "  <thead>\n",
              "    <tr style=\"text-align: right;\">\n",
              "      <th></th>\n",
              "      <th>Source</th>\n",
              "      <th>Title</th>\n",
              "      <th>Content</th>\n",
              "      <th>Bias</th>\n",
              "    </tr>\n",
              "  </thead>\n",
              "  <tbody>\n",
              "    <tr>\n",
              "      <th>0</th>\n",
              "      <td>berkeleyside</td>\n",
              "      <td>ArchivesJune 10, 2019</td>\n",
              "      <td>When the homeowner did not voluntarily repair ...</td>\n",
              "      <td>left-center</td>\n",
              "    </tr>\n",
              "    <tr>\n",
              "      <th>1</th>\n",
              "      <td>berkeleyside</td>\n",
              "      <td>Berkeley homeowner caught in costly code viola...</td>\n",
              "      <td>Finger-pointing, confusion, worry and mistrust...</td>\n",
              "      <td>left-center</td>\n",
              "    </tr>\n",
              "    <tr>\n",
              "      <th>2</th>\n",
              "      <td>berkeleyside</td>\n",
              "      <td>A small-business success story, Yalis Caf cele...</td>\n",
              "      <td>Yali's Caf 1920 Oxford St. (at Berkeley Way), ...</td>\n",
              "      <td>left-center</td>\n",
              "    </tr>\n",
              "    <tr>\n",
              "      <th>3</th>\n",
              "      <td>berkeleyside</td>\n",
              "      <td>Shop Talk: Bluemercury; Airport Home Appliance...</td>\n",
              "      <td>BLUEMERCURY A new business is opening in the o...</td>\n",
              "      <td>left-center</td>\n",
              "    </tr>\n",
              "    <tr>\n",
              "      <th>4</th>\n",
              "      <td>berkeleyside</td>\n",
              "      <td>New vision plan imagines 3-mile greenway from ...</td>\n",
              "      <td>Imagine a bike and pedestrian path stretching ...</td>\n",
              "      <td>left-center</td>\n",
              "    </tr>\n",
              "    <tr>\n",
              "      <th>...</th>\n",
              "      <td>...</td>\n",
              "      <td>...</td>\n",
              "      <td>...</td>\n",
              "      <td>...</td>\n",
              "    </tr>\n",
              "    <tr>\n",
              "      <th>4955</th>\n",
              "      <td>theblaze</td>\n",
              "      <td>Bill Cosbys official Instagram account shares ...</td>\n",
              "      <td>The official Instagram account of actor Bill C...</td>\n",
              "      <td>right</td>\n",
              "    </tr>\n",
              "    <tr>\n",
              "      <th>4956</th>\n",
              "      <td>theblaze</td>\n",
              "      <td>WATCH: Students condemn racist remarks they be...</td>\n",
              "      <td>Students at Marymount University in Virginia b...</td>\n",
              "      <td>right</td>\n",
              "    </tr>\n",
              "    <tr>\n",
              "      <th>4957</th>\n",
              "      <td>theblaze</td>\n",
              "      <td>Republicans propose constitutional amendment t...</td>\n",
              "      <td>President Donald Trump is supporting a propose...</td>\n",
              "      <td>right</td>\n",
              "    </tr>\n",
              "    <tr>\n",
              "      <th>4958</th>\n",
              "      <td>theblaze</td>\n",
              "      <td>108 GOP lawmakers sign letter asking Trump to ...</td>\n",
              "      <td>More than a hundred Republican members of Cong...</td>\n",
              "      <td>right</td>\n",
              "    </tr>\n",
              "    <tr>\n",
              "      <th>4959</th>\n",
              "      <td>theblaze</td>\n",
              "      <td>Despite Trump's threat to close border, Mexico...</td>\n",
              "      <td>Mexico will not militarize its southern border...</td>\n",
              "      <td>right</td>\n",
              "    </tr>\n",
              "  </tbody>\n",
              "</table>\n",
              "<p>4960 rows × 4 columns</p>\n",
              "</div>\n",
              "      <button class=\"colab-df-convert\" onclick=\"convertToInteractive('df-7a7a44fd-5ef2-4f9d-a6a7-3c4e81a32775')\"\n",
              "              title=\"Convert this dataframe to an interactive table.\"\n",
              "              style=\"display:none;\">\n",
              "        \n",
              "  <svg xmlns=\"http://www.w3.org/2000/svg\" height=\"24px\"viewBox=\"0 0 24 24\"\n",
              "       width=\"24px\">\n",
              "    <path d=\"M0 0h24v24H0V0z\" fill=\"none\"/>\n",
              "    <path d=\"M18.56 5.44l.94 2.06.94-2.06 2.06-.94-2.06-.94-.94-2.06-.94 2.06-2.06.94zm-11 1L8.5 8.5l.94-2.06 2.06-.94-2.06-.94L8.5 2.5l-.94 2.06-2.06.94zm10 10l.94 2.06.94-2.06 2.06-.94-2.06-.94-.94-2.06-.94 2.06-2.06.94z\"/><path d=\"M17.41 7.96l-1.37-1.37c-.4-.4-.92-.59-1.43-.59-.52 0-1.04.2-1.43.59L10.3 9.45l-7.72 7.72c-.78.78-.78 2.05 0 2.83L4 21.41c.39.39.9.59 1.41.59.51 0 1.02-.2 1.41-.59l7.78-7.78 2.81-2.81c.8-.78.8-2.07 0-2.86zM5.41 20L4 18.59l7.72-7.72 1.47 1.35L5.41 20z\"/>\n",
              "  </svg>\n",
              "      </button>\n",
              "      \n",
              "  <style>\n",
              "    .colab-df-container {\n",
              "      display:flex;\n",
              "      flex-wrap:wrap;\n",
              "      gap: 12px;\n",
              "    }\n",
              "\n",
              "    .colab-df-convert {\n",
              "      background-color: #E8F0FE;\n",
              "      border: none;\n",
              "      border-radius: 50%;\n",
              "      cursor: pointer;\n",
              "      display: none;\n",
              "      fill: #1967D2;\n",
              "      height: 32px;\n",
              "      padding: 0 0 0 0;\n",
              "      width: 32px;\n",
              "    }\n",
              "\n",
              "    .colab-df-convert:hover {\n",
              "      background-color: #E2EBFA;\n",
              "      box-shadow: 0px 1px 2px rgba(60, 64, 67, 0.3), 0px 1px 3px 1px rgba(60, 64, 67, 0.15);\n",
              "      fill: #174EA6;\n",
              "    }\n",
              "\n",
              "    [theme=dark] .colab-df-convert {\n",
              "      background-color: #3B4455;\n",
              "      fill: #D2E3FC;\n",
              "    }\n",
              "\n",
              "    [theme=dark] .colab-df-convert:hover {\n",
              "      background-color: #434B5C;\n",
              "      box-shadow: 0px 1px 3px 1px rgba(0, 0, 0, 0.15);\n",
              "      filter: drop-shadow(0px 1px 2px rgba(0, 0, 0, 0.3));\n",
              "      fill: #FFFFFF;\n",
              "    }\n",
              "  </style>\n",
              "\n",
              "      <script>\n",
              "        const buttonEl =\n",
              "          document.querySelector('#df-7a7a44fd-5ef2-4f9d-a6a7-3c4e81a32775 button.colab-df-convert');\n",
              "        buttonEl.style.display =\n",
              "          google.colab.kernel.accessAllowed ? 'block' : 'none';\n",
              "\n",
              "        async function convertToInteractive(key) {\n",
              "          const element = document.querySelector('#df-7a7a44fd-5ef2-4f9d-a6a7-3c4e81a32775');\n",
              "          const dataTable =\n",
              "            await google.colab.kernel.invokeFunction('convertToInteractive',\n",
              "                                                     [key], {});\n",
              "          if (!dataTable) return;\n",
              "\n",
              "          const docLinkHtml = 'Like what you see? Visit the ' +\n",
              "            '<a target=\"_blank\" href=https://colab.research.google.com/notebooks/data_table.ipynb>data table notebook</a>'\n",
              "            + ' to learn more about interactive tables.';\n",
              "          element.innerHTML = '';\n",
              "          dataTable['output_type'] = 'display_data';\n",
              "          await google.colab.output.renderOutput(dataTable, element);\n",
              "          const docLink = document.createElement('div');\n",
              "          docLink.innerHTML = docLinkHtml;\n",
              "          element.appendChild(docLink);\n",
              "        }\n",
              "      </script>\n",
              "    </div>\n",
              "  </div>\n",
              "  "
            ],
            "text/plain": [
              "            Source  ...         Bias\n",
              "0     berkeleyside  ...  left-center\n",
              "1     berkeleyside  ...  left-center\n",
              "2     berkeleyside  ...  left-center\n",
              "3     berkeleyside  ...  left-center\n",
              "4     berkeleyside  ...  left-center\n",
              "...            ...  ...          ...\n",
              "4955      theblaze  ...        right\n",
              "4956      theblaze  ...        right\n",
              "4957      theblaze  ...        right\n",
              "4958      theblaze  ...        right\n",
              "4959      theblaze  ...        right\n",
              "\n",
              "[4960 rows x 4 columns]"
            ]
          },
          "metadata": {},
          "execution_count": 34
        }
      ]
    },
    {
      "cell_type": "code",
      "source": [
        "df_news_february = pd.read_csv('https://raw.githubusercontent.com/ldocarvalho/portals-bias/main/Dataset/News-July-19/news-july.csv?token=AKX52J5KQ3NIC6K7PWM7XPLBYDNKA', names = df_names, skiprows = 1, header = None)\n",
        "df_news_february"
      ],
      "metadata": {
        "colab": {
          "base_uri": "https://localhost:8080/",
          "height": 0
        },
        "id": "R7DCo8QdJL-0",
        "outputId": "c0b1ee32-06d9-4a80-b443-a0f35a6ec799"
      },
      "execution_count": 35,
      "outputs": [
        {
          "output_type": "execute_result",
          "data": {
            "text/html": [
              "\n",
              "  <div id=\"df-26320e5b-7a23-494b-820d-8b711c959be3\">\n",
              "    <div class=\"colab-df-container\">\n",
              "      <div>\n",
              "<style scoped>\n",
              "    .dataframe tbody tr th:only-of-type {\n",
              "        vertical-align: middle;\n",
              "    }\n",
              "\n",
              "    .dataframe tbody tr th {\n",
              "        vertical-align: top;\n",
              "    }\n",
              "\n",
              "    .dataframe thead th {\n",
              "        text-align: right;\n",
              "    }\n",
              "</style>\n",
              "<table border=\"1\" class=\"dataframe\">\n",
              "  <thead>\n",
              "    <tr style=\"text-align: right;\">\n",
              "      <th></th>\n",
              "      <th>Source</th>\n",
              "      <th>Title</th>\n",
              "      <th>Content</th>\n",
              "      <th>Bias</th>\n",
              "    </tr>\n",
              "  </thead>\n",
              "  <tbody>\n",
              "    <tr>\n",
              "      <th>0</th>\n",
              "      <td>berkeleyside</td>\n",
              "      <td>ArchivesJune 10, 2019</td>\n",
              "      <td>When the homeowner did not voluntarily repair ...</td>\n",
              "      <td>left-center</td>\n",
              "    </tr>\n",
              "    <tr>\n",
              "      <th>1</th>\n",
              "      <td>berkeleyside</td>\n",
              "      <td>Berkeley homeowner caught in costly code viola...</td>\n",
              "      <td>Finger-pointing, confusion, worry and mistrust...</td>\n",
              "      <td>left-center</td>\n",
              "    </tr>\n",
              "    <tr>\n",
              "      <th>2</th>\n",
              "      <td>berkeleyside</td>\n",
              "      <td>A small-business success story, Yalis Caf cele...</td>\n",
              "      <td>Yali's Caf 1920 Oxford St. (at Berkeley Way), ...</td>\n",
              "      <td>left-center</td>\n",
              "    </tr>\n",
              "    <tr>\n",
              "      <th>3</th>\n",
              "      <td>berkeleyside</td>\n",
              "      <td>Shop Talk: Bluemercury; Airport Home Appliance...</td>\n",
              "      <td>BLUEMERCURY A new business is opening in the o...</td>\n",
              "      <td>left-center</td>\n",
              "    </tr>\n",
              "    <tr>\n",
              "      <th>4</th>\n",
              "      <td>berkeleyside</td>\n",
              "      <td>New vision plan imagines 3-mile greenway from ...</td>\n",
              "      <td>Imagine a bike and pedestrian path stretching ...</td>\n",
              "      <td>left-center</td>\n",
              "    </tr>\n",
              "    <tr>\n",
              "      <th>...</th>\n",
              "      <td>...</td>\n",
              "      <td>...</td>\n",
              "      <td>...</td>\n",
              "      <td>...</td>\n",
              "    </tr>\n",
              "    <tr>\n",
              "      <th>4955</th>\n",
              "      <td>theblaze</td>\n",
              "      <td>Bill Cosbys official Instagram account shares ...</td>\n",
              "      <td>The official Instagram account of actor Bill C...</td>\n",
              "      <td>right</td>\n",
              "    </tr>\n",
              "    <tr>\n",
              "      <th>4956</th>\n",
              "      <td>theblaze</td>\n",
              "      <td>WATCH: Students condemn racist remarks they be...</td>\n",
              "      <td>Students at Marymount University in Virginia b...</td>\n",
              "      <td>right</td>\n",
              "    </tr>\n",
              "    <tr>\n",
              "      <th>4957</th>\n",
              "      <td>theblaze</td>\n",
              "      <td>Republicans propose constitutional amendment t...</td>\n",
              "      <td>President Donald Trump is supporting a propose...</td>\n",
              "      <td>right</td>\n",
              "    </tr>\n",
              "    <tr>\n",
              "      <th>4958</th>\n",
              "      <td>theblaze</td>\n",
              "      <td>108 GOP lawmakers sign letter asking Trump to ...</td>\n",
              "      <td>More than a hundred Republican members of Cong...</td>\n",
              "      <td>right</td>\n",
              "    </tr>\n",
              "    <tr>\n",
              "      <th>4959</th>\n",
              "      <td>theblaze</td>\n",
              "      <td>Despite Trump's threat to close border, Mexico...</td>\n",
              "      <td>Mexico will not militarize its southern border...</td>\n",
              "      <td>right</td>\n",
              "    </tr>\n",
              "  </tbody>\n",
              "</table>\n",
              "<p>4960 rows × 4 columns</p>\n",
              "</div>\n",
              "      <button class=\"colab-df-convert\" onclick=\"convertToInteractive('df-26320e5b-7a23-494b-820d-8b711c959be3')\"\n",
              "              title=\"Convert this dataframe to an interactive table.\"\n",
              "              style=\"display:none;\">\n",
              "        \n",
              "  <svg xmlns=\"http://www.w3.org/2000/svg\" height=\"24px\"viewBox=\"0 0 24 24\"\n",
              "       width=\"24px\">\n",
              "    <path d=\"M0 0h24v24H0V0z\" fill=\"none\"/>\n",
              "    <path d=\"M18.56 5.44l.94 2.06.94-2.06 2.06-.94-2.06-.94-.94-2.06-.94 2.06-2.06.94zm-11 1L8.5 8.5l.94-2.06 2.06-.94-2.06-.94L8.5 2.5l-.94 2.06-2.06.94zm10 10l.94 2.06.94-2.06 2.06-.94-2.06-.94-.94-2.06-.94 2.06-2.06.94z\"/><path d=\"M17.41 7.96l-1.37-1.37c-.4-.4-.92-.59-1.43-.59-.52 0-1.04.2-1.43.59L10.3 9.45l-7.72 7.72c-.78.78-.78 2.05 0 2.83L4 21.41c.39.39.9.59 1.41.59.51 0 1.02-.2 1.41-.59l7.78-7.78 2.81-2.81c.8-.78.8-2.07 0-2.86zM5.41 20L4 18.59l7.72-7.72 1.47 1.35L5.41 20z\"/>\n",
              "  </svg>\n",
              "      </button>\n",
              "      \n",
              "  <style>\n",
              "    .colab-df-container {\n",
              "      display:flex;\n",
              "      flex-wrap:wrap;\n",
              "      gap: 12px;\n",
              "    }\n",
              "\n",
              "    .colab-df-convert {\n",
              "      background-color: #E8F0FE;\n",
              "      border: none;\n",
              "      border-radius: 50%;\n",
              "      cursor: pointer;\n",
              "      display: none;\n",
              "      fill: #1967D2;\n",
              "      height: 32px;\n",
              "      padding: 0 0 0 0;\n",
              "      width: 32px;\n",
              "    }\n",
              "\n",
              "    .colab-df-convert:hover {\n",
              "      background-color: #E2EBFA;\n",
              "      box-shadow: 0px 1px 2px rgba(60, 64, 67, 0.3), 0px 1px 3px 1px rgba(60, 64, 67, 0.15);\n",
              "      fill: #174EA6;\n",
              "    }\n",
              "\n",
              "    [theme=dark] .colab-df-convert {\n",
              "      background-color: #3B4455;\n",
              "      fill: #D2E3FC;\n",
              "    }\n",
              "\n",
              "    [theme=dark] .colab-df-convert:hover {\n",
              "      background-color: #434B5C;\n",
              "      box-shadow: 0px 1px 3px 1px rgba(0, 0, 0, 0.15);\n",
              "      filter: drop-shadow(0px 1px 2px rgba(0, 0, 0, 0.3));\n",
              "      fill: #FFFFFF;\n",
              "    }\n",
              "  </style>\n",
              "\n",
              "      <script>\n",
              "        const buttonEl =\n",
              "          document.querySelector('#df-26320e5b-7a23-494b-820d-8b711c959be3 button.colab-df-convert');\n",
              "        buttonEl.style.display =\n",
              "          google.colab.kernel.accessAllowed ? 'block' : 'none';\n",
              "\n",
              "        async function convertToInteractive(key) {\n",
              "          const element = document.querySelector('#df-26320e5b-7a23-494b-820d-8b711c959be3');\n",
              "          const dataTable =\n",
              "            await google.colab.kernel.invokeFunction('convertToInteractive',\n",
              "                                                     [key], {});\n",
              "          if (!dataTable) return;\n",
              "\n",
              "          const docLinkHtml = 'Like what you see? Visit the ' +\n",
              "            '<a target=\"_blank\" href=https://colab.research.google.com/notebooks/data_table.ipynb>data table notebook</a>'\n",
              "            + ' to learn more about interactive tables.';\n",
              "          element.innerHTML = '';\n",
              "          dataTable['output_type'] = 'display_data';\n",
              "          await google.colab.output.renderOutput(dataTable, element);\n",
              "          const docLink = document.createElement('div');\n",
              "          docLink.innerHTML = docLinkHtml;\n",
              "          element.appendChild(docLink);\n",
              "        }\n",
              "      </script>\n",
              "    </div>\n",
              "  </div>\n",
              "  "
            ],
            "text/plain": [
              "            Source  ...         Bias\n",
              "0     berkeleyside  ...  left-center\n",
              "1     berkeleyside  ...  left-center\n",
              "2     berkeleyside  ...  left-center\n",
              "3     berkeleyside  ...  left-center\n",
              "4     berkeleyside  ...  left-center\n",
              "...            ...  ...          ...\n",
              "4955      theblaze  ...        right\n",
              "4956      theblaze  ...        right\n",
              "4957      theblaze  ...        right\n",
              "4958      theblaze  ...        right\n",
              "4959      theblaze  ...        right\n",
              "\n",
              "[4960 rows x 4 columns]"
            ]
          },
          "metadata": {},
          "execution_count": 35
        }
      ]
    },
    {
      "cell_type": "markdown",
      "metadata": {
        "id": "VG21E7jgmlUE"
      },
      "source": [
        "### Text Pre-processing"
      ]
    },
    {
      "cell_type": "code",
      "metadata": {
        "id": "LP0erUy7ohHI"
      },
      "source": [
        "def to_lower(text):\n",
        "  return text.lower()"
      ],
      "execution_count": 36,
      "outputs": []
    },
    {
      "cell_type": "code",
      "metadata": {
        "id": "lkqjdCO8oyzw"
      },
      "source": [
        "import re\n",
        "\n",
        "def remove_numbers(text):\n",
        "  return re.sub(r'\\d+', '', text)"
      ],
      "execution_count": 37,
      "outputs": []
    },
    {
      "cell_type": "code",
      "metadata": {
        "id": "5BHrcs0ZpDqI"
      },
      "source": [
        "import string\n",
        "import numpy as np\n",
        "\n",
        "def remove_puctuation(text):\n",
        "  symbols = \"!\\\"#$%&()'*+-.,—/:;<=>?@[\\]^_`{|}~\\n“‘\"\n",
        "  for i in symbols:\n",
        "    text = text.replace(i, '')\n",
        "  return text"
      ],
      "execution_count": 38,
      "outputs": []
    },
    {
      "cell_type": "code",
      "source": [
        "def preprocess(data):\n",
        "    data = to_lower(data)\n",
        "    data = remove_puctuation(data)\n",
        "    data = remove_numbers(data)\n",
        "    return data"
      ],
      "metadata": {
        "id": "jirIiMv_rkWv"
      },
      "execution_count": 39,
      "outputs": []
    },
    {
      "cell_type": "code",
      "source": [
        "data = df_news_aggregator.iloc[3]['Content']\n",
        "data = preprocess(data)\n",
        "data"
      ],
      "metadata": {
        "colab": {
          "base_uri": "https://localhost:8080/",
          "height": 0
        },
        "id": "iJ9GzLxTLIF9",
        "outputId": "c4632375-4242-4729-e202-b8fb6749dcce"
      },
      "execution_count": 40,
      "outputs": [
        {
          "output_type": "execute_result",
          "data": {
            "application/vnd.google.colaboratory.intrinsic+json": {
              "type": "string"
            },
            "text/plain": [
              "'the war of words between ebay and its new shareholder carl icahn continues to rage on today ebay issued a notice of an upcoming annual meeting in which the company asked shareholders flat out to vote against icahn’s proposal to spin off paypal meanwhile icahn issued yet another open letter against current ebay management in which he accused ceo john donahoe of inexcusable incompetence” that cost stockholders  billion carl icahn has also proposed adding two employees from the icahn group to ebay’s board icahn currently owns  of ebay as of february  ebay has also asked shareholders to reject that proposal on the subject of new board members ebay notes the board of directors does not endorse any icahn group nominee or the icahn proposal and unanimously recommends that you vote on the white proxy card or voting instruction form for all’ of the nominees proposed by the board of directors and against’ the icahn proposal” michael r jacobson company secretary writes in the sec filing the board of directors strongly urges you not to sign or return any proxy card sent to you by the icahn group” and on the subject of the spinoff proposal it is equally unequivocal the board has carefully considered this proposal and has unanimously agreed that spinning off the payments segment paypal into a separately traded public company would not be in the best interests of ebay or its stockholders” it writes the icahn proposal is not a new idea to the board or the company the board together with management and external advisers has assessed a spinoff of paypal several times and continues to believe that each of the company’s payments and commerce segments are stronger together than apart and see compelling benefits to keeping them together therefore the board recommends that you vote against the icahn proposal” from the looks of it the icahn letter doesn’t reveal materially any more information than previous statements from the activist investor but it’s mainly about making sure that they continue to have a fresh statement to match those of ebay it centers specifically on the sale of skype at what icahn believed was not a fair price he claims that donahoe and his advisers should not have spun off the asset to a consortium that included andreessen horowitz and should have instead settled outstanding intellectual property issues itself and sold the asset directly to microsoft or another interested party ebay has issued statements against these accusations already and so has marc andreessen ebay and key people associated with the company have also explained why the split does not make sense ebay has highlighted the synergies between the two companies and also how a lot of paypal’s growth is supported by ebay while reid hoffman argued convincingly about the choice between shortterm profit and longterm value creation paypal has recently started rolling out a new website and it accounted for around  of ebay’s  billion in revenues in  the timeline so far as outlined by ebay in its filing today on january   ebay received a notice from the icahn group indicating that it intended to nominate two icahn group employees to stand for election as directors to the ebay board of directors at ebay’s  annual meeting the notice also included a precatory proposal recommending that ebay act expeditiously to engage an investment banking firm to effectuate a spinoff of ebay’s payments segment into a separately traded company on january   the icahn group notified ebay by letter that it had filed a notice under the hartscottrodino antitrust improvements act of  or hsr act to enable the icahn group to acquire more than  million of ebay’s common stock including any shares that the icahn group may already own on each of january  and january   carl icahn and john donahoe ebay’s president and chief executive officer had telephone conversations concerning the icahn group’s perspectives on ebay and the upcoming annual meeting no agreements or understandings resulted from these conversations on january   in connection with ebay’s earnings release and associated conference call ebay publicly announced that it had received the notice from the icahn group regarding the  annual meeting on february   the icahn group delivered to ebay an update to its january   notice that included revised biographical information regarding one of the icahn group’s proposed nominees and indicated that the icahn group had acquired call options that conferred beneficial ownership of approximately  of ebay’s outstanding common stock on february   the federal trade commission granted early termination of the hsr act waiting period to the icahn group later that day the icahn group notified ebay by letter that it had exercised its call options resulting in the icahn group having beneficial ownership of approximately  of ebay’s outstanding common stock on february   mr icahn spoke with mr donahoe by telephone on february   the icahn group issued an open letter” to ebay stockholders that contained various allegations regarding ebay’s board and seeking support for the icahn proposal ebay responded later that day with a press release stating that the board welcomed discussion of the icahn proposal and rebutting the allegations contained in the icahn group’s letter on february   the icahn group submitted a demand to inspect the company’s books and records pursuant to section  of the delaware general corporation law the icahn demand” and on february   submitted a demand to inspect certain ebay stocklist materials ebay subsequently offered by letter to provide the icahn group with documents responsive to their section  demands in early march  mr donahoe and mr icahn spoke by telephone and subsequently had an inperson meeting during which additional representatives of both parties were present throughout january february and march the icahn group and the company published various solicitation materials image ebay'"
            ]
          },
          "metadata": {},
          "execution_count": 40
        }
      ]
    },
    {
      "cell_type": "markdown",
      "metadata": {
        "id": "rwZiRQ1cmn9U"
      },
      "source": [
        "### Readability"
      ]
    },
    {
      "cell_type": "markdown",
      "metadata": {
        "id": "ht2bJSxbr17R"
      },
      "source": [
        "#### Utils"
      ]
    },
    {
      "cell_type": "code",
      "metadata": {
        "colab": {
          "base_uri": "https://localhost:8080/"
        },
        "id": "C0aUemmQrtM2",
        "outputId": "d57a82e2-4971-48ca-9987-8ce703c792da"
      },
      "source": [
        "pip install textstat"
      ],
      "execution_count": 41,
      "outputs": [
        {
          "output_type": "stream",
          "name": "stdout",
          "text": [
            "Collecting textstat\n",
            "  Downloading textstat-0.7.2-py3-none-any.whl (101 kB)\n",
            "\u001b[K     |████████████████████████████████| 101 kB 5.7 MB/s \n",
            "\u001b[?25hCollecting pyphen\n",
            "  Downloading pyphen-0.11.0-py3-none-any.whl (2.0 MB)\n",
            "\u001b[K     |████████████████████████████████| 2.0 MB 9.2 MB/s \n",
            "\u001b[?25hInstalling collected packages: pyphen, textstat\n",
            "Successfully installed pyphen-0.11.0 textstat-0.7.2\n"
          ]
        }
      ]
    },
    {
      "cell_type": "code",
      "metadata": {
        "id": "Vaf5wreMsO7T"
      },
      "source": [
        "import spacy\n",
        "from textstat.textstat import textstatistics,legacy_round\n",
        "\n",
        "def break_in_sentences(text):\n",
        "\tnlp = spacy.load('en_core_web_sm')\n",
        "\tdoc = nlp(text)\n",
        "\treturn list(doc.sents)\n",
        " \n",
        "def number_of_sentences(text):\n",
        "\tsentences = break_in_sentences(text)\n",
        "\treturn len(sentences)\n",
        "\n",
        "def number_of_words(text):\n",
        "\ttext_sentences = break_in_sentences(text)\n",
        "\tnumber_of_words = 0\n",
        "\tfor sentence in text_sentences:\n",
        "\t\tnumber_of_words += len([token for token in sentence])\n",
        "\treturn number_of_words\n",
        " \n",
        "def number_of_syllables(word):\n",
        "\treturn textstatistics().syllable_count(word)\n",
        "\n",
        "def average_sentence_length(text):\n",
        "\tn_words = number_of_words(text)\n",
        "\tn_sentences = number_of_sentences(text)\n",
        "\taverage_sentence_length = n_words/n_sentences\n",
        "\treturn float(average_sentence_length)\n",
        "\n",
        "def average_number_of_syllables_per_word(text):\n",
        "  n_syllables = number_of_syllables(text)\n",
        "  n_words = number_of_words(text)\n",
        "  ASPW = float(n_syllables) / float(n_words)\n",
        "  return legacy_round(ASPW, 1)\n",
        "\n",
        "def number_of_difficult_words(text):\n",
        "\tnlp = spacy.load('en_core_web_sm')\n",
        "\tdoc = nlp(text)\n",
        "\n",
        "\twords = []\n",
        "\tsentences = break_in_sentences(text)\n",
        "\tfor sentence in sentences:\n",
        "\t\twords += [str(token) for token in sentence]\n",
        "\n",
        "\tdiff_words_set = set()\n",
        "\t\n",
        "\tfor word in words:\n",
        "\t\tsyllable_count = number_of_syllables(word)\n",
        "\t\tif word not in nlp.Defaults.stop_words and syllable_count >= 2:\n",
        "\t\t\tdiff_words_set.add(word)\n",
        "\n",
        "\treturn len(diff_words_set)\n",
        "\n",
        "def number_of_polysyllable_words(text):\n",
        "\tcount = 0\n",
        "\twords = []\n",
        "\tsentences = break_in_sentences(text)\n",
        " \n",
        "\tfor sentence in sentences:\n",
        "\t\twords += [token for token in sentence]\n",
        "\n",
        "\tfor word in words:\n",
        "\t\tsyllable_count = number_of_syllables(word)\n",
        "\t\tif syllable_count >= 3:\n",
        "\t\t\tcount += 1\n",
        "      \n",
        "\treturn count"
      ],
      "execution_count": 42,
      "outputs": []
    },
    {
      "cell_type": "markdown",
      "metadata": {
        "id": "Smg6bXC6r4en"
      },
      "source": [
        "#### Flesch-Kincaid"
      ]
    },
    {
      "cell_type": "code",
      "metadata": {
        "id": "bVoFLu5GsRu8"
      },
      "source": [
        "def flesch_reading_index(text):\n",
        "\tFRE = 206.835 - float(1.015 * average_sentence_length(text)) - float(84.6 * average_number_of_syllables_per_word(text))\n",
        "\treturn legacy_round(FRE, 2)"
      ],
      "execution_count": 43,
      "outputs": []
    },
    {
      "cell_type": "markdown",
      "metadata": {
        "id": "yszbvIIfsEej"
      },
      "source": [
        "#### Dale-Chall"
      ]
    },
    {
      "cell_type": "code",
      "metadata": {
        "id": "_uZISEwosYlP"
      },
      "source": [
        "def dale_chall_index(text):  \n",
        "  n_words = number_of_words(text)\n",
        "  n_difficult_words = number_of_difficult_words(text)\n",
        "  \n",
        "  difficult_words_percentage = 0\n",
        "\n",
        "  if n_words > 0:\n",
        "\t\t difficult_words_percentage = float(n_difficult_words) / float(n_words) * 100\n",
        "\t\n",
        "  DCI = (0.1579 * difficult_words_percentage) + (0.0496 * average_sentence_length(text)) + 3.6365\n",
        "\t\t\n",
        "  return legacy_round(DCI, 2)"
      ],
      "execution_count": 44,
      "outputs": []
    },
    {
      "cell_type": "markdown",
      "metadata": {
        "id": "YBawW_gNsGUk"
      },
      "source": [
        "#### Gunning Fog"
      ]
    },
    {
      "cell_type": "code",
      "metadata": {
        "id": "J15c2yLKsUID"
      },
      "source": [
        "def gunning_fog(text):\n",
        "    difficult_words_percentage = (number_of_difficult_words(text) / number_of_words(text)) * 100\n",
        "    GFI = 0.4 * (average_sentence_length(text) + difficult_words_percentage)\n",
        "    return GFI"
      ],
      "execution_count": 45,
      "outputs": []
    },
    {
      "cell_type": "markdown",
      "source": [
        "#### Tests"
      ],
      "metadata": {
        "id": "meS1vddOTc-d"
      }
    },
    {
      "cell_type": "code",
      "source": [
        "text_to_test = df_news_aggregator.loc[1000]['Content']"
      ],
      "metadata": {
        "id": "4bdaFfaATfmC"
      },
      "execution_count": 46,
      "outputs": []
    },
    {
      "cell_type": "code",
      "source": [
        "flesch_reading_index(text_to_test)"
      ],
      "metadata": {
        "colab": {
          "base_uri": "https://localhost:8080/"
        },
        "id": "TzHLxMlJUmrc",
        "outputId": "ca9f3865-ca18-43e0-9420-637596c80890"
      },
      "execution_count": 47,
      "outputs": [
        {
          "output_type": "execute_result",
          "data": {
            "text/plain": [
              "91.57"
            ]
          },
          "metadata": {},
          "execution_count": 47
        }
      ]
    },
    {
      "cell_type": "code",
      "source": [
        "dale_chall_index(text_to_test)"
      ],
      "metadata": {
        "colab": {
          "base_uri": "https://localhost:8080/"
        },
        "id": "EKUKJbSlVIEZ",
        "outputId": "15cfcdcd-f4e2-4e6c-8484-b17b14a452e2"
      },
      "execution_count": 48,
      "outputs": [
        {
          "output_type": "execute_result",
          "data": {
            "text/plain": [
              "6.84"
            ]
          },
          "metadata": {},
          "execution_count": 48
        }
      ]
    },
    {
      "cell_type": "code",
      "source": [
        "gunning_fog(text_to_test)"
      ],
      "metadata": {
        "colab": {
          "base_uri": "https://localhost:8080/"
        },
        "id": "ha1-9B1JVanz",
        "outputId": "79788eef-ace0-4164-895f-154dfd506a63"
      },
      "execution_count": 49,
      "outputs": [
        {
          "output_type": "execute_result",
          "data": {
            "text/plain": [
              "14.121428571428574"
            ]
          },
          "metadata": {},
          "execution_count": 49
        }
      ]
    },
    {
      "cell_type": "markdown",
      "source": [
        "#### Dataset features"
      ],
      "metadata": {
        "id": "Q82zstqVZl_H"
      }
    },
    {
      "cell_type": "code",
      "source": [
        "df_features_news_aggregator_names = [\"Flesch-Kincaid\", \"Dale-Chall\", \"Bias\"]\n",
        "df_features_news_aggregator = pd.DataFrame(columns = df_features_news_aggregator_names)"
      ],
      "metadata": {
        "id": "_jmVUSHHaHyu"
      },
      "execution_count": 50,
      "outputs": []
    },
    {
      "cell_type": "code",
      "source": [
        "for index, row in df_news_aggregator[:1].iterrows():\n",
        "  text = row['Content']\n",
        "  bias = row['Bias']\n",
        "  flesch_kincaid = flesch_reading_index(text)\n",
        "  dale_chall = dale_chall_index(text)\n",
        "  df_features_news_aggregator = df_features_news_aggregator.append({'Flesch-Kincaid': flesch_kincaid, 'Dale-Chall': dale_chall, 'Bias': bias}, ignore_index=True)"
      ],
      "metadata": {
        "id": "H-tX8AQ4ZohI"
      },
      "execution_count": 51,
      "outputs": []
    },
    {
      "cell_type": "code",
      "source": [
        "df_features_news_aggregator"
      ],
      "metadata": {
        "colab": {
          "base_uri": "https://localhost:8080/",
          "height": 0
        },
        "id": "4dCUaUxAdCfH",
        "outputId": "f00af22e-e905-491b-aa35-877c9bb6387c"
      },
      "execution_count": 52,
      "outputs": [
        {
          "output_type": "execute_result",
          "data": {
            "text/html": [
              "\n",
              "  <div id=\"df-ce7ec555-4d74-4d89-b483-34b91f1d59b1\">\n",
              "    <div class=\"colab-df-container\">\n",
              "      <div>\n",
              "<style scoped>\n",
              "    .dataframe tbody tr th:only-of-type {\n",
              "        vertical-align: middle;\n",
              "    }\n",
              "\n",
              "    .dataframe tbody tr th {\n",
              "        vertical-align: top;\n",
              "    }\n",
              "\n",
              "    .dataframe thead th {\n",
              "        text-align: right;\n",
              "    }\n",
              "</style>\n",
              "<table border=\"1\" class=\"dataframe\">\n",
              "  <thead>\n",
              "    <tr style=\"text-align: right;\">\n",
              "      <th></th>\n",
              "      <th>Flesch-Kincaid</th>\n",
              "      <th>Dale-Chall</th>\n",
              "      <th>Bias</th>\n",
              "    </tr>\n",
              "  </thead>\n",
              "  <tbody>\n",
              "    <tr>\n",
              "      <th>0</th>\n",
              "      <td>69.02</td>\n",
              "      <td>8.53</td>\n",
              "      <td>right-center</td>\n",
              "    </tr>\n",
              "  </tbody>\n",
              "</table>\n",
              "</div>\n",
              "      <button class=\"colab-df-convert\" onclick=\"convertToInteractive('df-ce7ec555-4d74-4d89-b483-34b91f1d59b1')\"\n",
              "              title=\"Convert this dataframe to an interactive table.\"\n",
              "              style=\"display:none;\">\n",
              "        \n",
              "  <svg xmlns=\"http://www.w3.org/2000/svg\" height=\"24px\"viewBox=\"0 0 24 24\"\n",
              "       width=\"24px\">\n",
              "    <path d=\"M0 0h24v24H0V0z\" fill=\"none\"/>\n",
              "    <path d=\"M18.56 5.44l.94 2.06.94-2.06 2.06-.94-2.06-.94-.94-2.06-.94 2.06-2.06.94zm-11 1L8.5 8.5l.94-2.06 2.06-.94-2.06-.94L8.5 2.5l-.94 2.06-2.06.94zm10 10l.94 2.06.94-2.06 2.06-.94-2.06-.94-.94-2.06-.94 2.06-2.06.94z\"/><path d=\"M17.41 7.96l-1.37-1.37c-.4-.4-.92-.59-1.43-.59-.52 0-1.04.2-1.43.59L10.3 9.45l-7.72 7.72c-.78.78-.78 2.05 0 2.83L4 21.41c.39.39.9.59 1.41.59.51 0 1.02-.2 1.41-.59l7.78-7.78 2.81-2.81c.8-.78.8-2.07 0-2.86zM5.41 20L4 18.59l7.72-7.72 1.47 1.35L5.41 20z\"/>\n",
              "  </svg>\n",
              "      </button>\n",
              "      \n",
              "  <style>\n",
              "    .colab-df-container {\n",
              "      display:flex;\n",
              "      flex-wrap:wrap;\n",
              "      gap: 12px;\n",
              "    }\n",
              "\n",
              "    .colab-df-convert {\n",
              "      background-color: #E8F0FE;\n",
              "      border: none;\n",
              "      border-radius: 50%;\n",
              "      cursor: pointer;\n",
              "      display: none;\n",
              "      fill: #1967D2;\n",
              "      height: 32px;\n",
              "      padding: 0 0 0 0;\n",
              "      width: 32px;\n",
              "    }\n",
              "\n",
              "    .colab-df-convert:hover {\n",
              "      background-color: #E2EBFA;\n",
              "      box-shadow: 0px 1px 2px rgba(60, 64, 67, 0.3), 0px 1px 3px 1px rgba(60, 64, 67, 0.15);\n",
              "      fill: #174EA6;\n",
              "    }\n",
              "\n",
              "    [theme=dark] .colab-df-convert {\n",
              "      background-color: #3B4455;\n",
              "      fill: #D2E3FC;\n",
              "    }\n",
              "\n",
              "    [theme=dark] .colab-df-convert:hover {\n",
              "      background-color: #434B5C;\n",
              "      box-shadow: 0px 1px 3px 1px rgba(0, 0, 0, 0.15);\n",
              "      filter: drop-shadow(0px 1px 2px rgba(0, 0, 0, 0.3));\n",
              "      fill: #FFFFFF;\n",
              "    }\n",
              "  </style>\n",
              "\n",
              "      <script>\n",
              "        const buttonEl =\n",
              "          document.querySelector('#df-ce7ec555-4d74-4d89-b483-34b91f1d59b1 button.colab-df-convert');\n",
              "        buttonEl.style.display =\n",
              "          google.colab.kernel.accessAllowed ? 'block' : 'none';\n",
              "\n",
              "        async function convertToInteractive(key) {\n",
              "          const element = document.querySelector('#df-ce7ec555-4d74-4d89-b483-34b91f1d59b1');\n",
              "          const dataTable =\n",
              "            await google.colab.kernel.invokeFunction('convertToInteractive',\n",
              "                                                     [key], {});\n",
              "          if (!dataTable) return;\n",
              "\n",
              "          const docLinkHtml = 'Like what you see? Visit the ' +\n",
              "            '<a target=\"_blank\" href=https://colab.research.google.com/notebooks/data_table.ipynb>data table notebook</a>'\n",
              "            + ' to learn more about interactive tables.';\n",
              "          element.innerHTML = '';\n",
              "          dataTable['output_type'] = 'display_data';\n",
              "          await google.colab.output.renderOutput(dataTable, element);\n",
              "          const docLink = document.createElement('div');\n",
              "          docLink.innerHTML = docLinkHtml;\n",
              "          element.appendChild(docLink);\n",
              "        }\n",
              "      </script>\n",
              "    </div>\n",
              "  </div>\n",
              "  "
            ],
            "text/plain": [
              "   Flesch-Kincaid  Dale-Chall          Bias\n",
              "0           69.02        8.53  right-center"
            ]
          },
          "metadata": {},
          "execution_count": 52
        }
      ]
    },
    {
      "cell_type": "markdown",
      "source": [
        "### n-grams"
      ],
      "metadata": {
        "id": "fu2tmuDAY0b1"
      }
    },
    {
      "cell_type": "code",
      "source": [
        "import re\n",
        "\n",
        "def generate_ngrams(s, n):\n",
        "    s = s.lower()\n",
        "    s = re.sub(r'[^a-zA-Z0-9\\s]', ' ', s)\n",
        "    tokens = [token for token in s.split(\" \") if token != \"\"]\n",
        "    ngrams = zip(*[tokens[i:] for i in range(n)])\n",
        "    return [\" \".join(ngram) for ngram in ngrams]"
      ],
      "metadata": {
        "id": "wZC1vjYdY3lP"
      },
      "execution_count": 53,
      "outputs": []
    },
    {
      "cell_type": "code",
      "source": [
        "unigram = generate_ngrams(text_to_test, 1)\n",
        "bigram = generate_ngrams(text_to_test, 2)"
      ],
      "metadata": {
        "id": "-0PTAIKJZCdX"
      },
      "execution_count": 54,
      "outputs": []
    },
    {
      "cell_type": "markdown",
      "source": [
        "### TF-IDF"
      ],
      "metadata": {
        "id": "hWFDCeeYrT9m"
      }
    },
    {
      "cell_type": "markdown",
      "source": [
        "#### Utils"
      ],
      "metadata": {
        "id": "Np0tN09v3NbD"
      }
    },
    {
      "cell_type": "code",
      "source": [
        "def compute_TF(word_dict, bag_of_words):\n",
        "    tf_dict = {}\n",
        "    bag_of_words_count = len(bag_of_words)\n",
        "    for word, count in word_dict.items():\n",
        "        tf_dict[word] = count / float(bag_of_words_count)\n",
        "    return tf_dict"
      ],
      "metadata": {
        "id": "xqodv0pq1y2n"
      },
      "execution_count": 55,
      "outputs": []
    },
    {
      "cell_type": "code",
      "source": [
        "import math\n",
        "\n",
        "def compute_IDF(documents):\n",
        "    N = len(documents)\n",
        "    \n",
        "    idf_dict = dict.fromkeys(documents[0].keys(), 0)\n",
        "    for document in documents:\n",
        "        for word, val in document.items():\n",
        "            if val > 0:\n",
        "                idf_dict[word] += 1\n",
        "    \n",
        "    for word, val in idf_dict.items():\n",
        "        idf_dict[word] = math.log(N / float(val))\n",
        "    return idf_dict"
      ],
      "metadata": {
        "id": "g8746c2Y1_s-"
      },
      "execution_count": 56,
      "outputs": []
    },
    {
      "cell_type": "code",
      "source": [
        "def compute_TF_IDF(tf_bag_of_words, idfs):\n",
        "    tf_idf = {}\n",
        "    for word, val in tf_bag_of_words.items():\n",
        "        tf_idf[word] = val * idfs[word]\n",
        "    return tf_idf"
      ],
      "metadata": {
        "id": "jWbxNSRQ2LGp"
      },
      "execution_count": 57,
      "outputs": []
    },
    {
      "cell_type": "markdown",
      "source": [
        "#### Tests"
      ],
      "metadata": {
        "id": "vOdVjuHj3QBw"
      }
    },
    {
      "cell_type": "code",
      "source": [
        "corpus_news_aggregator_left = \"\"\n",
        "corpus_news_aggregator_right = \"\"\n",
        "\n",
        "for index, row in df_news_aggregator.iterrows():\n",
        "    text = row['Content']\n",
        "    if 'left' in row['Bias']:\n",
        "        corpus_news_aggregator_left += preprocess(text)\n",
        "    else: \n",
        "        corpus_news_aggregator_right += preprocess(text)"
      ],
      "metadata": {
        "id": "Qd3ByI2GrV6M"
      },
      "execution_count": 64,
      "outputs": []
    },
    {
      "cell_type": "code",
      "source": [
        "bag_of_words_news_aggregator_left = corpus_news_aggregator_left.split(' ')"
      ],
      "metadata": {
        "id": "zdG1sXcv1MD4"
      },
      "execution_count": 65,
      "outputs": []
    },
    {
      "cell_type": "code",
      "source": [
        "bag_of_words_news_aggregator_right = corpus_news_aggregator_right.split(' ')"
      ],
      "metadata": {
        "id": "LahTuo4i1Nkd"
      },
      "execution_count": 66,
      "outputs": []
    },
    {
      "cell_type": "code",
      "source": [
        "from sklearn.feature_extraction.text import TfidfVectorizer\n",
        "\n",
        "unique_words = set(bag_of_words_news_aggregator_left).union(set(bag_of_words_news_aggregator_right))\n",
        "\n",
        "number_of_words_left = dict.fromkeys(unique_words, 0)\n",
        "for word in bag_of_words_news_aggregator_left:\n",
        "    number_of_words_left[word] += 1\n",
        "\n",
        "number_of_words_right = dict.fromkeys(unique_words, 0)\n",
        "for word in bag_of_words_news_aggregator_right:\n",
        "    number_of_words_right[word] += 1"
      ],
      "metadata": {
        "id": "4M0MteyEziKJ"
      },
      "execution_count": 67,
      "outputs": []
    },
    {
      "cell_type": "code",
      "source": [
        "tf_left = compute_TF(number_of_words_left, bag_of_words_news_aggregator_left)\n",
        "tf_right = compute_TF(number_of_words_right, bag_of_words_news_aggregator_right)"
      ],
      "metadata": {
        "id": "__Egk16c2cq9"
      },
      "execution_count": 76,
      "outputs": []
    }
  ]
}