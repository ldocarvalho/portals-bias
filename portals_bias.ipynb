{
  "nbformat": 4,
  "nbformat_minor": 0,
  "metadata": {
    "colab": {
      "name": "portals-bias.ipynb",
      "provenance": [],
      "collapsed_sections": [
        "_z2CxtgK2HFd",
        "VG21E7jgmlUE",
        "ht2bJSxbr17R",
        "Smg6bXC6r4en",
        "yszbvIIfsEej",
        "YBawW_gNsGUk"
      ],
      "toc_visible": true,
      "authorship_tag": "ABX9TyMGqKCHmlngZw3Pe6tA1ySx",
      "include_colab_link": true
    },
    "kernelspec": {
      "name": "python3",
      "display_name": "Python 3"
    },
    "language_info": {
      "name": "python"
    }
  },
  "cells": [
    {
      "cell_type": "markdown",
      "metadata": {
        "id": "view-in-github",
        "colab_type": "text"
      },
      "source": [
        "<a href=\"https://colab.research.google.com/github/ldocarvalho/portals-bias/blob/main/portals_bias.ipynb\" target=\"_parent\"><img src=\"https://colab.research.google.com/assets/colab-badge.svg\" alt=\"Open In Colab\"/></a>"
      ]
    },
    {
      "cell_type": "markdown",
      "source": [
        "### Dados"
      ],
      "metadata": {
        "id": "_z2CxtgK2HFd"
      }
    },
    {
      "cell_type": "code",
      "source": [
        "import pandas as pd"
      ],
      "metadata": {
        "id": "NDs2LQWJSHIX"
      },
      "execution_count": 5,
      "outputs": []
    },
    {
      "cell_type": "code",
      "source": [
        "df_names = [\"Source\",\"Title\",\"Content\",\"Bias\"]\n",
        "df_news_aggregator = pd.read_csv('https://raw.githubusercontent.com/ldocarvalho/portals-bias/main/Dataset/News-Aggregator-14/news-aggregator.csv?token=AKX52J7EV5Y2TFAPAPLJ3Q3BYDMV2', names = df_names, skiprows = 1, header = None)\n",
        "df_news_aggregator"
      ],
      "metadata": {
        "id": "fPzFw21W2IiV",
        "colab": {
          "base_uri": "https://localhost:8080/",
          "height": 424
        },
        "outputId": "288c8c3c-2353-472c-f4ed-9549a8fc4cbf"
      },
      "execution_count": 9,
      "outputs": [
        {
          "output_type": "execute_result",
          "data": {
            "text/html": [
              "<div>\n",
              "<style scoped>\n",
              "    .dataframe tbody tr th:only-of-type {\n",
              "        vertical-align: middle;\n",
              "    }\n",
              "\n",
              "    .dataframe tbody tr th {\n",
              "        vertical-align: top;\n",
              "    }\n",
              "\n",
              "    .dataframe thead th {\n",
              "        text-align: right;\n",
              "    }\n",
              "</style>\n",
              "<table border=\"1\" class=\"dataframe\">\n",
              "  <thead>\n",
              "    <tr style=\"text-align: right;\">\n",
              "      <th></th>\n",
              "      <th>Source</th>\n",
              "      <th>Title</th>\n",
              "      <th>Content</th>\n",
              "      <th>Bias</th>\n",
              "    </tr>\n",
              "  </thead>\n",
              "  <tbody>\n",
              "    <tr>\n",
              "      <th>0</th>\n",
              "      <td>wsj.com</td>\n",
              "      <td>EU Week Ahead March 10-14: Bank Resolution, Tr...</td>\n",
              "      <td>The European Union’s to-do list isn’t long thi...</td>\n",
              "      <td>right-center</td>\n",
              "    </tr>\n",
              "    <tr>\n",
              "      <th>1</th>\n",
              "      <td>wsj.com</td>\n",
              "      <td>ECB's Noyer not Happy With Euro Strength -- Up...</td>\n",
              "      <td>News Corp is a network of leading companies in...</td>\n",
              "      <td>right-center</td>\n",
              "    </tr>\n",
              "    <tr>\n",
              "      <th>2</th>\n",
              "      <td>seattlepi.com</td>\n",
              "      <td>EBay, Icahn talk smack</td>\n",
              "      <td>Follow @csaid EBay has come out swinging again...</td>\n",
              "      <td>left-center</td>\n",
              "    </tr>\n",
              "    <tr>\n",
              "      <th>3</th>\n",
              "      <td>techcrunch.com</td>\n",
              "      <td>EBay Asks Shareholders To Vote Against PayPal ...</td>\n",
              "      <td>The war of words between eBay and its new shar...</td>\n",
              "      <td>left-center</td>\n",
              "    </tr>\n",
              "    <tr>\n",
              "      <th>4</th>\n",
              "      <td>valuewalk.com</td>\n",
              "      <td>Carl Icahn: Donahoe Cost eBay Investors More T...</td>\n",
              "      <td>Carl Icahn has again posted an open letter on ...</td>\n",
              "      <td>right-center</td>\n",
              "    </tr>\n",
              "    <tr>\n",
              "      <th>...</th>\n",
              "      <td>...</td>\n",
              "      <td>...</td>\n",
              "      <td>...</td>\n",
              "      <td>...</td>\n",
              "    </tr>\n",
              "    <tr>\n",
              "      <th>1795</th>\n",
              "      <td>newsone.com</td>\n",
              "      <td>NewsOne Minute: Chris Rock Interviews White Pe...</td>\n",
              "      <td>Chris Rock Interviews White People at a Monste...</td>\n",
              "      <td>left-center</td>\n",
              "    </tr>\n",
              "    <tr>\n",
              "      <th>1796</th>\n",
              "      <td>twitchy.com</td>\n",
              "      <td>Chart-topping songwriter Diane Warren: Hope so...</td>\n",
              "      <td>Texas cheerleader and big-game hunter Kendall ...</td>\n",
              "      <td>right</td>\n",
              "    </tr>\n",
              "    <tr>\n",
              "      <th>1797</th>\n",
              "      <td>twitchy.com</td>\n",
              "      <td>Reality star Joanna Krupa would love to see ‘t...</td>\n",
              "      <td>Model Joanna Krupa is known for her stints on ...</td>\n",
              "      <td>right</td>\n",
              "    </tr>\n",
              "    <tr>\n",
              "      <th>1798</th>\n",
              "      <td>austinchronicle.com</td>\n",
              "      <td>Elaine Stritch (1925-2014)</td>\n",
              "      <td>During her seven decades as a \"Broadway Baby\" ...</td>\n",
              "      <td>left</td>\n",
              "    </tr>\n",
              "    <tr>\n",
              "      <th>1799</th>\n",
              "      <td>powerlineblog.com</td>\n",
              "      <td>The Awful Jobs Picture: 6.2% Unemployment Is O...</td>\n",
              "      <td>The Labor Department reported today that the e...</td>\n",
              "      <td>right</td>\n",
              "    </tr>\n",
              "  </tbody>\n",
              "</table>\n",
              "<p>1800 rows × 4 columns</p>\n",
              "</div>"
            ],
            "text/plain": [
              "                   Source  ...          Bias\n",
              "0                 wsj.com  ...  right-center\n",
              "1                 wsj.com  ...  right-center\n",
              "2           seattlepi.com  ...   left-center\n",
              "3          techcrunch.com  ...   left-center\n",
              "4           valuewalk.com  ...  right-center\n",
              "...                   ...  ...           ...\n",
              "1795          newsone.com  ...   left-center\n",
              "1796          twitchy.com  ...         right\n",
              "1797          twitchy.com  ...         right\n",
              "1798  austinchronicle.com  ...          left\n",
              "1799    powerlineblog.com  ...         right\n",
              "\n",
              "[1800 rows x 4 columns]"
            ]
          },
          "metadata": {},
          "execution_count": 9
        }
      ]
    },
    {
      "cell_type": "code",
      "source": [
        "df_news_july = pd.read_csv('https://raw.githubusercontent.com/ldocarvalho/portals-bias/main/Dataset/News-July-19/news-july.csv?token=AKX52J5KQ3NIC6K7PWM7XPLBYDNKA', names = df_names, skiprows = 1, header = None)\n",
        "df_news_july"
      ],
      "metadata": {
        "colab": {
          "base_uri": "https://localhost:8080/",
          "height": 424
        },
        "id": "E8amovQMSZXs",
        "outputId": "32351229-9e86-4e69-bf73-2d08aee08006"
      },
      "execution_count": 10,
      "outputs": [
        {
          "output_type": "execute_result",
          "data": {
            "text/html": [
              "<div>\n",
              "<style scoped>\n",
              "    .dataframe tbody tr th:only-of-type {\n",
              "        vertical-align: middle;\n",
              "    }\n",
              "\n",
              "    .dataframe tbody tr th {\n",
              "        vertical-align: top;\n",
              "    }\n",
              "\n",
              "    .dataframe thead th {\n",
              "        text-align: right;\n",
              "    }\n",
              "</style>\n",
              "<table border=\"1\" class=\"dataframe\">\n",
              "  <thead>\n",
              "    <tr style=\"text-align: right;\">\n",
              "      <th></th>\n",
              "      <th>Source</th>\n",
              "      <th>Title</th>\n",
              "      <th>Content</th>\n",
              "      <th>Bias</th>\n",
              "    </tr>\n",
              "  </thead>\n",
              "  <tbody>\n",
              "    <tr>\n",
              "      <th>0</th>\n",
              "      <td>berkeleyside</td>\n",
              "      <td>ArchivesJune 10, 2019</td>\n",
              "      <td>When the homeowner did not voluntarily repair ...</td>\n",
              "      <td>left-center</td>\n",
              "    </tr>\n",
              "    <tr>\n",
              "      <th>1</th>\n",
              "      <td>berkeleyside</td>\n",
              "      <td>Berkeley homeowner caught in costly code viola...</td>\n",
              "      <td>Finger-pointing, confusion, worry and mistrust...</td>\n",
              "      <td>left-center</td>\n",
              "    </tr>\n",
              "    <tr>\n",
              "      <th>2</th>\n",
              "      <td>berkeleyside</td>\n",
              "      <td>A small-business success story, Yalis Caf cele...</td>\n",
              "      <td>Yali's Caf 1920 Oxford St. (at Berkeley Way), ...</td>\n",
              "      <td>left-center</td>\n",
              "    </tr>\n",
              "    <tr>\n",
              "      <th>3</th>\n",
              "      <td>berkeleyside</td>\n",
              "      <td>Shop Talk: Bluemercury; Airport Home Appliance...</td>\n",
              "      <td>BLUEMERCURY A new business is opening in the o...</td>\n",
              "      <td>left-center</td>\n",
              "    </tr>\n",
              "    <tr>\n",
              "      <th>4</th>\n",
              "      <td>berkeleyside</td>\n",
              "      <td>New vision plan imagines 3-mile greenway from ...</td>\n",
              "      <td>Imagine a bike and pedestrian path stretching ...</td>\n",
              "      <td>left-center</td>\n",
              "    </tr>\n",
              "    <tr>\n",
              "      <th>...</th>\n",
              "      <td>...</td>\n",
              "      <td>...</td>\n",
              "      <td>...</td>\n",
              "      <td>...</td>\n",
              "    </tr>\n",
              "    <tr>\n",
              "      <th>4955</th>\n",
              "      <td>theblaze</td>\n",
              "      <td>Bill Cosbys official Instagram account shares ...</td>\n",
              "      <td>The official Instagram account of actor Bill C...</td>\n",
              "      <td>right</td>\n",
              "    </tr>\n",
              "    <tr>\n",
              "      <th>4956</th>\n",
              "      <td>theblaze</td>\n",
              "      <td>WATCH: Students condemn racist remarks they be...</td>\n",
              "      <td>Students at Marymount University in Virginia b...</td>\n",
              "      <td>right</td>\n",
              "    </tr>\n",
              "    <tr>\n",
              "      <th>4957</th>\n",
              "      <td>theblaze</td>\n",
              "      <td>Republicans propose constitutional amendment t...</td>\n",
              "      <td>President Donald Trump is supporting a propose...</td>\n",
              "      <td>right</td>\n",
              "    </tr>\n",
              "    <tr>\n",
              "      <th>4958</th>\n",
              "      <td>theblaze</td>\n",
              "      <td>108 GOP lawmakers sign letter asking Trump to ...</td>\n",
              "      <td>More than a hundred Republican members of Cong...</td>\n",
              "      <td>right</td>\n",
              "    </tr>\n",
              "    <tr>\n",
              "      <th>4959</th>\n",
              "      <td>theblaze</td>\n",
              "      <td>Despite Trump's threat to close border, Mexico...</td>\n",
              "      <td>Mexico will not militarize its southern border...</td>\n",
              "      <td>right</td>\n",
              "    </tr>\n",
              "  </tbody>\n",
              "</table>\n",
              "<p>4960 rows × 4 columns</p>\n",
              "</div>"
            ],
            "text/plain": [
              "            Source  ...         Bias\n",
              "0     berkeleyside  ...  left-center\n",
              "1     berkeleyside  ...  left-center\n",
              "2     berkeleyside  ...  left-center\n",
              "3     berkeleyside  ...  left-center\n",
              "4     berkeleyside  ...  left-center\n",
              "...            ...  ...          ...\n",
              "4955      theblaze  ...        right\n",
              "4956      theblaze  ...        right\n",
              "4957      theblaze  ...        right\n",
              "4958      theblaze  ...        right\n",
              "4959      theblaze  ...        right\n",
              "\n",
              "[4960 rows x 4 columns]"
            ]
          },
          "metadata": {},
          "execution_count": 10
        }
      ]
    },
    {
      "cell_type": "markdown",
      "metadata": {
        "id": "VG21E7jgmlUE"
      },
      "source": [
        "### Text Preprocessing"
      ]
    },
    {
      "cell_type": "code",
      "metadata": {
        "id": "LP0erUy7ohHI"
      },
      "source": [
        "def to_lower(text):\n",
        "  return text.lower()"
      ],
      "execution_count": null,
      "outputs": []
    },
    {
      "cell_type": "code",
      "metadata": {
        "id": "aCtMcLyiEg-I"
      },
      "source": [
        "def to_upper(text):\n",
        "  return text.upper()"
      ],
      "execution_count": null,
      "outputs": []
    },
    {
      "cell_type": "code",
      "metadata": {
        "id": "lkqjdCO8oyzw"
      },
      "source": [
        "import re\n",
        "\n",
        "def remove_numbers(text):\n",
        "  return re.sub(r'\\d+', '', text)"
      ],
      "execution_count": null,
      "outputs": []
    },
    {
      "cell_type": "code",
      "metadata": {
        "id": "5BHrcs0ZpDqI"
      },
      "source": [
        "import string\n",
        "\n",
        "def remove_puctuation(text):\n",
        "  return text.translate(string.maketrans('',''), string.punctuation)"
      ],
      "execution_count": null,
      "outputs": []
    },
    {
      "cell_type": "code",
      "metadata": {
        "id": "CvYqcIWapMC1"
      },
      "source": [
        "def remove_whitespace(text):\n",
        "  return text.strip()"
      ],
      "execution_count": null,
      "outputs": []
    },
    {
      "cell_type": "code",
      "metadata": {
        "id": "Wt4l2g9BpRGQ"
      },
      "source": [
        "from nltk.tokenize import word_tokenize\n",
        "\n",
        "def remove_stopword(text):\n",
        "  stop_words = set(stopwords.words('english'))\n",
        "  tokens = word_tokenize(text)\n",
        "  return [i for i in tokens if not i in stop_words]"
      ],
      "execution_count": null,
      "outputs": []
    },
    {
      "cell_type": "code",
      "metadata": {
        "id": "_yJB7kCVFeoi"
      },
      "source": [
        "import re\n",
        "\n",
        "def remove_urls(text):\n",
        "  no_url_text = re.compile(r'https?://\\S+|www\\.\\S+')\n",
        "  return no_url_text.sub(r'', text)"
      ],
      "execution_count": null,
      "outputs": []
    },
    {
      "cell_type": "code",
      "metadata": {
        "id": "hGOvTyf7Fpxm"
      },
      "source": [
        "import re\n",
        "\n",
        "def remove_html(text):\n",
        "    no_html_text = re.compile('<.*?>')\n",
        "    return no_html_text.sub(r'', text)"
      ],
      "execution_count": null,
      "outputs": []
    },
    {
      "cell_type": "code",
      "metadata": {
        "id": "wLYZBJyDE1K9"
      },
      "source": [
        "import re\n",
        "\n",
        "def tokenization(text):\n",
        "  tokens = re.split('W+',text)\n",
        "  return tokens"
      ],
      "execution_count": null,
      "outputs": []
    },
    {
      "cell_type": "code",
      "metadata": {
        "id": "_aYKf73UE_iw"
      },
      "source": [
        "from nltk.stem.porter import PorterStemmer\n",
        "porter_stemmer = PorterStemmer()\n",
        "\n",
        "def stemming(text):\n",
        "  stem_text = [porter_stemmer.stem(word) for word in text]\n",
        "  return stem_text"
      ],
      "execution_count": null,
      "outputs": []
    },
    {
      "cell_type": "markdown",
      "metadata": {
        "id": "rwZiRQ1cmn9U"
      },
      "source": [
        "### Readability"
      ]
    },
    {
      "cell_type": "markdown",
      "metadata": {
        "id": "ht2bJSxbr17R"
      },
      "source": [
        "#### Utils"
      ]
    },
    {
      "cell_type": "code",
      "metadata": {
        "colab": {
          "base_uri": "https://localhost:8080/"
        },
        "id": "C0aUemmQrtM2",
        "outputId": "24c00fcd-f420-4b62-c449-068a20105462"
      },
      "source": [
        "pip install textstat"
      ],
      "execution_count": 25,
      "outputs": [
        {
          "output_type": "stream",
          "name": "stdout",
          "text": [
            "Collecting textstat\n",
            "  Downloading textstat-0.7.2-py3-none-any.whl (101 kB)\n",
            "\u001b[K     |████████████████████████████████| 101 kB 5.4 MB/s \n",
            "\u001b[?25hCollecting pyphen\n",
            "  Downloading pyphen-0.11.0-py3-none-any.whl (2.0 MB)\n",
            "\u001b[K     |████████████████████████████████| 2.0 MB 46.2 MB/s \n",
            "\u001b[?25hInstalling collected packages: pyphen, textstat\n",
            "Successfully installed pyphen-0.11.0 textstat-0.7.2\n"
          ]
        }
      ]
    },
    {
      "cell_type": "code",
      "metadata": {
        "id": "Vaf5wreMsO7T"
      },
      "source": [
        "import spacy\n",
        "from textstat.textstat import textstatistics,legacy_round\n",
        "\n",
        "def break_in_sentences(text):\n",
        "\tnlp = spacy.load('en_core_web_sm')\n",
        "\tdoc = nlp(text)\n",
        "\treturn list(doc.sents)\n",
        " \n",
        "def number_of_sentences(text):\n",
        "\tsentences = break_in_sentences(text)\n",
        "\treturn len(sentences)\n",
        "\n",
        "def number_of_words(text):\n",
        "\ttext_sentences = break_in_sentences(text)\n",
        "\tnumber_of_words = 0\n",
        "\tfor sentence in text_sentences:\n",
        "\t\tnumber_of_words += len([token for token in sentence])\n",
        "\treturn number_of_words\n",
        " \n",
        "def number_of_syllables(word):\n",
        "\treturn textstatistics().syllable_count(word)\n",
        "\n",
        "def average_sentence_length(text):\n",
        "\tn_words = number_of_words(text)\n",
        "\tn_sentences = number_of_sentences(text)\n",
        "\taverage_sentence_length = n_words/n_sentences\n",
        "\treturn float(average_sentence_length)\n",
        "\n",
        "def average_number_of_syllables_per_word(text):\n",
        "  n_syllables = number_of_syllables(text)\n",
        "  n_words = number_of_words(text)\n",
        "  ASPW = float(n_syllables) / float(n_words)\n",
        "  return legacy_round(ASPW, 1)\n",
        "\n",
        "def number_of_difficult_words(text):\n",
        "\tnlp = spacy.load('en_core_web_sm')\n",
        "\tdoc = nlp(text)\n",
        "\n",
        "\twords = []\n",
        "\tsentences = break_in_sentences(text)\n",
        "\tfor sentence in sentences:\n",
        "\t\twords += [str(token) for token in sentence]\n",
        "\n",
        "\tdiff_words_set = set()\n",
        "\t\n",
        "\tfor word in words:\n",
        "\t\tsyllable_count = number_of_syllables(word)\n",
        "\t\tif word not in nlp.Defaults.stop_words and syllable_count >= 2:\n",
        "\t\t\tdiff_words_set.add(word)\n",
        "\n",
        "\treturn len(diff_words_set)\n",
        "\n",
        "def number_of_polysyllable_words(text):\n",
        "\tcount = 0\n",
        "\twords = []\n",
        "\tsentences = break_in_sentences(text)\n",
        " \n",
        "\tfor sentence in sentences:\n",
        "\t\twords += [token for token in sentence]\n",
        "\n",
        "\tfor word in words:\n",
        "\t\tsyllable_count = number_of_syllables(word)\n",
        "\t\tif syllable_count >= 3:\n",
        "\t\t\tcount += 1\n",
        "      \n",
        "\treturn count"
      ],
      "execution_count": 86,
      "outputs": []
    },
    {
      "cell_type": "markdown",
      "metadata": {
        "id": "Smg6bXC6r4en"
      },
      "source": [
        "#### Flesch-Kincaid"
      ]
    },
    {
      "cell_type": "code",
      "metadata": {
        "id": "bVoFLu5GsRu8"
      },
      "source": [
        "def flesch_reading_index(text):\n",
        "\tFRE = 206.835 - float(1.015 * average_sentence_length(text)) - float(84.6 * average_number_of_syllables_per_word(text))\n",
        "\treturn legacy_round(FRE, 2)"
      ],
      "execution_count": 42,
      "outputs": []
    },
    {
      "cell_type": "markdown",
      "metadata": {
        "id": "yszbvIIfsEej"
      },
      "source": [
        "#### Dale-Chall"
      ]
    },
    {
      "cell_type": "code",
      "metadata": {
        "id": "_uZISEwosYlP"
      },
      "source": [
        "def dale_chall_index(text):  \n",
        "  n_words = number_of_words(text)\n",
        "  n_difficult_words = number_of_difficult_words(text)\n",
        "  \n",
        "  difficult_words_percentage = 0\n",
        "\n",
        "  if n_words > 0:\n",
        "\t\t difficult_words_percentage = float(n_difficult_words) / float(n_words) * 100\n",
        "\t\n",
        "  DCI = (0.1579 * difficult_words_percentage) + (0.0496 * average_sentence_length(text)) + 3.6365\n",
        "\t\t\n",
        "  return legacy_round(DCI, 2)"
      ],
      "execution_count": 48,
      "outputs": []
    },
    {
      "cell_type": "markdown",
      "metadata": {
        "id": "YBawW_gNsGUk"
      },
      "source": [
        "#### Gunning Fog"
      ]
    },
    {
      "cell_type": "code",
      "metadata": {
        "id": "J15c2yLKsUID"
      },
      "source": [
        "def gunning_fog(text):\n",
        "    difficult_words_percentage = (number_of_difficult_words(text) / number_of_words(text) * 100) \n",
        "    GFI = 0.4 * (average_sentence_length(text) + difficult_words_percentage)\n",
        "    return GFI"
      ],
      "execution_count": 29,
      "outputs": []
    },
    {
      "cell_type": "markdown",
      "source": [
        "#### Tests"
      ],
      "metadata": {
        "id": "meS1vddOTc-d"
      }
    },
    {
      "cell_type": "code",
      "source": [
        "text_to_test = df_news_aggregator.loc[1000]['Content']"
      ],
      "metadata": {
        "id": "4bdaFfaATfmC"
      },
      "execution_count": 24,
      "outputs": []
    },
    {
      "cell_type": "code",
      "source": [
        "flesch_reading_index(text_to_test)"
      ],
      "metadata": {
        "colab": {
          "base_uri": "https://localhost:8080/"
        },
        "id": "TzHLxMlJUmrc",
        "outputId": "f5669392-6202-4d10-cdbc-24b8693f44b8"
      },
      "execution_count": 43,
      "outputs": [
        {
          "output_type": "execute_result",
          "data": {
            "text/plain": [
              "100.03"
            ]
          },
          "metadata": {},
          "execution_count": 43
        }
      ]
    },
    {
      "cell_type": "code",
      "source": [
        "dale_chall_index(text_to_test)"
      ],
      "metadata": {
        "colab": {
          "base_uri": "https://localhost:8080/"
        },
        "id": "EKUKJbSlVIEZ",
        "outputId": "d5f19aee-a746-4d3b-dfe8-df5238f9485e"
      },
      "execution_count": 49,
      "outputs": [
        {
          "output_type": "execute_result",
          "data": {
            "text/plain": [
              "6.84"
            ]
          },
          "metadata": {},
          "execution_count": 49
        }
      ]
    },
    {
      "cell_type": "code",
      "source": [
        "gunning_fog(text_to_test)"
      ],
      "metadata": {
        "colab": {
          "base_uri": "https://localhost:8080/"
        },
        "id": "ha1-9B1JVanz",
        "outputId": "29720c08-d7b4-4f2f-d8d9-18d5ce587b29"
      },
      "execution_count": 50,
      "outputs": [
        {
          "output_type": "execute_result",
          "data": {
            "text/plain": [
              "14.121428571428574"
            ]
          },
          "metadata": {},
          "execution_count": 50
        }
      ]
    },
    {
      "cell_type": "markdown",
      "source": [
        "#### Dataset features"
      ],
      "metadata": {
        "id": "Q82zstqVZl_H"
      }
    },
    {
      "cell_type": "code",
      "source": [
        "df_features_news_aggregator_names = [\"Flesch-Kincaid\", \"Dale-Chall\", \"Gunning Fog\", \"Bias\"]\n",
        "df_features_news_aggregator = pd.DataFrame(columns = df_features_news_aggregator_names)"
      ],
      "metadata": {
        "id": "_jmVUSHHaHyu"
      },
      "execution_count": 83,
      "outputs": []
    },
    {
      "cell_type": "code",
      "source": [
        "for index, row in df_news_aggregator[:3].iterrows():\n",
        "  text = row['Content']\n",
        "  bias = row['Bias']\n",
        "  flesch_kincaid = flesch_reading_index(text)\n",
        "  dale_chall = dale_chall_index(text)\n",
        "  # gunning_fog = gunning_fog(text)\n",
        "  df_features_news_aggregator = df_features_news_aggregator.append({'Flesch-Kincaid': flesch_kincaid, 'Dale-Chall': dale_chall, 'Gunning Fog': 0, 'Bias': bias}, ignore_index=True)"
      ],
      "metadata": {
        "id": "H-tX8AQ4ZohI"
      },
      "execution_count": 84,
      "outputs": []
    },
    {
      "cell_type": "code",
      "source": [
        "df_features_news_aggregator"
      ],
      "metadata": {
        "colab": {
          "base_uri": "https://localhost:8080/",
          "height": 143
        },
        "id": "4dCUaUxAdCfH",
        "outputId": "588ec8ea-1d1b-4866-a987-b0de0826492c"
      },
      "execution_count": 85,
      "outputs": [
        {
          "output_type": "execute_result",
          "data": {
            "text/html": [
              "<div>\n",
              "<style scoped>\n",
              "    .dataframe tbody tr th:only-of-type {\n",
              "        vertical-align: middle;\n",
              "    }\n",
              "\n",
              "    .dataframe tbody tr th {\n",
              "        vertical-align: top;\n",
              "    }\n",
              "\n",
              "    .dataframe thead th {\n",
              "        text-align: right;\n",
              "    }\n",
              "</style>\n",
              "<table border=\"1\" class=\"dataframe\">\n",
              "  <thead>\n",
              "    <tr style=\"text-align: right;\">\n",
              "      <th></th>\n",
              "      <th>Flesch-Kincaid</th>\n",
              "      <th>Dale-Chall</th>\n",
              "      <th>Gunning Fog</th>\n",
              "      <th>Bias</th>\n",
              "    </tr>\n",
              "  </thead>\n",
              "  <tbody>\n",
              "    <tr>\n",
              "      <th>0</th>\n",
              "      <td>94.40</td>\n",
              "      <td>8.53</td>\n",
              "      <td>0</td>\n",
              "      <td>right-center</td>\n",
              "    </tr>\n",
              "    <tr>\n",
              "      <th>1</th>\n",
              "      <td>99.91</td>\n",
              "      <td>10.47</td>\n",
              "      <td>0</td>\n",
              "      <td>right-center</td>\n",
              "    </tr>\n",
              "    <tr>\n",
              "      <th>2</th>\n",
              "      <td>99.13</td>\n",
              "      <td>8.60</td>\n",
              "      <td>0</td>\n",
              "      <td>left-center</td>\n",
              "    </tr>\n",
              "  </tbody>\n",
              "</table>\n",
              "</div>"
            ],
            "text/plain": [
              "   Flesch-Kincaid  Dale-Chall Gunning Fog          Bias\n",
              "0           94.40        8.53           0  right-center\n",
              "1           99.91       10.47           0  right-center\n",
              "2           99.13        8.60           0   left-center"
            ]
          },
          "metadata": {},
          "execution_count": 85
        }
      ]
    },
    {
      "cell_type": "markdown",
      "source": [
        "### n-grams"
      ],
      "metadata": {
        "id": "fu2tmuDAY0b1"
      }
    },
    {
      "cell_type": "code",
      "source": [
        "import re\n",
        "\n",
        "def generate_ngrams(s, n):\n",
        "    s = s.lower()\n",
        "    s = re.sub(r'[^a-zA-Z0-9\\s]', ' ', s)\n",
        "    tokens = [token for token in s.split(\" \") if token != \"\"]\n",
        "    ngrams = zip(*[tokens[i:] for i in range(n)])\n",
        "    return [\" \".join(ngram) for ngram in ngrams]"
      ],
      "metadata": {
        "id": "wZC1vjYdY3lP"
      },
      "execution_count": 61,
      "outputs": []
    },
    {
      "cell_type": "code",
      "source": [
        "generate_ngrams(text_to_test, 1)"
      ],
      "metadata": {
        "colab": {
          "base_uri": "https://localhost:8080/"
        },
        "id": "-0PTAIKJZCdX",
        "outputId": "4b33f76b-f44f-4ee1-bda2-6f754bfe9475"
      },
      "execution_count": 63,
      "outputs": [
        {
          "output_type": "execute_result",
          "data": {
            "text/plain": [
              "['nvidia',\n",
              " 'is',\n",
              " 'only',\n",
              " 'just',\n",
              " 'starting',\n",
              " 'to',\n",
              " 'put',\n",
              " 'out',\n",
              " 'cards',\n",
              " 'that',\n",
              " 'run',\n",
              " 'on',\n",
              " 'its',\n",
              " 'new',\n",
              " 'maxwell',\n",
              " 'architiecture',\n",
              " 'but',\n",
              " 'its',\n",
              " 'eyes',\n",
              " 'are',\n",
              " 'already',\n",
              " 'on',\n",
              " 'the',\n",
              " 'future',\n",
              " 'today',\n",
              " 'at',\n",
              " 'its',\n",
              " 'annual',\n",
              " 'gpu',\n",
              " 'technology',\n",
              " 'conference',\n",
              " 'nvidia',\n",
              " 'announced',\n",
              " 'its',\n",
              " 'next',\n",
              " 'far',\n",
              " 'future',\n",
              " 'architecture',\n",
              " 'pascal',\n",
              " 'not',\n",
              " 'due',\n",
              " 'to',\n",
              " 'hit',\n",
              " 'until',\n",
              " '2016',\n",
              " 'pascal',\n",
              " 'is',\n",
              " 'faaaaar',\n",
              " 'from',\n",
              " 'making',\n",
              " 'its',\n",
              " 'way',\n",
              " 'into',\n",
              " 'anything',\n",
              " 'you',\n",
              " 'hope',\n",
              " 'to',\n",
              " 'own',\n",
              " 'but',\n",
              " 'when',\n",
              " 'it',\n",
              " 'does',\n",
              " 'it',\n",
              " 'll',\n",
              " 'be',\n",
              " 'a',\n",
              " 'screamer',\n",
              " 'pascal',\n",
              " 'will',\n",
              " 'be',\n",
              " 'faster',\n",
              " 'smaller',\n",
              " 'and',\n",
              " 'more',\n",
              " 'efficient',\n",
              " 'than',\n",
              " 'anything',\n",
              " 'out',\n",
              " 'there',\n",
              " 'now',\n",
              " 'but',\n",
              " 'with',\n",
              " 'two',\n",
              " 'years',\n",
              " 'before',\n",
              " 'release',\n",
              " 'duh',\n",
              " 'it',\n",
              " 'had',\n",
              " 'better',\n",
              " 'be',\n",
              " 'advertisement',\n",
              " 'as',\n",
              " 'for',\n",
              " 'how',\n",
              " 'it',\n",
              " 'will',\n",
              " 'do',\n",
              " 'that',\n",
              " 'nvidia',\n",
              " 'is',\n",
              " 'pointing',\n",
              " 'to',\n",
              " 'a',\n",
              " 'few',\n",
              " 'key',\n",
              " 'technologies',\n",
              " 'there',\n",
              " 's',\n",
              " 'nvlink',\n",
              " 'which',\n",
              " 'will',\n",
              " 'function',\n",
              " 'as',\n",
              " 'a',\n",
              " 'much',\n",
              " 'faster',\n",
              " 'data',\n",
              " 'highway',\n",
              " 'between',\n",
              " 'cpus',\n",
              " 'gpus',\n",
              " 'and',\n",
              " 'other',\n",
              " 'gpus',\n",
              " 'and',\n",
              " '3d',\n",
              " 'memory',\n",
              " 'techniques',\n",
              " 'which',\n",
              " 'allow',\n",
              " 'nvida',\n",
              " 'to',\n",
              " 'stack',\n",
              " 'some',\n",
              " 'of',\n",
              " 'its',\n",
              " 'chips',\n",
              " 'to',\n",
              " 'make',\n",
              " 'gpus',\n",
              " 'that',\n",
              " 'are',\n",
              " 'not',\n",
              " 'only',\n",
              " 'super',\n",
              " 'compact',\n",
              " 'but',\n",
              " 'also',\n",
              " 'faster',\n",
              " 'and',\n",
              " 'more',\n",
              " 'efficient',\n",
              " 'than',\n",
              " 'anything',\n",
              " 'out',\n",
              " 'there',\n",
              " 'right',\n",
              " 'now',\n",
              " 'if',\n",
              " 'you',\n",
              " 're',\n",
              " 'hankering',\n",
              " 'for',\n",
              " 'something',\n",
              " 'that',\n",
              " 'is',\n",
              " 'out',\n",
              " 'there',\n",
              " 'right',\n",
              " 'now',\n",
              " 'or',\n",
              " 'something',\n",
              " 'that',\n",
              " 'will',\n",
              " 'be',\n",
              " 'soon',\n",
              " 'nvidia',\n",
              " 'has',\n",
              " 'a',\n",
              " 'new',\n",
              " 'toy',\n",
              " 'in',\n",
              " 'the',\n",
              " 'form',\n",
              " 'of',\n",
              " 'the',\n",
              " 'gtx',\n",
              " 'titan',\n",
              " 'z',\n",
              " 'like',\n",
              " 'the',\n",
              " 'og',\n",
              " 'titan',\n",
              " 'this',\n",
              " 'sucker',\n",
              " 'is',\n",
              " 'big',\n",
              " 'badass',\n",
              " 'and',\n",
              " 'ludicrously',\n",
              " 'expensive',\n",
              " 'basically',\n",
              " 'two',\n",
              " 'kepler',\n",
              " 'based',\n",
              " 'gk110',\n",
              " 'chips',\n",
              " 'wired',\n",
              " 'together',\n",
              " 'the',\n",
              " 'gtx',\n",
              " 'titan',\n",
              " 'z',\n",
              " 'boasts',\n",
              " '5',\n",
              " '760',\n",
              " 'processing',\n",
              " 'cores',\n",
              " 'or',\n",
              " 'more',\n",
              " 'than',\n",
              " 'twice',\n",
              " 'as',\n",
              " 'many',\n",
              " 'as',\n",
              " 'the',\n",
              " 'original',\n",
              " 'titan',\n",
              " 'that',\n",
              " 'is',\n",
              " 'to',\n",
              " 'say',\n",
              " 'more',\n",
              " 'than',\n",
              " 'you',\n",
              " 'dear',\n",
              " 'reader',\n",
              " 'probably',\n",
              " 'need',\n",
              " 'unless',\n",
              " 'you',\n",
              " 'need',\n",
              " 'to',\n",
              " 'do',\n",
              " 'some',\n",
              " '5k',\n",
              " 'gaming',\n",
              " 'like',\n",
              " 'right',\n",
              " 'now',\n",
              " 'and',\n",
              " 'it',\n",
              " 's',\n",
              " 'all',\n",
              " 'just',\n",
              " 'as',\n",
              " 'well',\n",
              " 'because',\n",
              " 'the',\n",
              " 'titan',\n",
              " 'z',\n",
              " 'costs',\n",
              " 'a',\n",
              " 'cool',\n",
              " '3',\n",
              " '000',\n",
              " 'naturally',\n",
              " 'this',\n",
              " 'all',\n",
              " 'sounds',\n",
              " 'great',\n",
              " 'but',\n",
              " '2016',\n",
              " 'is',\n",
              " 'a',\n",
              " 'long',\n",
              " 'way',\n",
              " 'away',\n",
              " 'so',\n",
              " 'don',\n",
              " 't',\n",
              " 'hold',\n",
              " 'your',\n",
              " 'breath',\n",
              " 'still',\n",
              " 'it',\n",
              " 's',\n",
              " 'nice',\n",
              " 'to',\n",
              " 'have',\n",
              " 'some',\n",
              " 'reassurance',\n",
              " 'that',\n",
              " 'yes',\n",
              " 'graphics',\n",
              " 'are',\n",
              " 'still',\n",
              " 'going',\n",
              " 'to',\n",
              " 'keep',\n",
              " 'getting',\n",
              " 'awesomer',\n",
              " 'nvidia']"
            ]
          },
          "metadata": {},
          "execution_count": 63
        }
      ]
    },
    {
      "cell_type": "code",
      "source": [
        "generate_ngrams(text_to_test, 2)"
      ],
      "metadata": {
        "colab": {
          "base_uri": "https://localhost:8080/"
        },
        "id": "Qb0K-_VxY7ep",
        "outputId": "8d69e4d0-01e1-4af2-8d5a-68ca0b9de5c2"
      },
      "execution_count": 62,
      "outputs": [
        {
          "output_type": "execute_result",
          "data": {
            "text/plain": [
              "['nvidia is',\n",
              " 'is only',\n",
              " 'only just',\n",
              " 'just starting',\n",
              " 'starting to',\n",
              " 'to put',\n",
              " 'put out',\n",
              " 'out cards',\n",
              " 'cards that',\n",
              " 'that run',\n",
              " 'run on',\n",
              " 'on its',\n",
              " 'its new',\n",
              " 'new maxwell',\n",
              " 'maxwell architiecture',\n",
              " 'architiecture but',\n",
              " 'but its',\n",
              " 'its eyes',\n",
              " 'eyes are',\n",
              " 'are already',\n",
              " 'already on',\n",
              " 'on the',\n",
              " 'the future',\n",
              " 'future today',\n",
              " 'today at',\n",
              " 'at its',\n",
              " 'its annual',\n",
              " 'annual gpu',\n",
              " 'gpu technology',\n",
              " 'technology conference',\n",
              " 'conference nvidia',\n",
              " 'nvidia announced',\n",
              " 'announced its',\n",
              " 'its next',\n",
              " 'next far',\n",
              " 'far future',\n",
              " 'future architecture',\n",
              " 'architecture pascal',\n",
              " 'pascal not',\n",
              " 'not due',\n",
              " 'due to',\n",
              " 'to hit',\n",
              " 'hit until',\n",
              " 'until 2016',\n",
              " '2016 pascal',\n",
              " 'pascal is',\n",
              " 'is faaaaar',\n",
              " 'faaaaar from',\n",
              " 'from making',\n",
              " 'making its',\n",
              " 'its way',\n",
              " 'way into',\n",
              " 'into anything',\n",
              " 'anything you',\n",
              " 'you hope',\n",
              " 'hope to',\n",
              " 'to own',\n",
              " 'own but',\n",
              " 'but when',\n",
              " 'when it',\n",
              " 'it does',\n",
              " 'does it',\n",
              " 'it ll',\n",
              " 'll be',\n",
              " 'be a',\n",
              " 'a screamer',\n",
              " 'screamer pascal',\n",
              " 'pascal will',\n",
              " 'will be',\n",
              " 'be faster',\n",
              " 'faster smaller',\n",
              " 'smaller and',\n",
              " 'and more',\n",
              " 'more efficient',\n",
              " 'efficient than',\n",
              " 'than anything',\n",
              " 'anything out',\n",
              " 'out there',\n",
              " 'there now',\n",
              " 'now but',\n",
              " 'but with',\n",
              " 'with two',\n",
              " 'two years',\n",
              " 'years before',\n",
              " 'before release',\n",
              " 'release duh',\n",
              " 'duh it',\n",
              " 'it had',\n",
              " 'had better',\n",
              " 'better be',\n",
              " 'be advertisement',\n",
              " 'advertisement as',\n",
              " 'as for',\n",
              " 'for how',\n",
              " 'how it',\n",
              " 'it will',\n",
              " 'will do',\n",
              " 'do that',\n",
              " 'that nvidia',\n",
              " 'nvidia is',\n",
              " 'is pointing',\n",
              " 'pointing to',\n",
              " 'to a',\n",
              " 'a few',\n",
              " 'few key',\n",
              " 'key technologies',\n",
              " 'technologies there',\n",
              " 'there s',\n",
              " 's nvlink',\n",
              " 'nvlink which',\n",
              " 'which will',\n",
              " 'will function',\n",
              " 'function as',\n",
              " 'as a',\n",
              " 'a much',\n",
              " 'much faster',\n",
              " 'faster data',\n",
              " 'data highway',\n",
              " 'highway between',\n",
              " 'between cpus',\n",
              " 'cpus gpus',\n",
              " 'gpus and',\n",
              " 'and other',\n",
              " 'other gpus',\n",
              " 'gpus and',\n",
              " 'and 3d',\n",
              " '3d memory',\n",
              " 'memory techniques',\n",
              " 'techniques which',\n",
              " 'which allow',\n",
              " 'allow nvida',\n",
              " 'nvida to',\n",
              " 'to stack',\n",
              " 'stack some',\n",
              " 'some of',\n",
              " 'of its',\n",
              " 'its chips',\n",
              " 'chips to',\n",
              " 'to make',\n",
              " 'make gpus',\n",
              " 'gpus that',\n",
              " 'that are',\n",
              " 'are not',\n",
              " 'not only',\n",
              " 'only super',\n",
              " 'super compact',\n",
              " 'compact but',\n",
              " 'but also',\n",
              " 'also faster',\n",
              " 'faster and',\n",
              " 'and more',\n",
              " 'more efficient',\n",
              " 'efficient than',\n",
              " 'than anything',\n",
              " 'anything out',\n",
              " 'out there',\n",
              " 'there right',\n",
              " 'right now',\n",
              " 'now if',\n",
              " 'if you',\n",
              " 'you re',\n",
              " 're hankering',\n",
              " 'hankering for',\n",
              " 'for something',\n",
              " 'something that',\n",
              " 'that is',\n",
              " 'is out',\n",
              " 'out there',\n",
              " 'there right',\n",
              " 'right now',\n",
              " 'now or',\n",
              " 'or something',\n",
              " 'something that',\n",
              " 'that will',\n",
              " 'will be',\n",
              " 'be soon',\n",
              " 'soon nvidia',\n",
              " 'nvidia has',\n",
              " 'has a',\n",
              " 'a new',\n",
              " 'new toy',\n",
              " 'toy in',\n",
              " 'in the',\n",
              " 'the form',\n",
              " 'form of',\n",
              " 'of the',\n",
              " 'the gtx',\n",
              " 'gtx titan',\n",
              " 'titan z',\n",
              " 'z like',\n",
              " 'like the',\n",
              " 'the og',\n",
              " 'og titan',\n",
              " 'titan this',\n",
              " 'this sucker',\n",
              " 'sucker is',\n",
              " 'is big',\n",
              " 'big badass',\n",
              " 'badass and',\n",
              " 'and ludicrously',\n",
              " 'ludicrously expensive',\n",
              " 'expensive basically',\n",
              " 'basically two',\n",
              " 'two kepler',\n",
              " 'kepler based',\n",
              " 'based gk110',\n",
              " 'gk110 chips',\n",
              " 'chips wired',\n",
              " 'wired together',\n",
              " 'together the',\n",
              " 'the gtx',\n",
              " 'gtx titan',\n",
              " 'titan z',\n",
              " 'z boasts',\n",
              " 'boasts 5',\n",
              " '5 760',\n",
              " '760 processing',\n",
              " 'processing cores',\n",
              " 'cores or',\n",
              " 'or more',\n",
              " 'more than',\n",
              " 'than twice',\n",
              " 'twice as',\n",
              " 'as many',\n",
              " 'many as',\n",
              " 'as the',\n",
              " 'the original',\n",
              " 'original titan',\n",
              " 'titan that',\n",
              " 'that is',\n",
              " 'is to',\n",
              " 'to say',\n",
              " 'say more',\n",
              " 'more than',\n",
              " 'than you',\n",
              " 'you dear',\n",
              " 'dear reader',\n",
              " 'reader probably',\n",
              " 'probably need',\n",
              " 'need unless',\n",
              " 'unless you',\n",
              " 'you need',\n",
              " 'need to',\n",
              " 'to do',\n",
              " 'do some',\n",
              " 'some 5k',\n",
              " '5k gaming',\n",
              " 'gaming like',\n",
              " 'like right',\n",
              " 'right now',\n",
              " 'now and',\n",
              " 'and it',\n",
              " 'it s',\n",
              " 's all',\n",
              " 'all just',\n",
              " 'just as',\n",
              " 'as well',\n",
              " 'well because',\n",
              " 'because the',\n",
              " 'the titan',\n",
              " 'titan z',\n",
              " 'z costs',\n",
              " 'costs a',\n",
              " 'a cool',\n",
              " 'cool 3',\n",
              " '3 000',\n",
              " '000 naturally',\n",
              " 'naturally this',\n",
              " 'this all',\n",
              " 'all sounds',\n",
              " 'sounds great',\n",
              " 'great but',\n",
              " 'but 2016',\n",
              " '2016 is',\n",
              " 'is a',\n",
              " 'a long',\n",
              " 'long way',\n",
              " 'way away',\n",
              " 'away so',\n",
              " 'so don',\n",
              " 'don t',\n",
              " 't hold',\n",
              " 'hold your',\n",
              " 'your breath',\n",
              " 'breath still',\n",
              " 'still it',\n",
              " 'it s',\n",
              " 's nice',\n",
              " 'nice to',\n",
              " 'to have',\n",
              " 'have some',\n",
              " 'some reassurance',\n",
              " 'reassurance that',\n",
              " 'that yes',\n",
              " 'yes graphics',\n",
              " 'graphics are',\n",
              " 'are still',\n",
              " 'still going',\n",
              " 'going to',\n",
              " 'to keep',\n",
              " 'keep getting',\n",
              " 'getting awesomer',\n",
              " 'awesomer nvidia']"
            ]
          },
          "metadata": {},
          "execution_count": 62
        }
      ]
    }
  ]
}