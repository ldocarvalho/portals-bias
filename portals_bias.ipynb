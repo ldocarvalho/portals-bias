{
  "nbformat": 4,
  "nbformat_minor": 0,
  "metadata": {
    "colab": {
      "name": "portals-bias.ipynb",
      "provenance": [],
      "collapsed_sections": [
        "_z2CxtgK2HFd",
        "VG21E7jgmlUE",
        "ht2bJSxbr17R",
        "Smg6bXC6r4en",
        "yszbvIIfsEej",
        "YBawW_gNsGUk",
        "JahYOLxsCysH",
        "meS1vddOTc-d",
        "fu2tmuDAY0b1",
        "hWFDCeeYrT9m",
        "J0WS6_ZJ_LFj",
        "xoI0nc5g_blF",
        "5TeRPidr_ky-",
        "cu32GSsJC5A4",
        "dYP3-t_1ESeY",
        "msLMSPeuEZ-j",
        "pXIe5zwFsMYG",
        "XKcy5X3oiA1t"
      ],
      "toc_visible": true,
      "authorship_tag": "ABX9TyPjApm0yRtvhmSxoUj4bS0G",
      "include_colab_link": true
    },
    "kernelspec": {
      "name": "python3",
      "display_name": "Python 3"
    },
    "language_info": {
      "name": "python"
    }
  },
  "cells": [
    {
      "cell_type": "markdown",
      "metadata": {
        "id": "view-in-github",
        "colab_type": "text"
      },
      "source": [
        "<a href=\"https://colab.research.google.com/github/ldocarvalho/portals-bias/blob/main/portals_bias.ipynb\" target=\"_parent\"><img src=\"https://colab.research.google.com/assets/colab-badge.svg\" alt=\"Open In Colab\"/></a>"
      ]
    },
    {
      "cell_type": "markdown",
      "source": [
        "### 1. Data"
      ],
      "metadata": {
        "id": "_z2CxtgK2HFd"
      }
    },
    {
      "cell_type": "code",
      "source": [
        "import pandas as pd"
      ],
      "metadata": {
        "id": "NDs2LQWJSHIX"
      },
      "execution_count": null,
      "outputs": []
    },
    {
      "cell_type": "code",
      "source": [
        "df_names = [\"Source\",\"Title\",\"Content\",\"Bias\"]\n",
        "df_news_aggregator = pd.read_csv('https://raw.githubusercontent.com/ldocarvalho/portals-bias/main/Dataset/News-Aggregator-14/news-aggregator.csv?token=AKX52J7EV5Y2TFAPAPLJ3Q3BYDMV2', names = df_names, skiprows = 1, header = None)\n",
        "df_news_aggregator"
      ],
      "metadata": {
        "id": "fPzFw21W2IiV",
        "colab": {
          "base_uri": "https://localhost:8080/"
        },
        "outputId": "2ce99779-f45b-4a4f-bfd2-41bf573dd5f7"
      },
      "execution_count": null,
      "outputs": [
        {
          "output_type": "execute_result",
          "data": {
            "text/html": [
              "\n",
              "  <div id=\"df-fa853422-9365-46c1-9493-e6f769f01fbe\">\n",
              "    <div class=\"colab-df-container\">\n",
              "      <div>\n",
              "<style scoped>\n",
              "    .dataframe tbody tr th:only-of-type {\n",
              "        vertical-align: middle;\n",
              "    }\n",
              "\n",
              "    .dataframe tbody tr th {\n",
              "        vertical-align: top;\n",
              "    }\n",
              "\n",
              "    .dataframe thead th {\n",
              "        text-align: right;\n",
              "    }\n",
              "</style>\n",
              "<table border=\"1\" class=\"dataframe\">\n",
              "  <thead>\n",
              "    <tr style=\"text-align: right;\">\n",
              "      <th></th>\n",
              "      <th>Source</th>\n",
              "      <th>Title</th>\n",
              "      <th>Content</th>\n",
              "      <th>Bias</th>\n",
              "    </tr>\n",
              "  </thead>\n",
              "  <tbody>\n",
              "    <tr>\n",
              "      <th>0</th>\n",
              "      <td>wsj.com</td>\n",
              "      <td>EU Week Ahead March 10-14: Bank Resolution, Tr...</td>\n",
              "      <td>The European Union’s to-do list isn’t long thi...</td>\n",
              "      <td>right-center</td>\n",
              "    </tr>\n",
              "    <tr>\n",
              "      <th>1</th>\n",
              "      <td>wsj.com</td>\n",
              "      <td>ECB's Noyer not Happy With Euro Strength -- Up...</td>\n",
              "      <td>News Corp is a network of leading companies in...</td>\n",
              "      <td>right-center</td>\n",
              "    </tr>\n",
              "    <tr>\n",
              "      <th>2</th>\n",
              "      <td>seattlepi.com</td>\n",
              "      <td>EBay, Icahn talk smack</td>\n",
              "      <td>Follow @csaid EBay has come out swinging again...</td>\n",
              "      <td>left-center</td>\n",
              "    </tr>\n",
              "    <tr>\n",
              "      <th>3</th>\n",
              "      <td>techcrunch.com</td>\n",
              "      <td>EBay Asks Shareholders To Vote Against PayPal ...</td>\n",
              "      <td>The war of words between eBay and its new shar...</td>\n",
              "      <td>left-center</td>\n",
              "    </tr>\n",
              "    <tr>\n",
              "      <th>4</th>\n",
              "      <td>valuewalk.com</td>\n",
              "      <td>Carl Icahn: Donahoe Cost eBay Investors More T...</td>\n",
              "      <td>Carl Icahn has again posted an open letter on ...</td>\n",
              "      <td>right-center</td>\n",
              "    </tr>\n",
              "    <tr>\n",
              "      <th>...</th>\n",
              "      <td>...</td>\n",
              "      <td>...</td>\n",
              "      <td>...</td>\n",
              "      <td>...</td>\n",
              "    </tr>\n",
              "    <tr>\n",
              "      <th>1795</th>\n",
              "      <td>newsone.com</td>\n",
              "      <td>NewsOne Minute: Chris Rock Interviews White Pe...</td>\n",
              "      <td>Chris Rock Interviews White People at a Monste...</td>\n",
              "      <td>left-center</td>\n",
              "    </tr>\n",
              "    <tr>\n",
              "      <th>1796</th>\n",
              "      <td>twitchy.com</td>\n",
              "      <td>Chart-topping songwriter Diane Warren: Hope so...</td>\n",
              "      <td>Texas cheerleader and big-game hunter Kendall ...</td>\n",
              "      <td>right</td>\n",
              "    </tr>\n",
              "    <tr>\n",
              "      <th>1797</th>\n",
              "      <td>twitchy.com</td>\n",
              "      <td>Reality star Joanna Krupa would love to see ‘t...</td>\n",
              "      <td>Model Joanna Krupa is known for her stints on ...</td>\n",
              "      <td>right</td>\n",
              "    </tr>\n",
              "    <tr>\n",
              "      <th>1798</th>\n",
              "      <td>austinchronicle.com</td>\n",
              "      <td>Elaine Stritch (1925-2014)</td>\n",
              "      <td>During her seven decades as a \"Broadway Baby\" ...</td>\n",
              "      <td>left</td>\n",
              "    </tr>\n",
              "    <tr>\n",
              "      <th>1799</th>\n",
              "      <td>powerlineblog.com</td>\n",
              "      <td>The Awful Jobs Picture: 6.2% Unemployment Is O...</td>\n",
              "      <td>The Labor Department reported today that the e...</td>\n",
              "      <td>right</td>\n",
              "    </tr>\n",
              "  </tbody>\n",
              "</table>\n",
              "<p>1800 rows × 4 columns</p>\n",
              "</div>\n",
              "      <button class=\"colab-df-convert\" onclick=\"convertToInteractive('df-fa853422-9365-46c1-9493-e6f769f01fbe')\"\n",
              "              title=\"Convert this dataframe to an interactive table.\"\n",
              "              style=\"display:none;\">\n",
              "        \n",
              "  <svg xmlns=\"http://www.w3.org/2000/svg\" height=\"24px\"viewBox=\"0 0 24 24\"\n",
              "       width=\"24px\">\n",
              "    <path d=\"M0 0h24v24H0V0z\" fill=\"none\"/>\n",
              "    <path d=\"M18.56 5.44l.94 2.06.94-2.06 2.06-.94-2.06-.94-.94-2.06-.94 2.06-2.06.94zm-11 1L8.5 8.5l.94-2.06 2.06-.94-2.06-.94L8.5 2.5l-.94 2.06-2.06.94zm10 10l.94 2.06.94-2.06 2.06-.94-2.06-.94-.94-2.06-.94 2.06-2.06.94z\"/><path d=\"M17.41 7.96l-1.37-1.37c-.4-.4-.92-.59-1.43-.59-.52 0-1.04.2-1.43.59L10.3 9.45l-7.72 7.72c-.78.78-.78 2.05 0 2.83L4 21.41c.39.39.9.59 1.41.59.51 0 1.02-.2 1.41-.59l7.78-7.78 2.81-2.81c.8-.78.8-2.07 0-2.86zM5.41 20L4 18.59l7.72-7.72 1.47 1.35L5.41 20z\"/>\n",
              "  </svg>\n",
              "      </button>\n",
              "      \n",
              "  <style>\n",
              "    .colab-df-container {\n",
              "      display:flex;\n",
              "      flex-wrap:wrap;\n",
              "      gap: 12px;\n",
              "    }\n",
              "\n",
              "    .colab-df-convert {\n",
              "      background-color: #E8F0FE;\n",
              "      border: none;\n",
              "      border-radius: 50%;\n",
              "      cursor: pointer;\n",
              "      display: none;\n",
              "      fill: #1967D2;\n",
              "      height: 32px;\n",
              "      padding: 0 0 0 0;\n",
              "      width: 32px;\n",
              "    }\n",
              "\n",
              "    .colab-df-convert:hover {\n",
              "      background-color: #E2EBFA;\n",
              "      box-shadow: 0px 1px 2px rgba(60, 64, 67, 0.3), 0px 1px 3px 1px rgba(60, 64, 67, 0.15);\n",
              "      fill: #174EA6;\n",
              "    }\n",
              "\n",
              "    [theme=dark] .colab-df-convert {\n",
              "      background-color: #3B4455;\n",
              "      fill: #D2E3FC;\n",
              "    }\n",
              "\n",
              "    [theme=dark] .colab-df-convert:hover {\n",
              "      background-color: #434B5C;\n",
              "      box-shadow: 0px 1px 3px 1px rgba(0, 0, 0, 0.15);\n",
              "      filter: drop-shadow(0px 1px 2px rgba(0, 0, 0, 0.3));\n",
              "      fill: #FFFFFF;\n",
              "    }\n",
              "  </style>\n",
              "\n",
              "      <script>\n",
              "        const buttonEl =\n",
              "          document.querySelector('#df-fa853422-9365-46c1-9493-e6f769f01fbe button.colab-df-convert');\n",
              "        buttonEl.style.display =\n",
              "          google.colab.kernel.accessAllowed ? 'block' : 'none';\n",
              "\n",
              "        async function convertToInteractive(key) {\n",
              "          const element = document.querySelector('#df-fa853422-9365-46c1-9493-e6f769f01fbe');\n",
              "          const dataTable =\n",
              "            await google.colab.kernel.invokeFunction('convertToInteractive',\n",
              "                                                     [key], {});\n",
              "          if (!dataTable) return;\n",
              "\n",
              "          const docLinkHtml = 'Like what you see? Visit the ' +\n",
              "            '<a target=\"_blank\" href=https://colab.research.google.com/notebooks/data_table.ipynb>data table notebook</a>'\n",
              "            + ' to learn more about interactive tables.';\n",
              "          element.innerHTML = '';\n",
              "          dataTable['output_type'] = 'display_data';\n",
              "          await google.colab.output.renderOutput(dataTable, element);\n",
              "          const docLink = document.createElement('div');\n",
              "          docLink.innerHTML = docLinkHtml;\n",
              "          element.appendChild(docLink);\n",
              "        }\n",
              "      </script>\n",
              "    </div>\n",
              "  </div>\n",
              "  "
            ],
            "text/plain": [
              "                   Source  ...          Bias\n",
              "0                 wsj.com  ...  right-center\n",
              "1                 wsj.com  ...  right-center\n",
              "2           seattlepi.com  ...   left-center\n",
              "3          techcrunch.com  ...   left-center\n",
              "4           valuewalk.com  ...  right-center\n",
              "...                   ...  ...           ...\n",
              "1795          newsone.com  ...   left-center\n",
              "1796          twitchy.com  ...         right\n",
              "1797          twitchy.com  ...         right\n",
              "1798  austinchronicle.com  ...          left\n",
              "1799    powerlineblog.com  ...         right\n",
              "\n",
              "[1800 rows x 4 columns]"
            ]
          },
          "metadata": {},
          "execution_count": 3
        }
      ]
    },
    {
      "cell_type": "code",
      "source": [
        "df_news_july = pd.read_csv('https://raw.githubusercontent.com/ldocarvalho/portals-bias/main/Dataset/News-July-19/news-july.csv?token=AKX52J5KQ3NIC6K7PWM7XPLBYDNKA', names = df_names, skiprows = 1, header = None)\n",
        "df_news_july"
      ],
      "metadata": {
        "colab": {
          "base_uri": "https://localhost:8080/"
        },
        "id": "E8amovQMSZXs",
        "outputId": "ad67f7ec-b6e7-4be8-f735-e17e874228dc"
      },
      "execution_count": null,
      "outputs": [
        {
          "output_type": "execute_result",
          "data": {
            "text/html": [
              "\n",
              "  <div id=\"df-27c43e90-7856-4e11-939a-7a0e88a8dba6\">\n",
              "    <div class=\"colab-df-container\">\n",
              "      <div>\n",
              "<style scoped>\n",
              "    .dataframe tbody tr th:only-of-type {\n",
              "        vertical-align: middle;\n",
              "    }\n",
              "\n",
              "    .dataframe tbody tr th {\n",
              "        vertical-align: top;\n",
              "    }\n",
              "\n",
              "    .dataframe thead th {\n",
              "        text-align: right;\n",
              "    }\n",
              "</style>\n",
              "<table border=\"1\" class=\"dataframe\">\n",
              "  <thead>\n",
              "    <tr style=\"text-align: right;\">\n",
              "      <th></th>\n",
              "      <th>Source</th>\n",
              "      <th>Title</th>\n",
              "      <th>Content</th>\n",
              "      <th>Bias</th>\n",
              "    </tr>\n",
              "  </thead>\n",
              "  <tbody>\n",
              "    <tr>\n",
              "      <th>0</th>\n",
              "      <td>berkeleyside</td>\n",
              "      <td>ArchivesJune 10, 2019</td>\n",
              "      <td>When the homeowner did not voluntarily repair ...</td>\n",
              "      <td>left-center</td>\n",
              "    </tr>\n",
              "    <tr>\n",
              "      <th>1</th>\n",
              "      <td>berkeleyside</td>\n",
              "      <td>Berkeley homeowner caught in costly code viola...</td>\n",
              "      <td>Finger-pointing, confusion, worry and mistrust...</td>\n",
              "      <td>left-center</td>\n",
              "    </tr>\n",
              "    <tr>\n",
              "      <th>2</th>\n",
              "      <td>berkeleyside</td>\n",
              "      <td>A small-business success story, Yalis Caf cele...</td>\n",
              "      <td>Yali's Caf 1920 Oxford St. (at Berkeley Way), ...</td>\n",
              "      <td>left-center</td>\n",
              "    </tr>\n",
              "    <tr>\n",
              "      <th>3</th>\n",
              "      <td>berkeleyside</td>\n",
              "      <td>Shop Talk: Bluemercury; Airport Home Appliance...</td>\n",
              "      <td>BLUEMERCURY A new business is opening in the o...</td>\n",
              "      <td>left-center</td>\n",
              "    </tr>\n",
              "    <tr>\n",
              "      <th>4</th>\n",
              "      <td>berkeleyside</td>\n",
              "      <td>New vision plan imagines 3-mile greenway from ...</td>\n",
              "      <td>Imagine a bike and pedestrian path stretching ...</td>\n",
              "      <td>left-center</td>\n",
              "    </tr>\n",
              "    <tr>\n",
              "      <th>...</th>\n",
              "      <td>...</td>\n",
              "      <td>...</td>\n",
              "      <td>...</td>\n",
              "      <td>...</td>\n",
              "    </tr>\n",
              "    <tr>\n",
              "      <th>4955</th>\n",
              "      <td>theblaze</td>\n",
              "      <td>Bill Cosbys official Instagram account shares ...</td>\n",
              "      <td>The official Instagram account of actor Bill C...</td>\n",
              "      <td>right</td>\n",
              "    </tr>\n",
              "    <tr>\n",
              "      <th>4956</th>\n",
              "      <td>theblaze</td>\n",
              "      <td>WATCH: Students condemn racist remarks they be...</td>\n",
              "      <td>Students at Marymount University in Virginia b...</td>\n",
              "      <td>right</td>\n",
              "    </tr>\n",
              "    <tr>\n",
              "      <th>4957</th>\n",
              "      <td>theblaze</td>\n",
              "      <td>Republicans propose constitutional amendment t...</td>\n",
              "      <td>President Donald Trump is supporting a propose...</td>\n",
              "      <td>right</td>\n",
              "    </tr>\n",
              "    <tr>\n",
              "      <th>4958</th>\n",
              "      <td>theblaze</td>\n",
              "      <td>108 GOP lawmakers sign letter asking Trump to ...</td>\n",
              "      <td>More than a hundred Republican members of Cong...</td>\n",
              "      <td>right</td>\n",
              "    </tr>\n",
              "    <tr>\n",
              "      <th>4959</th>\n",
              "      <td>theblaze</td>\n",
              "      <td>Despite Trump's threat to close border, Mexico...</td>\n",
              "      <td>Mexico will not militarize its southern border...</td>\n",
              "      <td>right</td>\n",
              "    </tr>\n",
              "  </tbody>\n",
              "</table>\n",
              "<p>4960 rows × 4 columns</p>\n",
              "</div>\n",
              "      <button class=\"colab-df-convert\" onclick=\"convertToInteractive('df-27c43e90-7856-4e11-939a-7a0e88a8dba6')\"\n",
              "              title=\"Convert this dataframe to an interactive table.\"\n",
              "              style=\"display:none;\">\n",
              "        \n",
              "  <svg xmlns=\"http://www.w3.org/2000/svg\" height=\"24px\"viewBox=\"0 0 24 24\"\n",
              "       width=\"24px\">\n",
              "    <path d=\"M0 0h24v24H0V0z\" fill=\"none\"/>\n",
              "    <path d=\"M18.56 5.44l.94 2.06.94-2.06 2.06-.94-2.06-.94-.94-2.06-.94 2.06-2.06.94zm-11 1L8.5 8.5l.94-2.06 2.06-.94-2.06-.94L8.5 2.5l-.94 2.06-2.06.94zm10 10l.94 2.06.94-2.06 2.06-.94-2.06-.94-.94-2.06-.94 2.06-2.06.94z\"/><path d=\"M17.41 7.96l-1.37-1.37c-.4-.4-.92-.59-1.43-.59-.52 0-1.04.2-1.43.59L10.3 9.45l-7.72 7.72c-.78.78-.78 2.05 0 2.83L4 21.41c.39.39.9.59 1.41.59.51 0 1.02-.2 1.41-.59l7.78-7.78 2.81-2.81c.8-.78.8-2.07 0-2.86zM5.41 20L4 18.59l7.72-7.72 1.47 1.35L5.41 20z\"/>\n",
              "  </svg>\n",
              "      </button>\n",
              "      \n",
              "  <style>\n",
              "    .colab-df-container {\n",
              "      display:flex;\n",
              "      flex-wrap:wrap;\n",
              "      gap: 12px;\n",
              "    }\n",
              "\n",
              "    .colab-df-convert {\n",
              "      background-color: #E8F0FE;\n",
              "      border: none;\n",
              "      border-radius: 50%;\n",
              "      cursor: pointer;\n",
              "      display: none;\n",
              "      fill: #1967D2;\n",
              "      height: 32px;\n",
              "      padding: 0 0 0 0;\n",
              "      width: 32px;\n",
              "    }\n",
              "\n",
              "    .colab-df-convert:hover {\n",
              "      background-color: #E2EBFA;\n",
              "      box-shadow: 0px 1px 2px rgba(60, 64, 67, 0.3), 0px 1px 3px 1px rgba(60, 64, 67, 0.15);\n",
              "      fill: #174EA6;\n",
              "    }\n",
              "\n",
              "    [theme=dark] .colab-df-convert {\n",
              "      background-color: #3B4455;\n",
              "      fill: #D2E3FC;\n",
              "    }\n",
              "\n",
              "    [theme=dark] .colab-df-convert:hover {\n",
              "      background-color: #434B5C;\n",
              "      box-shadow: 0px 1px 3px 1px rgba(0, 0, 0, 0.15);\n",
              "      filter: drop-shadow(0px 1px 2px rgba(0, 0, 0, 0.3));\n",
              "      fill: #FFFFFF;\n",
              "    }\n",
              "  </style>\n",
              "\n",
              "      <script>\n",
              "        const buttonEl =\n",
              "          document.querySelector('#df-27c43e90-7856-4e11-939a-7a0e88a8dba6 button.colab-df-convert');\n",
              "        buttonEl.style.display =\n",
              "          google.colab.kernel.accessAllowed ? 'block' : 'none';\n",
              "\n",
              "        async function convertToInteractive(key) {\n",
              "          const element = document.querySelector('#df-27c43e90-7856-4e11-939a-7a0e88a8dba6');\n",
              "          const dataTable =\n",
              "            await google.colab.kernel.invokeFunction('convertToInteractive',\n",
              "                                                     [key], {});\n",
              "          if (!dataTable) return;\n",
              "\n",
              "          const docLinkHtml = 'Like what you see? Visit the ' +\n",
              "            '<a target=\"_blank\" href=https://colab.research.google.com/notebooks/data_table.ipynb>data table notebook</a>'\n",
              "            + ' to learn more about interactive tables.';\n",
              "          element.innerHTML = '';\n",
              "          dataTable['output_type'] = 'display_data';\n",
              "          await google.colab.output.renderOutput(dataTable, element);\n",
              "          const docLink = document.createElement('div');\n",
              "          docLink.innerHTML = docLinkHtml;\n",
              "          element.appendChild(docLink);\n",
              "        }\n",
              "      </script>\n",
              "    </div>\n",
              "  </div>\n",
              "  "
            ],
            "text/plain": [
              "            Source  ...         Bias\n",
              "0     berkeleyside  ...  left-center\n",
              "1     berkeleyside  ...  left-center\n",
              "2     berkeleyside  ...  left-center\n",
              "3     berkeleyside  ...  left-center\n",
              "4     berkeleyside  ...  left-center\n",
              "...            ...  ...          ...\n",
              "4955      theblaze  ...        right\n",
              "4956      theblaze  ...        right\n",
              "4957      theblaze  ...        right\n",
              "4958      theblaze  ...        right\n",
              "4959      theblaze  ...        right\n",
              "\n",
              "[4960 rows x 4 columns]"
            ]
          },
          "metadata": {},
          "execution_count": 4
        }
      ]
    },
    {
      "cell_type": "markdown",
      "metadata": {
        "id": "VG21E7jgmlUE"
      },
      "source": [
        "### 2. Text Pre-processing"
      ]
    },
    {
      "cell_type": "code",
      "metadata": {
        "id": "LP0erUy7ohHI"
      },
      "source": [
        "def to_lower(text):\n",
        "  return text.lower()"
      ],
      "execution_count": null,
      "outputs": []
    },
    {
      "cell_type": "code",
      "metadata": {
        "id": "lkqjdCO8oyzw"
      },
      "source": [
        "import re\n",
        "\n",
        "def remove_numbers(text):\n",
        "  return re.sub(r'\\d+', '', text)"
      ],
      "execution_count": null,
      "outputs": []
    },
    {
      "cell_type": "code",
      "metadata": {
        "id": "5BHrcs0ZpDqI"
      },
      "source": [
        "import string\n",
        "import numpy as np\n",
        "\n",
        "def remove_puctuation(text):\n",
        "  symbols = \"!\\\"#$%&()'*+-.,—/:;<=>?@[\\]^_`{|}~\\n“‘\"\n",
        "  for i in symbols:\n",
        "    text = text.replace(i, '')\n",
        "  return text"
      ],
      "execution_count": null,
      "outputs": []
    },
    {
      "cell_type": "code",
      "source": [
        "def preprocess(data):\n",
        "    data = to_lower(data)\n",
        "    data = remove_puctuation(data)\n",
        "    data = remove_numbers(data)\n",
        "    return data"
      ],
      "metadata": {
        "id": "jirIiMv_rkWv"
      },
      "execution_count": null,
      "outputs": []
    },
    {
      "cell_type": "code",
      "source": [
        "data = df_news_aggregator.iloc[3]['Content']\n",
        "data = preprocess(data)\n",
        "data"
      ],
      "metadata": {
        "colab": {
          "base_uri": "https://localhost:8080/"
        },
        "id": "iJ9GzLxTLIF9",
        "outputId": "2e5155f0-5451-498f-d8e3-edaf18512323"
      },
      "execution_count": null,
      "outputs": [
        {
          "output_type": "execute_result",
          "data": {
            "application/vnd.google.colaboratory.intrinsic+json": {
              "type": "string"
            },
            "text/plain": [
              "'the war of words between ebay and its new shareholder carl icahn continues to rage on today ebay issued a notice of an upcoming annual meeting in which the company asked shareholders flat out to vote against icahn’s proposal to spin off paypal meanwhile icahn issued yet another open letter against current ebay management in which he accused ceo john donahoe of inexcusable incompetence” that cost stockholders  billion carl icahn has also proposed adding two employees from the icahn group to ebay’s board icahn currently owns  of ebay as of february  ebay has also asked shareholders to reject that proposal on the subject of new board members ebay notes the board of directors does not endorse any icahn group nominee or the icahn proposal and unanimously recommends that you vote on the white proxy card or voting instruction form for all’ of the nominees proposed by the board of directors and against’ the icahn proposal” michael r jacobson company secretary writes in the sec filing the board of directors strongly urges you not to sign or return any proxy card sent to you by the icahn group” and on the subject of the spinoff proposal it is equally unequivocal the board has carefully considered this proposal and has unanimously agreed that spinning off the payments segment paypal into a separately traded public company would not be in the best interests of ebay or its stockholders” it writes the icahn proposal is not a new idea to the board or the company the board together with management and external advisers has assessed a spinoff of paypal several times and continues to believe that each of the company’s payments and commerce segments are stronger together than apart and see compelling benefits to keeping them together therefore the board recommends that you vote against the icahn proposal” from the looks of it the icahn letter doesn’t reveal materially any more information than previous statements from the activist investor but it’s mainly about making sure that they continue to have a fresh statement to match those of ebay it centers specifically on the sale of skype at what icahn believed was not a fair price he claims that donahoe and his advisers should not have spun off the asset to a consortium that included andreessen horowitz and should have instead settled outstanding intellectual property issues itself and sold the asset directly to microsoft or another interested party ebay has issued statements against these accusations already and so has marc andreessen ebay and key people associated with the company have also explained why the split does not make sense ebay has highlighted the synergies between the two companies and also how a lot of paypal’s growth is supported by ebay while reid hoffman argued convincingly about the choice between shortterm profit and longterm value creation paypal has recently started rolling out a new website and it accounted for around  of ebay’s  billion in revenues in  the timeline so far as outlined by ebay in its filing today on january   ebay received a notice from the icahn group indicating that it intended to nominate two icahn group employees to stand for election as directors to the ebay board of directors at ebay’s  annual meeting the notice also included a precatory proposal recommending that ebay act expeditiously to engage an investment banking firm to effectuate a spinoff of ebay’s payments segment into a separately traded company on january   the icahn group notified ebay by letter that it had filed a notice under the hartscottrodino antitrust improvements act of  or hsr act to enable the icahn group to acquire more than  million of ebay’s common stock including any shares that the icahn group may already own on each of january  and january   carl icahn and john donahoe ebay’s president and chief executive officer had telephone conversations concerning the icahn group’s perspectives on ebay and the upcoming annual meeting no agreements or understandings resulted from these conversations on january   in connection with ebay’s earnings release and associated conference call ebay publicly announced that it had received the notice from the icahn group regarding the  annual meeting on february   the icahn group delivered to ebay an update to its january   notice that included revised biographical information regarding one of the icahn group’s proposed nominees and indicated that the icahn group had acquired call options that conferred beneficial ownership of approximately  of ebay’s outstanding common stock on february   the federal trade commission granted early termination of the hsr act waiting period to the icahn group later that day the icahn group notified ebay by letter that it had exercised its call options resulting in the icahn group having beneficial ownership of approximately  of ebay’s outstanding common stock on february   mr icahn spoke with mr donahoe by telephone on february   the icahn group issued an open letter” to ebay stockholders that contained various allegations regarding ebay’s board and seeking support for the icahn proposal ebay responded later that day with a press release stating that the board welcomed discussion of the icahn proposal and rebutting the allegations contained in the icahn group’s letter on february   the icahn group submitted a demand to inspect the company’s books and records pursuant to section  of the delaware general corporation law the icahn demand” and on february   submitted a demand to inspect certain ebay stocklist materials ebay subsequently offered by letter to provide the icahn group with documents responsive to their section  demands in early march  mr donahoe and mr icahn spoke by telephone and subsequently had an inperson meeting during which additional representatives of both parties were present throughout january february and march the icahn group and the company published various solicitation materials image ebay'"
            ]
          },
          "metadata": {},
          "execution_count": 9
        }
      ]
    },
    {
      "cell_type": "markdown",
      "metadata": {
        "id": "rwZiRQ1cmn9U"
      },
      "source": [
        "### 3. Readability"
      ]
    },
    {
      "cell_type": "markdown",
      "metadata": {
        "id": "ht2bJSxbr17R"
      },
      "source": [
        "#### Utils"
      ]
    },
    {
      "cell_type": "code",
      "metadata": {
        "colab": {
          "base_uri": "https://localhost:8080/"
        },
        "id": "C0aUemmQrtM2",
        "outputId": "2f7945a4-270a-457c-b850-31c4bf965aa2"
      },
      "source": [
        "pip install textstat"
      ],
      "execution_count": null,
      "outputs": [
        {
          "output_type": "stream",
          "name": "stdout",
          "text": [
            "Collecting textstat\n",
            "  Downloading textstat-0.7.2-py3-none-any.whl (101 kB)\n",
            "\u001b[?25l\r\u001b[K     |███▏                            | 10 kB 19.6 MB/s eta 0:00:01\r\u001b[K     |██████▍                         | 20 kB 12.6 MB/s eta 0:00:01\r\u001b[K     |█████████▋                      | 30 kB 9.8 MB/s eta 0:00:01\r\u001b[K     |████████████▉                   | 40 kB 8.8 MB/s eta 0:00:01\r\u001b[K     |████████████████                | 51 kB 5.3 MB/s eta 0:00:01\r\u001b[K     |███████████████████▎            | 61 kB 5.7 MB/s eta 0:00:01\r\u001b[K     |██████████████████████▌         | 71 kB 5.5 MB/s eta 0:00:01\r\u001b[K     |█████████████████████████▊      | 81 kB 6.1 MB/s eta 0:00:01\r\u001b[K     |█████████████████████████████   | 92 kB 4.9 MB/s eta 0:00:01\r\u001b[K     |████████████████████████████████| 101 kB 3.9 MB/s \n",
            "\u001b[?25hCollecting pyphen\n",
            "  Downloading pyphen-0.12.0-py3-none-any.whl (2.0 MB)\n",
            "\u001b[K     |████████████████████████████████| 2.0 MB 30.7 MB/s \n",
            "\u001b[?25hInstalling collected packages: pyphen, textstat\n",
            "Successfully installed pyphen-0.12.0 textstat-0.7.2\n"
          ]
        }
      ]
    },
    {
      "cell_type": "code",
      "metadata": {
        "id": "Vaf5wreMsO7T"
      },
      "source": [
        "import spacy\n",
        "from textstat.textstat import textstatistics,legacy_round\n",
        "\n",
        "def break_sentences(text):\n",
        "\tnlp = spacy.load('en_core_web_sm')\n",
        "\tdoc = nlp(text)\n",
        "\treturn list(doc.sents)\n",
        "\n",
        "def word_count(text):\n",
        "\tsentences = break_sentences(text)\n",
        "\twords = 0\n",
        "\tfor sentence in sentences:\n",
        "\t\twords += len([token for token in sentence])\n",
        "\treturn words\n",
        "\n",
        "def sentence_count(text):\n",
        "\tsentences = break_sentences(text)\n",
        "\treturn len(sentences)\n",
        "\n",
        "def avg_sentence_length(text):\n",
        "\twords = word_count(text)\n",
        "\tsentences = sentence_count(text)\n",
        "\taverage_sentence_length = float(words / sentences)\n",
        "\treturn average_sentence_length\n",
        "\n",
        "def syllables_count(word):\n",
        "\treturn textstatistics().syllable_count(word)\n",
        "\n",
        "def avg_syllables_per_word(text):\n",
        "\tsyllable = syllables_count(text)\n",
        "\twords = word_count(text)\n",
        "\tASPW = float(syllable) / float(words)\n",
        "\treturn legacy_round(ASPW, 1)\n",
        "\n",
        "def difficult_words(text):\n",
        "\tnlp = spacy.load('en_core_web_sm')\n",
        "\tdoc = nlp(text)\n",
        "\n",
        "\twords = []\n",
        "\tsentences = break_sentences(text)\n",
        "\tfor sentence in sentences:\n",
        "\t\twords += [str(token) for token in sentence]\n",
        "\n",
        "\tdiff_words_set = set()\n",
        "\t\n",
        "\tfor word in words:\n",
        "\t\tsyllable_count = syllables_count(word)\n",
        "\t\tif word not in nlp.Defaults.stop_words and syllable_count >= 2:\n",
        "\t\t\tdiff_words_set.add(word)\n",
        "\n",
        "\treturn len(diff_words_set)\n",
        "\n",
        "def poly_syllable_count(text):\n",
        "\tcount = 0\n",
        "\twords = []\n",
        "\tsentences = break_sentences(text)\n",
        "\tfor sentence in sentences:\n",
        "\t\twords += [token for token in sentence]\n",
        "\t\n",
        "\n",
        "\tfor word in words:\n",
        "\t\tsyllable_count = syllables_count(word)\n",
        "\t\tif syllable_count >= 3:\n",
        "\t\t\tcount += 1\n",
        "\treturn count"
      ],
      "execution_count": null,
      "outputs": []
    },
    {
      "cell_type": "markdown",
      "metadata": {
        "id": "Smg6bXC6r4en"
      },
      "source": [
        "#### Flesch-Kincaid"
      ]
    },
    {
      "cell_type": "code",
      "metadata": {
        "id": "bVoFLu5GsRu8"
      },
      "source": [
        "def flesch_reading_ease(text):\n",
        "\tFRE = 206.835 - float(1.015 * avg_sentence_length(text)) -\\\n",
        "\t\tfloat(84.6 * avg_syllables_per_word(text))\n",
        "\treturn legacy_round(FRE, 2)"
      ],
      "execution_count": null,
      "outputs": []
    },
    {
      "cell_type": "markdown",
      "metadata": {
        "id": "yszbvIIfsEej"
      },
      "source": [
        "#### Dale-Chall"
      ]
    },
    {
      "cell_type": "code",
      "metadata": {
        "id": "_uZISEwosYlP"
      },
      "source": [
        "def dale_chall_readability_score(text):\n",
        "  words = word_count(text)\n",
        "  difficult_words_count = difficult_words(text)\n",
        "  count = words - difficult_words_count\n",
        "  \n",
        "  if words > 0:\n",
        "    per = float(count) / float(words) * 100\n",
        "  \n",
        "  diff_words = 100 - per\n",
        "  raw_score = (0.1579 * diff_words) + (0.0496 * avg_sentence_length(text))\n",
        "  \n",
        "  if diff_words > 5:\t\n",
        "    raw_score += 3.6365\n",
        "  \n",
        "  return legacy_round(raw_score, 2)"
      ],
      "execution_count": null,
      "outputs": []
    },
    {
      "cell_type": "markdown",
      "metadata": {
        "id": "YBawW_gNsGUk"
      },
      "source": [
        "#### Gunning Fog"
      ]
    },
    {
      "cell_type": "code",
      "metadata": {
        "id": "J15c2yLKsUID"
      },
      "source": [
        "def gunning_fog_score(text):\n",
        "\tper_diff_words = ((difficult_words(text) / word_count(text)) * 100) + 5\n",
        "\tgrade = 0.4 * (avg_sentence_length(text) + per_diff_words)\n",
        "\treturn grade"
      ],
      "execution_count": null,
      "outputs": []
    },
    {
      "cell_type": "markdown",
      "source": [
        "#### SMOG"
      ],
      "metadata": {
        "id": "JahYOLxsCysH"
      }
    },
    {
      "cell_type": "code",
      "source": [
        "def smog_index(text):\n",
        "\tif sentence_count(text) >= 3:\n",
        "\t\tpoly_syllab = poly_syllable_count(text)\n",
        "\t\tSMOG = (1.043 * (30*(poly_syllab / sentence_count(text)))**0.5) \\\n",
        "\t\t\t\t+ 3.1291\n",
        "\t\treturn legacy_round(SMOG, 1)\n",
        "\telse:\n",
        "\t\treturn 0"
      ],
      "metadata": {
        "id": "pSLvO1b9Cz4b"
      },
      "execution_count": null,
      "outputs": []
    },
    {
      "cell_type": "markdown",
      "source": [
        "#### Tests"
      ],
      "metadata": {
        "id": "meS1vddOTc-d"
      }
    },
    {
      "cell_type": "code",
      "source": [
        "text_to_test = df_news_aggregator.loc[1000]['Content']"
      ],
      "metadata": {
        "id": "4bdaFfaATfmC"
      },
      "execution_count": null,
      "outputs": []
    },
    {
      "cell_type": "code",
      "source": [
        "flesch_reading_ease(text_to_test)"
      ],
      "metadata": {
        "colab": {
          "base_uri": "https://localhost:8080/"
        },
        "id": "TzHLxMlJUmrc",
        "outputId": "0e6bec4d-cc12-49af-e4bf-68e0a4346152"
      },
      "execution_count": null,
      "outputs": [
        {
          "output_type": "execute_result",
          "data": {
            "text/plain": [
              "91.57"
            ]
          },
          "metadata": {},
          "execution_count": 17
        }
      ]
    },
    {
      "cell_type": "code",
      "source": [
        "dale_chall_readability_score(text_to_test)"
      ],
      "metadata": {
        "colab": {
          "base_uri": "https://localhost:8080/"
        },
        "id": "EKUKJbSlVIEZ",
        "outputId": "68a67bb7-d548-4725-d2c4-6a2ce8e1cea2"
      },
      "execution_count": null,
      "outputs": [
        {
          "output_type": "execute_result",
          "data": {
            "text/plain": [
              "6.84"
            ]
          },
          "metadata": {},
          "execution_count": 18
        }
      ]
    },
    {
      "cell_type": "code",
      "source": [
        "gunning_fog_score(text_to_test)"
      ],
      "metadata": {
        "colab": {
          "base_uri": "https://localhost:8080/"
        },
        "id": "ha1-9B1JVanz",
        "outputId": "820a63be-635c-4676-f136-ded3f3a6b08a"
      },
      "execution_count": null,
      "outputs": [
        {
          "output_type": "execute_result",
          "data": {
            "text/plain": [
              "16.121428571428574"
            ]
          },
          "metadata": {},
          "execution_count": 19
        }
      ]
    },
    {
      "cell_type": "markdown",
      "source": [
        "#### Tests News July - Readability Features"
      ],
      "metadata": {
        "id": "m_vKfLK34ZS6"
      }
    },
    {
      "cell_type": "code",
      "source": [
        "df_readability_names = [\"flesch-kincaid\", \"dale-chall\", \"gunning-fog\", \"bias\"]\n",
        "df_readability = pd.DataFrame(columns = df_readability_names)\n",
        "df_readability"
      ],
      "metadata": {
        "colab": {
          "base_uri": "https://localhost:8080/",
          "height": 49
        },
        "id": "0uijtZF04d23",
        "outputId": "3276eefd-96c5-4ef5-c432-c4cae3dd593a"
      },
      "execution_count": 97,
      "outputs": [
        {
          "output_type": "execute_result",
          "data": {
            "text/html": [
              "\n",
              "  <div id=\"df-eecd1e96-e528-4ad4-bd73-0a9f9562c293\">\n",
              "    <div class=\"colab-df-container\">\n",
              "      <div>\n",
              "<style scoped>\n",
              "    .dataframe tbody tr th:only-of-type {\n",
              "        vertical-align: middle;\n",
              "    }\n",
              "\n",
              "    .dataframe tbody tr th {\n",
              "        vertical-align: top;\n",
              "    }\n",
              "\n",
              "    .dataframe thead th {\n",
              "        text-align: right;\n",
              "    }\n",
              "</style>\n",
              "<table border=\"1\" class=\"dataframe\">\n",
              "  <thead>\n",
              "    <tr style=\"text-align: right;\">\n",
              "      <th></th>\n",
              "      <th>flesch-kincaid</th>\n",
              "      <th>dale-chall</th>\n",
              "      <th>gunning-fog</th>\n",
              "      <th>bias</th>\n",
              "    </tr>\n",
              "  </thead>\n",
              "  <tbody>\n",
              "  </tbody>\n",
              "</table>\n",
              "</div>\n",
              "      <button class=\"colab-df-convert\" onclick=\"convertToInteractive('df-eecd1e96-e528-4ad4-bd73-0a9f9562c293')\"\n",
              "              title=\"Convert this dataframe to an interactive table.\"\n",
              "              style=\"display:none;\">\n",
              "        \n",
              "  <svg xmlns=\"http://www.w3.org/2000/svg\" height=\"24px\"viewBox=\"0 0 24 24\"\n",
              "       width=\"24px\">\n",
              "    <path d=\"M0 0h24v24H0V0z\" fill=\"none\"/>\n",
              "    <path d=\"M18.56 5.44l.94 2.06.94-2.06 2.06-.94-2.06-.94-.94-2.06-.94 2.06-2.06.94zm-11 1L8.5 8.5l.94-2.06 2.06-.94-2.06-.94L8.5 2.5l-.94 2.06-2.06.94zm10 10l.94 2.06.94-2.06 2.06-.94-2.06-.94-.94-2.06-.94 2.06-2.06.94z\"/><path d=\"M17.41 7.96l-1.37-1.37c-.4-.4-.92-.59-1.43-.59-.52 0-1.04.2-1.43.59L10.3 9.45l-7.72 7.72c-.78.78-.78 2.05 0 2.83L4 21.41c.39.39.9.59 1.41.59.51 0 1.02-.2 1.41-.59l7.78-7.78 2.81-2.81c.8-.78.8-2.07 0-2.86zM5.41 20L4 18.59l7.72-7.72 1.47 1.35L5.41 20z\"/>\n",
              "  </svg>\n",
              "      </button>\n",
              "      \n",
              "  <style>\n",
              "    .colab-df-container {\n",
              "      display:flex;\n",
              "      flex-wrap:wrap;\n",
              "      gap: 12px;\n",
              "    }\n",
              "\n",
              "    .colab-df-convert {\n",
              "      background-color: #E8F0FE;\n",
              "      border: none;\n",
              "      border-radius: 50%;\n",
              "      cursor: pointer;\n",
              "      display: none;\n",
              "      fill: #1967D2;\n",
              "      height: 32px;\n",
              "      padding: 0 0 0 0;\n",
              "      width: 32px;\n",
              "    }\n",
              "\n",
              "    .colab-df-convert:hover {\n",
              "      background-color: #E2EBFA;\n",
              "      box-shadow: 0px 1px 2px rgba(60, 64, 67, 0.3), 0px 1px 3px 1px rgba(60, 64, 67, 0.15);\n",
              "      fill: #174EA6;\n",
              "    }\n",
              "\n",
              "    [theme=dark] .colab-df-convert {\n",
              "      background-color: #3B4455;\n",
              "      fill: #D2E3FC;\n",
              "    }\n",
              "\n",
              "    [theme=dark] .colab-df-convert:hover {\n",
              "      background-color: #434B5C;\n",
              "      box-shadow: 0px 1px 3px 1px rgba(0, 0, 0, 0.15);\n",
              "      filter: drop-shadow(0px 1px 2px rgba(0, 0, 0, 0.3));\n",
              "      fill: #FFFFFF;\n",
              "    }\n",
              "  </style>\n",
              "\n",
              "      <script>\n",
              "        const buttonEl =\n",
              "          document.querySelector('#df-eecd1e96-e528-4ad4-bd73-0a9f9562c293 button.colab-df-convert');\n",
              "        buttonEl.style.display =\n",
              "          google.colab.kernel.accessAllowed ? 'block' : 'none';\n",
              "\n",
              "        async function convertToInteractive(key) {\n",
              "          const element = document.querySelector('#df-eecd1e96-e528-4ad4-bd73-0a9f9562c293');\n",
              "          const dataTable =\n",
              "            await google.colab.kernel.invokeFunction('convertToInteractive',\n",
              "                                                     [key], {});\n",
              "          if (!dataTable) return;\n",
              "\n",
              "          const docLinkHtml = 'Like what you see? Visit the ' +\n",
              "            '<a target=\"_blank\" href=https://colab.research.google.com/notebooks/data_table.ipynb>data table notebook</a>'\n",
              "            + ' to learn more about interactive tables.';\n",
              "          element.innerHTML = '';\n",
              "          dataTable['output_type'] = 'display_data';\n",
              "          await google.colab.output.renderOutput(dataTable, element);\n",
              "          const docLink = document.createElement('div');\n",
              "          docLink.innerHTML = docLinkHtml;\n",
              "          element.appendChild(docLink);\n",
              "        }\n",
              "      </script>\n",
              "    </div>\n",
              "  </div>\n",
              "  "
            ],
            "text/plain": [
              "Empty DataFrame\n",
              "Columns: [flesch-kincaid, dale-chall, gunning-fog, bias]\n",
              "Index: []"
            ]
          },
          "metadata": {},
          "execution_count": 97
        }
      ]
    },
    {
      "cell_type": "code",
      "source": [
        "import textstat\n",
        "\n",
        "for value in df_news_july.values:\n",
        "  bias = \"\"\n",
        "  if \"left\" in value[3]:\n",
        "    bias = \"left\"\n",
        "  else:\n",
        "    bias = \"right\"\n",
        "  content = preprocess(value[2])\n",
        "  flesch_kincaid = textstat.flesch_kincaid_grade(content)\n",
        "  dale_chall = textstat.dale_chall_readability_score(content)\n",
        "  gunning_fog = textstat.gunning_fog(content)\n",
        "  df_readability = df_readability.append({\"flesch-kincaid\": flesch_kincaid, \"dale-chall\": dale_chall, \"gunning-fog\": gunning_fog, \"bias\": bias}, ignore_index=True)\n",
        "df_readability"
      ],
      "metadata": {
        "colab": {
          "base_uri": "https://localhost:8080/",
          "height": 424
        },
        "id": "vdHNUy11LIi2",
        "outputId": "59ad83c6-fe6a-4e81-c6c3-91e4404ac424"
      },
      "execution_count": 98,
      "outputs": [
        {
          "output_type": "execute_result",
          "data": {
            "text/html": [
              "\n",
              "  <div id=\"df-1157db23-1cc9-4048-904d-e3a242cbee63\">\n",
              "    <div class=\"colab-df-container\">\n",
              "      <div>\n",
              "<style scoped>\n",
              "    .dataframe tbody tr th:only-of-type {\n",
              "        vertical-align: middle;\n",
              "    }\n",
              "\n",
              "    .dataframe tbody tr th {\n",
              "        vertical-align: top;\n",
              "    }\n",
              "\n",
              "    .dataframe thead th {\n",
              "        text-align: right;\n",
              "    }\n",
              "</style>\n",
              "<table border=\"1\" class=\"dataframe\">\n",
              "  <thead>\n",
              "    <tr style=\"text-align: right;\">\n",
              "      <th></th>\n",
              "      <th>flesch-kincaid</th>\n",
              "      <th>dale-chall</th>\n",
              "      <th>gunning-fog</th>\n",
              "      <th>bias</th>\n",
              "    </tr>\n",
              "  </thead>\n",
              "  <tbody>\n",
              "    <tr>\n",
              "      <th>0</th>\n",
              "      <td>15.0</td>\n",
              "      <td>9.07</td>\n",
              "      <td>18.21</td>\n",
              "      <td>left</td>\n",
              "    </tr>\n",
              "    <tr>\n",
              "      <th>1</th>\n",
              "      <td>1038.0</td>\n",
              "      <td>138.35</td>\n",
              "      <td>1064.84</td>\n",
              "      <td>left</td>\n",
              "    </tr>\n",
              "    <tr>\n",
              "      <th>2</th>\n",
              "      <td>495.5</td>\n",
              "      <td>69.56</td>\n",
              "      <td>509.25</td>\n",
              "      <td>left</td>\n",
              "    </tr>\n",
              "    <tr>\n",
              "      <th>3</th>\n",
              "      <td>458.4</td>\n",
              "      <td>65.46</td>\n",
              "      <td>470.74</td>\n",
              "      <td>left</td>\n",
              "    </tr>\n",
              "    <tr>\n",
              "      <th>4</th>\n",
              "      <td>737.7</td>\n",
              "      <td>100.65</td>\n",
              "      <td>757.69</td>\n",
              "      <td>left</td>\n",
              "    </tr>\n",
              "    <tr>\n",
              "      <th>...</th>\n",
              "      <td>...</td>\n",
              "      <td>...</td>\n",
              "      <td>...</td>\n",
              "      <td>...</td>\n",
              "    </tr>\n",
              "    <tr>\n",
              "      <th>4955</th>\n",
              "      <td>119.9</td>\n",
              "      <td>22.80</td>\n",
              "      <td>124.11</td>\n",
              "      <td>right</td>\n",
              "    </tr>\n",
              "    <tr>\n",
              "      <th>4956</th>\n",
              "      <td>135.5</td>\n",
              "      <td>24.15</td>\n",
              "      <td>139.61</td>\n",
              "      <td>right</td>\n",
              "    </tr>\n",
              "    <tr>\n",
              "      <th>4957</th>\n",
              "      <td>110.2</td>\n",
              "      <td>21.09</td>\n",
              "      <td>113.10</td>\n",
              "      <td>right</td>\n",
              "    </tr>\n",
              "    <tr>\n",
              "      <th>4958</th>\n",
              "      <td>119.9</td>\n",
              "      <td>22.80</td>\n",
              "      <td>122.94</td>\n",
              "      <td>right</td>\n",
              "    </tr>\n",
              "    <tr>\n",
              "      <th>4959</th>\n",
              "      <td>118.3</td>\n",
              "      <td>23.19</td>\n",
              "      <td>122.47</td>\n",
              "      <td>right</td>\n",
              "    </tr>\n",
              "  </tbody>\n",
              "</table>\n",
              "<p>4960 rows × 4 columns</p>\n",
              "</div>\n",
              "      <button class=\"colab-df-convert\" onclick=\"convertToInteractive('df-1157db23-1cc9-4048-904d-e3a242cbee63')\"\n",
              "              title=\"Convert this dataframe to an interactive table.\"\n",
              "              style=\"display:none;\">\n",
              "        \n",
              "  <svg xmlns=\"http://www.w3.org/2000/svg\" height=\"24px\"viewBox=\"0 0 24 24\"\n",
              "       width=\"24px\">\n",
              "    <path d=\"M0 0h24v24H0V0z\" fill=\"none\"/>\n",
              "    <path d=\"M18.56 5.44l.94 2.06.94-2.06 2.06-.94-2.06-.94-.94-2.06-.94 2.06-2.06.94zm-11 1L8.5 8.5l.94-2.06 2.06-.94-2.06-.94L8.5 2.5l-.94 2.06-2.06.94zm10 10l.94 2.06.94-2.06 2.06-.94-2.06-.94-.94-2.06-.94 2.06-2.06.94z\"/><path d=\"M17.41 7.96l-1.37-1.37c-.4-.4-.92-.59-1.43-.59-.52 0-1.04.2-1.43.59L10.3 9.45l-7.72 7.72c-.78.78-.78 2.05 0 2.83L4 21.41c.39.39.9.59 1.41.59.51 0 1.02-.2 1.41-.59l7.78-7.78 2.81-2.81c.8-.78.8-2.07 0-2.86zM5.41 20L4 18.59l7.72-7.72 1.47 1.35L5.41 20z\"/>\n",
              "  </svg>\n",
              "      </button>\n",
              "      \n",
              "  <style>\n",
              "    .colab-df-container {\n",
              "      display:flex;\n",
              "      flex-wrap:wrap;\n",
              "      gap: 12px;\n",
              "    }\n",
              "\n",
              "    .colab-df-convert {\n",
              "      background-color: #E8F0FE;\n",
              "      border: none;\n",
              "      border-radius: 50%;\n",
              "      cursor: pointer;\n",
              "      display: none;\n",
              "      fill: #1967D2;\n",
              "      height: 32px;\n",
              "      padding: 0 0 0 0;\n",
              "      width: 32px;\n",
              "    }\n",
              "\n",
              "    .colab-df-convert:hover {\n",
              "      background-color: #E2EBFA;\n",
              "      box-shadow: 0px 1px 2px rgba(60, 64, 67, 0.3), 0px 1px 3px 1px rgba(60, 64, 67, 0.15);\n",
              "      fill: #174EA6;\n",
              "    }\n",
              "\n",
              "    [theme=dark] .colab-df-convert {\n",
              "      background-color: #3B4455;\n",
              "      fill: #D2E3FC;\n",
              "    }\n",
              "\n",
              "    [theme=dark] .colab-df-convert:hover {\n",
              "      background-color: #434B5C;\n",
              "      box-shadow: 0px 1px 3px 1px rgba(0, 0, 0, 0.15);\n",
              "      filter: drop-shadow(0px 1px 2px rgba(0, 0, 0, 0.3));\n",
              "      fill: #FFFFFF;\n",
              "    }\n",
              "  </style>\n",
              "\n",
              "      <script>\n",
              "        const buttonEl =\n",
              "          document.querySelector('#df-1157db23-1cc9-4048-904d-e3a242cbee63 button.colab-df-convert');\n",
              "        buttonEl.style.display =\n",
              "          google.colab.kernel.accessAllowed ? 'block' : 'none';\n",
              "\n",
              "        async function convertToInteractive(key) {\n",
              "          const element = document.querySelector('#df-1157db23-1cc9-4048-904d-e3a242cbee63');\n",
              "          const dataTable =\n",
              "            await google.colab.kernel.invokeFunction('convertToInteractive',\n",
              "                                                     [key], {});\n",
              "          if (!dataTable) return;\n",
              "\n",
              "          const docLinkHtml = 'Like what you see? Visit the ' +\n",
              "            '<a target=\"_blank\" href=https://colab.research.google.com/notebooks/data_table.ipynb>data table notebook</a>'\n",
              "            + ' to learn more about interactive tables.';\n",
              "          element.innerHTML = '';\n",
              "          dataTable['output_type'] = 'display_data';\n",
              "          await google.colab.output.renderOutput(dataTable, element);\n",
              "          const docLink = document.createElement('div');\n",
              "          docLink.innerHTML = docLinkHtml;\n",
              "          element.appendChild(docLink);\n",
              "        }\n",
              "      </script>\n",
              "    </div>\n",
              "  </div>\n",
              "  "
            ],
            "text/plain": [
              "      flesch-kincaid  dale-chall  gunning-fog   bias\n",
              "0               15.0        9.07        18.21   left\n",
              "1             1038.0      138.35      1064.84   left\n",
              "2              495.5       69.56       509.25   left\n",
              "3              458.4       65.46       470.74   left\n",
              "4              737.7      100.65       757.69   left\n",
              "...              ...         ...          ...    ...\n",
              "4955           119.9       22.80       124.11  right\n",
              "4956           135.5       24.15       139.61  right\n",
              "4957           110.2       21.09       113.10  right\n",
              "4958           119.9       22.80       122.94  right\n",
              "4959           118.3       23.19       122.47  right\n",
              "\n",
              "[4960 rows x 4 columns]"
            ]
          },
          "metadata": {},
          "execution_count": 98
        }
      ]
    },
    {
      "cell_type": "code",
      "source": [
        "y = df_readability['bias']"
      ],
      "metadata": {
        "id": "6yJZ1Ld0S_gS"
      },
      "execution_count": 56,
      "outputs": []
    },
    {
      "cell_type": "markdown",
      "source": [
        "##### 1 feature"
      ],
      "metadata": {
        "id": "97mB9-CJSy-K"
      }
    },
    {
      "cell_type": "code",
      "source": [
        "from sklearn import preprocessing\n",
        "from numpy import mean\n",
        "from numpy import std\n",
        "from pandas import read_csv\n",
        "from sklearn.model_selection import LeaveOneOut\n",
        "from sklearn.model_selection import cross_validate\n",
        "from sklearn.model_selection import train_test_split\n",
        "from sklearn.metrics import accuracy_score\n",
        "from sklearn.svm import SVC\n",
        "\n",
        "cv = LeaveOneOut()\n",
        "model = SVC(kernel='rbf', gamma='scale')\n",
        "scoring = {'acc': 'accuracy',\n",
        "           'prec_macro': 'precision_macro',\n",
        "           'rec_micro': 'recall_macro'}"
      ],
      "metadata": {
        "id": "ZDlflqNCUSh4"
      },
      "execution_count": 100,
      "outputs": []
    },
    {
      "cell_type": "code",
      "source": [
        "# Flesch-Kincaid\n",
        "X_1 = df_readability.drop(['dale-chall', 'gunning-fog', 'bias'], axis=1)"
      ],
      "metadata": {
        "colab": {
          "base_uri": "https://localhost:8080/"
        },
        "id": "WXQI9mGUS3KZ",
        "outputId": "ad7db873-1254-400f-f116-1f75928d5cda"
      },
      "execution_count": 99,
      "outputs": [
        {
          "output_type": "execute_result",
          "data": {
            "text/plain": [
              "(4960, 1)"
            ]
          },
          "metadata": {},
          "execution_count": 99
        }
      ]
    },
    {
      "cell_type": "code",
      "source": [
        "# Dale-Chall\n",
        "X_2 = df_readability.drop(['flesch-kincaid', 'gunning-fog', 'bias'], axis=1)"
      ],
      "metadata": {
        "id": "V3OyYeofT5BQ"
      },
      "execution_count": 101,
      "outputs": []
    },
    {
      "cell_type": "code",
      "source": [
        "# Gunning-Fog\n",
        "X_3 = df_readability.drop(['flesch-kincaid', 'dale-chall', 'bias'], axis=1)"
      ],
      "metadata": {
        "id": "MVr8qF-oUA1i"
      },
      "execution_count": 102,
      "outputs": []
    },
    {
      "cell_type": "markdown",
      "source": [
        "##### 2 features"
      ],
      "metadata": {
        "id": "YhAfK8w0S3mz"
      }
    },
    {
      "cell_type": "code",
      "source": [
        "# Flesch-Kincaid + Dale-Chall\n",
        "X_12 = df_readability.drop(['gunning-fog', 'bias'], axis=1)"
      ],
      "metadata": {
        "id": "-IiGnf3BS6j3"
      },
      "execution_count": 107,
      "outputs": []
    },
    {
      "cell_type": "code",
      "source": [
        "# Flesch-Kincaid + Gunning-Fog\n",
        "X_13 = df_readability.drop(['dale-chall', 'bias'], axis=1)"
      ],
      "metadata": {
        "id": "0TCD53oovDq-"
      },
      "execution_count": 109,
      "outputs": []
    },
    {
      "cell_type": "code",
      "source": [
        "# Dale-Chall + Gunning-Fog\n",
        "X_23 = df_readability.drop(['flesch-kincaid', 'bias'], axis=1) "
      ],
      "metadata": {
        "id": "g0EKwjPZvEis"
      },
      "execution_count": 112,
      "outputs": []
    },
    {
      "cell_type": "markdown",
      "source": [
        "##### 3 features"
      ],
      "metadata": {
        "id": "O0YL6zf3S65v"
      }
    },
    {
      "cell_type": "code",
      "source": [
        "X_123 = df_readability.drop(['bias'], axis=1) "
      ],
      "metadata": {
        "id": "UbSGfCnGS9Go"
      },
      "execution_count": 115,
      "outputs": []
    },
    {
      "cell_type": "markdown",
      "source": [
        "### 4. n-grams"
      ],
      "metadata": {
        "id": "fu2tmuDAY0b1"
      }
    },
    {
      "cell_type": "code",
      "source": [
        "import re\n",
        "\n",
        "def generate_ngrams(s, n):\n",
        "    s = s.lower()\n",
        "    s = re.sub(r'[^a-zA-Z0-9\\s]', ' ', s)\n",
        "    tokens = [token for token in s.split(\" \") if token != \"\"]\n",
        "    ngrams = zip(*[tokens[i:] for i in range(n)])\n",
        "    return [\" \".join(ngram) for ngram in ngrams]"
      ],
      "metadata": {
        "id": "wZC1vjYdY3lP"
      },
      "execution_count": null,
      "outputs": []
    },
    {
      "cell_type": "code",
      "source": [
        "unigram = generate_ngrams(text_to_test, 1)\n",
        "bigram = generate_ngrams(text_to_test, 2)"
      ],
      "metadata": {
        "id": "-0PTAIKJZCdX"
      },
      "execution_count": null,
      "outputs": []
    },
    {
      "cell_type": "markdown",
      "source": [
        "### 5. Information Theory Approach to detect media bias"
      ],
      "metadata": {
        "id": "hWFDCeeYrT9m"
      }
    },
    {
      "cell_type": "markdown",
      "source": [
        "#### Testes News July"
      ],
      "metadata": {
        "id": "j-uWFpL_nDu7"
      }
    },
    {
      "cell_type": "markdown",
      "source": [
        "##### 5.1.3.1. Computar importância de todos os termos e descartar os de menor frequência"
      ],
      "metadata": {
        "id": "J0WS6_ZJ_LFj"
      }
    },
    {
      "cell_type": "code",
      "source": [
        "corpus_news_aggregator_left = \"\"\n",
        "corpus_news_aggregator_right = \"\"\n",
        "\n",
        "for index, row in df_news_july.iterrows():\n",
        "    text = row['Content']\n",
        "    if 'left' in row['Bias']:\n",
        "        corpus_news_aggregator_left += preprocess(text)\n",
        "    else: \n",
        "        corpus_news_aggregator_right += preprocess(text)"
      ],
      "metadata": {
        "id": "MLWMqMKMnDu7"
      },
      "execution_count": null,
      "outputs": []
    },
    {
      "cell_type": "code",
      "source": [
        "bag_of_words_news_aggregator_left = corpus_news_aggregator_left.split(' ')"
      ],
      "metadata": {
        "id": "Cb8X7szYnDu7"
      },
      "execution_count": null,
      "outputs": []
    },
    {
      "cell_type": "code",
      "source": [
        "bag_of_words_news_aggregator_right = corpus_news_aggregator_right.split(' ')"
      ],
      "metadata": {
        "id": "-9X5bWoxnDu7"
      },
      "execution_count": null,
      "outputs": []
    },
    {
      "cell_type": "code",
      "source": [
        "bag_of_words = set(bag_of_words_news_aggregator_left).union(set(bag_of_words_news_aggregator_right))"
      ],
      "metadata": {
        "id": "Im6vrztfnDu7"
      },
      "execution_count": null,
      "outputs": []
    },
    {
      "cell_type": "code",
      "source": [
        "number_of_words_left = dict.fromkeys(bag_of_words, 0)\n",
        "for word in bag_of_words_news_aggregator_left:\n",
        "    number_of_words_left[word] += 1\n",
        "df_left = pd.DataFrame(list(number_of_words_left.items()),columns = ['word','occ-left'])\n",
        "\n",
        "number_of_words_right = dict.fromkeys(bag_of_words, 0)\n",
        "for word in bag_of_words_news_aggregator_right:\n",
        "    number_of_words_right[word] += 1\n",
        "df_right = pd.DataFrame(list(number_of_words_right.items()),columns = ['word','occ-right'])\n",
        "\n",
        "df_words = pd.merge(df_left, df_right, on='word')\n",
        "df_words"
      ],
      "metadata": {
        "id": "hh19YHEgnDu8"
      },
      "execution_count": null,
      "outputs": []
    },
    {
      "cell_type": "code",
      "source": [
        "index = df_words[ df_words['occ-left'] + df_words['occ-right'] < 10 ].index\n",
        "df_words.drop(index, inplace = True)\n",
        "df_words"
      ],
      "metadata": {
        "id": "Q1z87ZC9ANAV"
      },
      "execution_count": null,
      "outputs": []
    },
    {
      "cell_type": "markdown",
      "source": [
        "##### 5.1.3.2. Construção da função de probabilidade do termo t sobre as classes"
      ],
      "metadata": {
        "id": "xoI0nc5g_blF"
      }
    },
    {
      "cell_type": "code",
      "source": [
        "pd.options.mode.chained_assignment = None  # default='warn'\n",
        "\n",
        "df_words['perc-left'] = 0.0\n",
        "df_words['perc-right'] = 0.0\n",
        "\n",
        "for i in df_words.index:\n",
        "  total = df_words['occ-left'][i] + df_words['occ-right'][i]\n",
        "  df_words['perc-left'][i] = round(float(df_words['occ-left'][i] / total), 3)\n",
        "  df_words['perc-right'][i] = round(float(df_words['occ-right'][i] / total), 3)\n",
        "\n",
        "df_words"
      ],
      "metadata": {
        "id": "XF4XzeXOnDu8"
      },
      "execution_count": null,
      "outputs": []
    },
    {
      "cell_type": "markdown",
      "source": [
        "##### 5.1.3.3. Calcular a entropia de cada termo"
      ],
      "metadata": {
        "id": "5TeRPidr_ky-"
      }
    },
    {
      "cell_type": "code",
      "source": [
        "df_words['shannon-entropy'] = 0.0\n",
        "df_words"
      ],
      "metadata": {
        "id": "BvGlwtmr9NOo"
      },
      "execution_count": null,
      "outputs": []
    },
    {
      "cell_type": "code",
      "source": [
        "import numpy\n",
        "import sys\n",
        "numpy.seterr(divide = 'warn') \n",
        "\n",
        "def calculate_shannon_entropy(probs):\n",
        "  sum = 0.0\n",
        "  for prob in probs:\n",
        "    if prob != 0:\n",
        "      sum -= prob * numpy.log(prob)\n",
        "  return sum / numpy.log(2)"
      ],
      "metadata": {
        "id": "zjKSI__C6ueW"
      },
      "execution_count": null,
      "outputs": []
    },
    {
      "cell_type": "code",
      "source": [
        "df_words['shannon-entropy'] = 0.0\n",
        "\n",
        "for i in df_words.index:\n",
        "  shannon_entropy = round(calculate_shannon_entropy([df_words['perc-left'][i], df_words['perc-right'][i]]), 3)\n",
        "  df_words['shannon-entropy'][i] = shannon_entropy\n",
        "\n",
        "df_words"
      ],
      "metadata": {
        "id": "E4gxETE08eDG"
      },
      "execution_count": null,
      "outputs": []
    },
    {
      "cell_type": "code",
      "source": [
        "df_trump = df_words.loc[df_words['word'] == 'trump']\n",
        "df_trump"
      ],
      "metadata": {
        "id": "Pavq2W_5CIYj"
      },
      "execution_count": null,
      "outputs": []
    },
    {
      "cell_type": "code",
      "source": [
        "df_soros = df_words.loc[df_words['word'] == 'soros']\n",
        "df_soros"
      ],
      "metadata": {
        "id": "nuAx0DJwCLC8"
      },
      "execution_count": null,
      "outputs": []
    },
    {
      "cell_type": "markdown",
      "source": [
        "##### 5.1.3.4. Selecionar vocabulário de referência"
      ],
      "metadata": {
        "id": "cu32GSsJC5A4"
      }
    },
    {
      "cell_type": "code",
      "source": [
        "df_reference_vocabulary = df_words.nsmallest(10000, ['shannon-entropy'])\n",
        "df_reference_vocabulary"
      ],
      "metadata": {
        "id": "wpZZuyCfDF_i"
      },
      "execution_count": null,
      "outputs": []
    },
    {
      "cell_type": "markdown",
      "source": [
        "##### 5.1.4 Modelagem da função de probabilidade de todos os termos t ∈ VR"
      ],
      "metadata": {
        "id": "dYP3-t_1ESeY"
      }
    },
    {
      "cell_type": "code",
      "source": [
        "df_news_july"
      ],
      "metadata": {
        "id": "-xUESTqpHLvx"
      },
      "execution_count": null,
      "outputs": []
    },
    {
      "cell_type": "code",
      "source": [
        "df_portals_content_names = [\"Source\", \"Content\", \"Bias\"]\n",
        "df_portals_content = pd.DataFrame(columns = df_portals_content_names)\n",
        "df_portals_content"
      ],
      "metadata": {
        "id": "q3kwan7aHa3q"
      },
      "execution_count": null,
      "outputs": []
    },
    {
      "cell_type": "code",
      "source": [
        "last_source = \"berkeleyside\"\n",
        "df_portals_content = df_portals_content.append({'Source': last_source, 'Content': \"\", \"Bias\": \"left\"}, ignore_index=True)\n",
        "\n",
        "for index, row in df_news_july.iterrows():\n",
        "  source = row['Source']\n",
        "  bias = \"\"\n",
        "  if \"left\" in row['Bias']:\n",
        "    bias = \"left\"\n",
        "  else:\n",
        "    bias = \"right\"\n",
        "  if source != last_source:\n",
        "    df_portals_content = df_portals_content.append({'Source': source, 'Content': \"\", \"Bias\": bias}, ignore_index=True)\n",
        "    last_source = source\n",
        "\n",
        "df_portals_content"
      ],
      "metadata": {
        "id": "ovcTyoTaEehM"
      },
      "execution_count": null,
      "outputs": []
    },
    {
      "cell_type": "code",
      "source": [
        "for index, row in df_portals_content.iterrows():\n",
        "  source = row['Source']\n",
        "  content = \"\"\n",
        "  rows_1 = df_news_july[df_news_july['Source'] == source]\n",
        "  for index_1, row_1 in rows_1.iterrows():\n",
        "    content += preprocess(row_1['Content'])\n",
        "  df_portals_content.at[index,'Content'] = content"
      ],
      "metadata": {
        "id": "uU9YyNCXIj8O"
      },
      "execution_count": null,
      "outputs": []
    },
    {
      "cell_type": "code",
      "source": [
        "df_portals_content"
      ],
      "metadata": {
        "id": "IFVwMkmYKUkR"
      },
      "execution_count": null,
      "outputs": []
    },
    {
      "cell_type": "code",
      "source": [
        "df_portals_names = [\"Source\", \"Bias\"]\n",
        "df_portals = pd.DataFrame(columns = df_portals_names)\n",
        "df_portals"
      ],
      "metadata": {
        "id": "6wOs8DGXNjfY"
      },
      "execution_count": null,
      "outputs": []
    },
    {
      "cell_type": "code",
      "source": [
        "from collections import Counter\n",
        "\n",
        "for index, row in df_portals_content.iterrows():\n",
        "  df_portals.at[index, 'Source'] = row['Source']\n",
        "  bias = \"\"\n",
        "  if \"left\" in row['Bias']:\n",
        "    bias = \"left\"\n",
        "  else:\n",
        "    bias = \"right\"\n",
        "  df_portals.at[index, 'Bias'] = bias\n",
        "  portal_content = row['Content']\n",
        "  for index_1, row_1 in df_reference_vocabulary.iterrows():\n",
        "    word = row_1['word']\n",
        "    if row['Source'] == \"berkeleyside\":\n",
        "      df_portals[word] = 0.2\n",
        "    #counter = Counter(portal_content)\n",
        "    frequency = portal_content.count(word)\n",
        "    df_portals.at[index, word] = frequency"
      ],
      "metadata": {
        "id": "IDFgezHfNt8y"
      },
      "execution_count": null,
      "outputs": []
    },
    {
      "cell_type": "code",
      "source": [
        "df_portals"
      ],
      "metadata": {
        "id": "a3xl_h50XgpA"
      },
      "execution_count": null,
      "outputs": []
    },
    {
      "cell_type": "code",
      "source": [
        "for index, row in df_portals.iterrows():\n",
        "  sum_row = row[2:].sum()\n",
        "  for name, value in row.iteritems():\n",
        "    if type(value) == float:\n",
        "      df_portals.at[index, name] = value / sum_row\n",
        "\n",
        "df_portals"
      ],
      "metadata": {
        "id": "qbQGnbRkYgyO"
      },
      "execution_count": null,
      "outputs": []
    },
    {
      "cell_type": "markdown",
      "source": [
        "##### 5.1.4 Modelagem da função de probabilidade das classes de viés"
      ],
      "metadata": {
        "id": "msLMSPeuEZ-j"
      }
    },
    {
      "cell_type": "code",
      "source": [
        "df_portals_reference_names = [\"Bias\", \"Content\"]\n",
        "df_portals_reference = pd.DataFrame(columns = df_portals_reference_names)\n",
        "df_portals_reference = df_portals_reference.append({\"Bias\": \"left\", 'Content': corpus_news_aggregator_left}, ignore_index=True)\n",
        "df_portals_reference = df_portals_reference.append({\"Bias\": \"right\", 'Content': corpus_news_aggregator_right,}, ignore_index=True)\n",
        "df_portals_reference"
      ],
      "metadata": {
        "id": "aMHb4_8wssV9"
      },
      "execution_count": null,
      "outputs": []
    },
    {
      "cell_type": "code",
      "source": [
        "df_portals_prob_names = [\"Bias\"]\n",
        "df_portals_reference_prob = pd.DataFrame(columns = df_portals_prob_names)\n",
        "df_portals_reference_prob"
      ],
      "metadata": {
        "id": "aA2j81J4xEmb"
      },
      "execution_count": null,
      "outputs": []
    },
    {
      "cell_type": "code",
      "source": [
        "from collections import Counter\n",
        "\n",
        "for index, row in df_portals_reference.iterrows():\n",
        "  df_portals_reference_prob.at[index, 'Bias'] = row['Bias']\n",
        "  portal_content = row['Content']\n",
        "  for index_1, row_1 in df_reference_vocabulary.iterrows():\n",
        "    word = row_1['word']\n",
        "    if row['Bias'] == \"left\":\n",
        "      df_portals_reference_prob[word] = 0.2\n",
        "    frequency = portal_content.count(word)\n",
        "    df_portals_reference_prob.at[index, word] = frequency\n",
        "\n",
        "df_portals_reference_prob"
      ],
      "metadata": {
        "id": "lKGasdMiw8jk"
      },
      "execution_count": null,
      "outputs": []
    },
    {
      "cell_type": "code",
      "source": [
        "for index, row in df_portals_reference_prob.iterrows():\n",
        "  sum_row = row[1:].sum()\n",
        "  for name, value in row.iteritems():\n",
        "    if type(value) == float:\n",
        "      df_portals_reference_prob.at[index, name] = value / sum_row\n",
        "\n",
        "df_portals_reference_prob"
      ],
      "metadata": {
        "id": "ZuyPpZmRxyko"
      },
      "execution_count": null,
      "outputs": []
    },
    {
      "cell_type": "markdown",
      "source": [
        "##### 5.1.5 Computar dissimilaridade entre portais e classes de viés"
      ],
      "metadata": {
        "id": "POf2_A79o62K"
      }
    },
    {
      "cell_type": "markdown",
      "source": [
        "###### Utils"
      ],
      "metadata": {
        "id": "pXIe5zwFsMYG"
      }
    },
    {
      "cell_type": "code",
      "source": [
        "from math import log2\n",
        "from math import sqrt\n",
        "from numpy import asarray\n",
        " \n",
        "def kl_divergence(p, q):\n",
        "\treturn sum(p[i] * log2(p[i]/q[i]) if q[i] != 0 and p[i] != 0 else p[i] for i in range(len(p)))\n",
        "\n",
        "'''\n",
        "def js_divergence(p, q):\n",
        "\tm = 0.5 * (p + q)\n",
        "\treturn 0.5 * kl_divergence(p, m) + 0.5 * kl_divergence(q, m)\n",
        "'''\n",
        "\n",
        "def js_divergence(p, q):\n",
        "  # calculate_shannon_entropy(probs)\n",
        "  m = 0.5 * (p + q)\n",
        "  a = (calculate_shannon_entropy(p) + calculate_shannon_entropy(q)) / 2\n",
        "  b = calculate_shannon_entropy(m)\n",
        "  return a - b\n",
        " \n",
        "p = asarray([0.10, 0.40, 0.50])\n",
        "q = asarray([0.80, 0.15, 0.05])\n",
        "\n",
        "js_pq = js_divergence(p, q)\n",
        "print('JS(P || Q) divergence: %.3f bits' % js_pq)\n",
        "\n",
        "js_qp = js_divergence(q, p)\n",
        "print('JS(Q || P) divergence: %.3f bits' % js_qp)"
      ],
      "metadata": {
        "id": "zbTdpNhZpCER"
      },
      "execution_count": null,
      "outputs": []
    },
    {
      "cell_type": "markdown",
      "source": [
        "###### Dissimilaridade de portais"
      ],
      "metadata": {
        "id": "XKcy5X3oiA1t"
      }
    },
    {
      "cell_type": "code",
      "source": [
        "df_names = [\"Source\", \"Divergence-Left\", \"Divergence-Right\", \"Bias\"]\n",
        "df_portals_divergence = pd.DataFrame(columns = df_names)\n",
        "df_portals_divergence"
      ],
      "metadata": {
        "id": "Hk65dc2Cx8AS"
      },
      "execution_count": null,
      "outputs": []
    },
    {
      "cell_type": "code",
      "source": [
        "for index, row in df_portals.iterrows():\n",
        "  source = row['Source']\n",
        "  bias = row['Bias']\n",
        "  values = row.iloc[2:].values\n",
        "  div_left = 0.0\n",
        "  div_right = 0.0\n",
        "  for index_1, row_1 in df_portals_reference_prob.iterrows():\n",
        "    if index_1 == 0:\n",
        "      values_left = row_1.iloc[1:].values\n",
        "      div_left = js_divergence(values, values_left)\n",
        "    else:\n",
        "      values_right = row_1.iloc[1:].values\n",
        "      div_right = js_divergence(values, values_right)\n",
        "  df_portals_divergence = df_portals_divergence.append({'Source': source, 'Divergence-Left': div_left, 'Divergence-Right': div_right, \"Bias\": bias}, ignore_index=True)\n",
        "\n",
        "df_portals_divergence"
      ],
      "metadata": {
        "id": "wYjyqjexySP6"
      },
      "execution_count": null,
      "outputs": []
    },
    {
      "cell_type": "markdown",
      "source": [
        "##### 5.1.6 Classificação"
      ],
      "metadata": {
        "id": "EOnLpYbHiteu"
      }
    },
    {
      "cell_type": "code",
      "source": [
        "X = df_portals_divergence.drop(['Source', 'Bias'], axis=1)\n",
        "y = df_portals_divergence['Bias']\n",
        "\n",
        "print(X)"
      ],
      "metadata": {
        "id": "8UImKWSniviH"
      },
      "execution_count": null,
      "outputs": []
    },
    {
      "cell_type": "code",
      "source": [
        "print(y)"
      ],
      "metadata": {
        "id": "-BOJtjUjq-9_"
      },
      "execution_count": null,
      "outputs": []
    },
    {
      "cell_type": "code",
      "source": [
        "from numpy import mean\n",
        "from numpy import std\n",
        "from pandas import read_csv\n",
        "from sklearn.model_selection import LeaveOneOut\n",
        "from sklearn.model_selection import cross_val_score\n",
        "from sklearn.svm import SVC\n",
        "from sklearn.ensemble import RandomForestClassifier\n",
        "\n",
        "cv = LeaveOneOut()\n",
        "model = SVC(kernel='rbf', probability=True, C=1)\n",
        "scores = cross_val_score(model, X, y, scoring='accuracy', cv=cv, n_jobs=-1)\n",
        "print('Accuracy: %.3f (%.3f)' % (mean(scores), std(scores)))"
      ],
      "metadata": {
        "id": "GyNOuIqttNWs"
      },
      "execution_count": null,
      "outputs": []
    }
  ]
}