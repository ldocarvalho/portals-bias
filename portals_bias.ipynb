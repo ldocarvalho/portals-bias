{
  "cells": [
    {
      "cell_type": "markdown",
      "metadata": {
        "id": "view-in-github",
        "colab_type": "text"
      },
      "source": [
        "<a href=\"https://colab.research.google.com/github/ldocarvalho/portals-bias/blob/main/portals_bias.ipynb\" target=\"_parent\"><img src=\"https://colab.research.google.com/assets/colab-badge.svg\" alt=\"Open In Colab\"/></a>"
      ]
    },
    {
      "cell_type": "markdown",
      "metadata": {
        "id": "_z2CxtgK2HFd"
      },
      "source": [
        "### 1. Data"
      ]
    },
    {
      "cell_type": "code",
      "execution_count": null,
      "metadata": {
        "id": "NDs2LQWJSHIX"
      },
      "outputs": [],
      "source": [
        "import pandas as pd"
      ]
    },
    {
      "cell_type": "code",
      "execution_count": null,
      "metadata": {
        "id": "fPzFw21W2IiV",
        "colab": {
          "base_uri": "https://localhost:8080/"
        },
        "outputId": "f253ad94-66c4-49f0-bdfb-aa08d5af1943"
      },
      "outputs": [
        {
          "output_type": "execute_result",
          "data": {
            "text/html": [
              "\n",
              "  <div id=\"df-735f17f4-11d0-4718-bd9b-c718b9333015\">\n",
              "    <div class=\"colab-df-container\">\n",
              "      <div>\n",
              "<style scoped>\n",
              "    .dataframe tbody tr th:only-of-type {\n",
              "        vertical-align: middle;\n",
              "    }\n",
              "\n",
              "    .dataframe tbody tr th {\n",
              "        vertical-align: top;\n",
              "    }\n",
              "\n",
              "    .dataframe thead th {\n",
              "        text-align: right;\n",
              "    }\n",
              "</style>\n",
              "<table border=\"1\" class=\"dataframe\">\n",
              "  <thead>\n",
              "    <tr style=\"text-align: right;\">\n",
              "      <th></th>\n",
              "      <th>Source</th>\n",
              "      <th>Title</th>\n",
              "      <th>Content</th>\n",
              "      <th>Bias</th>\n",
              "    </tr>\n",
              "  </thead>\n",
              "  <tbody>\n",
              "    <tr>\n",
              "      <th>0</th>\n",
              "      <td>wsj.com</td>\n",
              "      <td>EU Week Ahead March 10-14: Bank Resolution, Tr...</td>\n",
              "      <td>The European Union’s to-do list isn’t long thi...</td>\n",
              "      <td>right-center</td>\n",
              "    </tr>\n",
              "    <tr>\n",
              "      <th>1</th>\n",
              "      <td>wsj.com</td>\n",
              "      <td>ECB's Noyer not Happy With Euro Strength -- Up...</td>\n",
              "      <td>News Corp is a network of leading companies in...</td>\n",
              "      <td>right-center</td>\n",
              "    </tr>\n",
              "    <tr>\n",
              "      <th>2</th>\n",
              "      <td>seattlepi.com</td>\n",
              "      <td>EBay, Icahn talk smack</td>\n",
              "      <td>Follow @csaid EBay has come out swinging again...</td>\n",
              "      <td>left-center</td>\n",
              "    </tr>\n",
              "    <tr>\n",
              "      <th>3</th>\n",
              "      <td>techcrunch.com</td>\n",
              "      <td>EBay Asks Shareholders To Vote Against PayPal ...</td>\n",
              "      <td>The war of words between eBay and its new shar...</td>\n",
              "      <td>left-center</td>\n",
              "    </tr>\n",
              "    <tr>\n",
              "      <th>4</th>\n",
              "      <td>valuewalk.com</td>\n",
              "      <td>Carl Icahn: Donahoe Cost eBay Investors More T...</td>\n",
              "      <td>Carl Icahn has again posted an open letter on ...</td>\n",
              "      <td>right-center</td>\n",
              "    </tr>\n",
              "    <tr>\n",
              "      <th>...</th>\n",
              "      <td>...</td>\n",
              "      <td>...</td>\n",
              "      <td>...</td>\n",
              "      <td>...</td>\n",
              "    </tr>\n",
              "    <tr>\n",
              "      <th>1795</th>\n",
              "      <td>newsone.com</td>\n",
              "      <td>NewsOne Minute: Chris Rock Interviews White Pe...</td>\n",
              "      <td>Chris Rock Interviews White People at a Monste...</td>\n",
              "      <td>left-center</td>\n",
              "    </tr>\n",
              "    <tr>\n",
              "      <th>1796</th>\n",
              "      <td>twitchy.com</td>\n",
              "      <td>Chart-topping songwriter Diane Warren: Hope so...</td>\n",
              "      <td>Texas cheerleader and big-game hunter Kendall ...</td>\n",
              "      <td>right</td>\n",
              "    </tr>\n",
              "    <tr>\n",
              "      <th>1797</th>\n",
              "      <td>twitchy.com</td>\n",
              "      <td>Reality star Joanna Krupa would love to see ‘t...</td>\n",
              "      <td>Model Joanna Krupa is known for her stints on ...</td>\n",
              "      <td>right</td>\n",
              "    </tr>\n",
              "    <tr>\n",
              "      <th>1798</th>\n",
              "      <td>austinchronicle.com</td>\n",
              "      <td>Elaine Stritch (1925-2014)</td>\n",
              "      <td>During her seven decades as a \"Broadway Baby\" ...</td>\n",
              "      <td>left</td>\n",
              "    </tr>\n",
              "    <tr>\n",
              "      <th>1799</th>\n",
              "      <td>powerlineblog.com</td>\n",
              "      <td>The Awful Jobs Picture: 6.2% Unemployment Is O...</td>\n",
              "      <td>The Labor Department reported today that the e...</td>\n",
              "      <td>right</td>\n",
              "    </tr>\n",
              "  </tbody>\n",
              "</table>\n",
              "<p>1800 rows × 4 columns</p>\n",
              "</div>\n",
              "      <button class=\"colab-df-convert\" onclick=\"convertToInteractive('df-735f17f4-11d0-4718-bd9b-c718b9333015')\"\n",
              "              title=\"Convert this dataframe to an interactive table.\"\n",
              "              style=\"display:none;\">\n",
              "        \n",
              "  <svg xmlns=\"http://www.w3.org/2000/svg\" height=\"24px\"viewBox=\"0 0 24 24\"\n",
              "       width=\"24px\">\n",
              "    <path d=\"M0 0h24v24H0V0z\" fill=\"none\"/>\n",
              "    <path d=\"M18.56 5.44l.94 2.06.94-2.06 2.06-.94-2.06-.94-.94-2.06-.94 2.06-2.06.94zm-11 1L8.5 8.5l.94-2.06 2.06-.94-2.06-.94L8.5 2.5l-.94 2.06-2.06.94zm10 10l.94 2.06.94-2.06 2.06-.94-2.06-.94-.94-2.06-.94 2.06-2.06.94z\"/><path d=\"M17.41 7.96l-1.37-1.37c-.4-.4-.92-.59-1.43-.59-.52 0-1.04.2-1.43.59L10.3 9.45l-7.72 7.72c-.78.78-.78 2.05 0 2.83L4 21.41c.39.39.9.59 1.41.59.51 0 1.02-.2 1.41-.59l7.78-7.78 2.81-2.81c.8-.78.8-2.07 0-2.86zM5.41 20L4 18.59l7.72-7.72 1.47 1.35L5.41 20z\"/>\n",
              "  </svg>\n",
              "      </button>\n",
              "      \n",
              "  <style>\n",
              "    .colab-df-container {\n",
              "      display:flex;\n",
              "      flex-wrap:wrap;\n",
              "      gap: 12px;\n",
              "    }\n",
              "\n",
              "    .colab-df-convert {\n",
              "      background-color: #E8F0FE;\n",
              "      border: none;\n",
              "      border-radius: 50%;\n",
              "      cursor: pointer;\n",
              "      display: none;\n",
              "      fill: #1967D2;\n",
              "      height: 32px;\n",
              "      padding: 0 0 0 0;\n",
              "      width: 32px;\n",
              "    }\n",
              "\n",
              "    .colab-df-convert:hover {\n",
              "      background-color: #E2EBFA;\n",
              "      box-shadow: 0px 1px 2px rgba(60, 64, 67, 0.3), 0px 1px 3px 1px rgba(60, 64, 67, 0.15);\n",
              "      fill: #174EA6;\n",
              "    }\n",
              "\n",
              "    [theme=dark] .colab-df-convert {\n",
              "      background-color: #3B4455;\n",
              "      fill: #D2E3FC;\n",
              "    }\n",
              "\n",
              "    [theme=dark] .colab-df-convert:hover {\n",
              "      background-color: #434B5C;\n",
              "      box-shadow: 0px 1px 3px 1px rgba(0, 0, 0, 0.15);\n",
              "      filter: drop-shadow(0px 1px 2px rgba(0, 0, 0, 0.3));\n",
              "      fill: #FFFFFF;\n",
              "    }\n",
              "  </style>\n",
              "\n",
              "      <script>\n",
              "        const buttonEl =\n",
              "          document.querySelector('#df-735f17f4-11d0-4718-bd9b-c718b9333015 button.colab-df-convert');\n",
              "        buttonEl.style.display =\n",
              "          google.colab.kernel.accessAllowed ? 'block' : 'none';\n",
              "\n",
              "        async function convertToInteractive(key) {\n",
              "          const element = document.querySelector('#df-735f17f4-11d0-4718-bd9b-c718b9333015');\n",
              "          const dataTable =\n",
              "            await google.colab.kernel.invokeFunction('convertToInteractive',\n",
              "                                                     [key], {});\n",
              "          if (!dataTable) return;\n",
              "\n",
              "          const docLinkHtml = 'Like what you see? Visit the ' +\n",
              "            '<a target=\"_blank\" href=https://colab.research.google.com/notebooks/data_table.ipynb>data table notebook</a>'\n",
              "            + ' to learn more about interactive tables.';\n",
              "          element.innerHTML = '';\n",
              "          dataTable['output_type'] = 'display_data';\n",
              "          await google.colab.output.renderOutput(dataTable, element);\n",
              "          const docLink = document.createElement('div');\n",
              "          docLink.innerHTML = docLinkHtml;\n",
              "          element.appendChild(docLink);\n",
              "        }\n",
              "      </script>\n",
              "    </div>\n",
              "  </div>\n",
              "  "
            ],
            "text/plain": [
              "                   Source                                              Title  \\\n",
              "0                 wsj.com  EU Week Ahead March 10-14: Bank Resolution, Tr...   \n",
              "1                 wsj.com  ECB's Noyer not Happy With Euro Strength -- Up...   \n",
              "2           seattlepi.com                             EBay, Icahn talk smack   \n",
              "3          techcrunch.com  EBay Asks Shareholders To Vote Against PayPal ...   \n",
              "4           valuewalk.com  Carl Icahn: Donahoe Cost eBay Investors More T...   \n",
              "...                   ...                                                ...   \n",
              "1795          newsone.com  NewsOne Minute: Chris Rock Interviews White Pe...   \n",
              "1796          twitchy.com  Chart-topping songwriter Diane Warren: Hope so...   \n",
              "1797          twitchy.com  Reality star Joanna Krupa would love to see ‘t...   \n",
              "1798  austinchronicle.com                         Elaine Stritch (1925-2014)   \n",
              "1799    powerlineblog.com  The Awful Jobs Picture: 6.2% Unemployment Is O...   \n",
              "\n",
              "                                                Content          Bias  \n",
              "0     The European Union’s to-do list isn’t long thi...  right-center  \n",
              "1     News Corp is a network of leading companies in...  right-center  \n",
              "2     Follow @csaid EBay has come out swinging again...   left-center  \n",
              "3     The war of words between eBay and its new shar...   left-center  \n",
              "4     Carl Icahn has again posted an open letter on ...  right-center  \n",
              "...                                                 ...           ...  \n",
              "1795  Chris Rock Interviews White People at a Monste...   left-center  \n",
              "1796  Texas cheerleader and big-game hunter Kendall ...         right  \n",
              "1797  Model Joanna Krupa is known for her stints on ...         right  \n",
              "1798  During her seven decades as a \"Broadway Baby\" ...          left  \n",
              "1799  The Labor Department reported today that the e...         right  \n",
              "\n",
              "[1800 rows x 4 columns]"
            ]
          },
          "metadata": {},
          "execution_count": 2
        }
      ],
      "source": [
        "df_names = [\"Source\",\"Title\",\"Content\",\"Bias\"]\n",
        "df_news_aggregator = pd.read_csv('https://raw.githubusercontent.com/ldocarvalho/portals-bias/main/Dataset/News-Aggregator-14/news-aggregator.csv?token=AKX52J7EV5Y2TFAPAPLJ3Q3BYDMV2', names = df_names, skiprows = 1, header = None)\n",
        "df_news_aggregator"
      ]
    },
    {
      "cell_type": "code",
      "execution_count": null,
      "metadata": {
        "id": "E8amovQMSZXs",
        "colab": {
          "base_uri": "https://localhost:8080/"
        },
        "outputId": "a1e92cf9-8f19-431f-f8d3-d0c801eb6635"
      },
      "outputs": [
        {
          "output_type": "execute_result",
          "data": {
            "text/html": [
              "\n",
              "  <div id=\"df-77a84fff-14cf-4afe-bf70-a1b63216ef71\">\n",
              "    <div class=\"colab-df-container\">\n",
              "      <div>\n",
              "<style scoped>\n",
              "    .dataframe tbody tr th:only-of-type {\n",
              "        vertical-align: middle;\n",
              "    }\n",
              "\n",
              "    .dataframe tbody tr th {\n",
              "        vertical-align: top;\n",
              "    }\n",
              "\n",
              "    .dataframe thead th {\n",
              "        text-align: right;\n",
              "    }\n",
              "</style>\n",
              "<table border=\"1\" class=\"dataframe\">\n",
              "  <thead>\n",
              "    <tr style=\"text-align: right;\">\n",
              "      <th></th>\n",
              "      <th>Source</th>\n",
              "      <th>Title</th>\n",
              "      <th>Content</th>\n",
              "      <th>Bias</th>\n",
              "    </tr>\n",
              "  </thead>\n",
              "  <tbody>\n",
              "    <tr>\n",
              "      <th>0</th>\n",
              "      <td>berkeleyside</td>\n",
              "      <td>ArchivesJune 10, 2019</td>\n",
              "      <td>When the homeowner did not voluntarily repair ...</td>\n",
              "      <td>left-center</td>\n",
              "    </tr>\n",
              "    <tr>\n",
              "      <th>1</th>\n",
              "      <td>berkeleyside</td>\n",
              "      <td>Berkeley homeowner caught in costly code viola...</td>\n",
              "      <td>Finger-pointing, confusion, worry and mistrust...</td>\n",
              "      <td>left-center</td>\n",
              "    </tr>\n",
              "    <tr>\n",
              "      <th>2</th>\n",
              "      <td>berkeleyside</td>\n",
              "      <td>A small-business success story, Yalis Caf cele...</td>\n",
              "      <td>Yali's Caf 1920 Oxford St. (at Berkeley Way), ...</td>\n",
              "      <td>left-center</td>\n",
              "    </tr>\n",
              "    <tr>\n",
              "      <th>3</th>\n",
              "      <td>berkeleyside</td>\n",
              "      <td>Shop Talk: Bluemercury; Airport Home Appliance...</td>\n",
              "      <td>BLUEMERCURY A new business is opening in the o...</td>\n",
              "      <td>left-center</td>\n",
              "    </tr>\n",
              "    <tr>\n",
              "      <th>4</th>\n",
              "      <td>berkeleyside</td>\n",
              "      <td>New vision plan imagines 3-mile greenway from ...</td>\n",
              "      <td>Imagine a bike and pedestrian path stretching ...</td>\n",
              "      <td>left-center</td>\n",
              "    </tr>\n",
              "    <tr>\n",
              "      <th>...</th>\n",
              "      <td>...</td>\n",
              "      <td>...</td>\n",
              "      <td>...</td>\n",
              "      <td>...</td>\n",
              "    </tr>\n",
              "    <tr>\n",
              "      <th>4955</th>\n",
              "      <td>theblaze</td>\n",
              "      <td>Bill Cosbys official Instagram account shares ...</td>\n",
              "      <td>The official Instagram account of actor Bill C...</td>\n",
              "      <td>right</td>\n",
              "    </tr>\n",
              "    <tr>\n",
              "      <th>4956</th>\n",
              "      <td>theblaze</td>\n",
              "      <td>WATCH: Students condemn racist remarks they be...</td>\n",
              "      <td>Students at Marymount University in Virginia b...</td>\n",
              "      <td>right</td>\n",
              "    </tr>\n",
              "    <tr>\n",
              "      <th>4957</th>\n",
              "      <td>theblaze</td>\n",
              "      <td>Republicans propose constitutional amendment t...</td>\n",
              "      <td>President Donald Trump is supporting a propose...</td>\n",
              "      <td>right</td>\n",
              "    </tr>\n",
              "    <tr>\n",
              "      <th>4958</th>\n",
              "      <td>theblaze</td>\n",
              "      <td>108 GOP lawmakers sign letter asking Trump to ...</td>\n",
              "      <td>More than a hundred Republican members of Cong...</td>\n",
              "      <td>right</td>\n",
              "    </tr>\n",
              "    <tr>\n",
              "      <th>4959</th>\n",
              "      <td>theblaze</td>\n",
              "      <td>Despite Trump's threat to close border, Mexico...</td>\n",
              "      <td>Mexico will not militarize its southern border...</td>\n",
              "      <td>right</td>\n",
              "    </tr>\n",
              "  </tbody>\n",
              "</table>\n",
              "<p>4960 rows × 4 columns</p>\n",
              "</div>\n",
              "      <button class=\"colab-df-convert\" onclick=\"convertToInteractive('df-77a84fff-14cf-4afe-bf70-a1b63216ef71')\"\n",
              "              title=\"Convert this dataframe to an interactive table.\"\n",
              "              style=\"display:none;\">\n",
              "        \n",
              "  <svg xmlns=\"http://www.w3.org/2000/svg\" height=\"24px\"viewBox=\"0 0 24 24\"\n",
              "       width=\"24px\">\n",
              "    <path d=\"M0 0h24v24H0V0z\" fill=\"none\"/>\n",
              "    <path d=\"M18.56 5.44l.94 2.06.94-2.06 2.06-.94-2.06-.94-.94-2.06-.94 2.06-2.06.94zm-11 1L8.5 8.5l.94-2.06 2.06-.94-2.06-.94L8.5 2.5l-.94 2.06-2.06.94zm10 10l.94 2.06.94-2.06 2.06-.94-2.06-.94-.94-2.06-.94 2.06-2.06.94z\"/><path d=\"M17.41 7.96l-1.37-1.37c-.4-.4-.92-.59-1.43-.59-.52 0-1.04.2-1.43.59L10.3 9.45l-7.72 7.72c-.78.78-.78 2.05 0 2.83L4 21.41c.39.39.9.59 1.41.59.51 0 1.02-.2 1.41-.59l7.78-7.78 2.81-2.81c.8-.78.8-2.07 0-2.86zM5.41 20L4 18.59l7.72-7.72 1.47 1.35L5.41 20z\"/>\n",
              "  </svg>\n",
              "      </button>\n",
              "      \n",
              "  <style>\n",
              "    .colab-df-container {\n",
              "      display:flex;\n",
              "      flex-wrap:wrap;\n",
              "      gap: 12px;\n",
              "    }\n",
              "\n",
              "    .colab-df-convert {\n",
              "      background-color: #E8F0FE;\n",
              "      border: none;\n",
              "      border-radius: 50%;\n",
              "      cursor: pointer;\n",
              "      display: none;\n",
              "      fill: #1967D2;\n",
              "      height: 32px;\n",
              "      padding: 0 0 0 0;\n",
              "      width: 32px;\n",
              "    }\n",
              "\n",
              "    .colab-df-convert:hover {\n",
              "      background-color: #E2EBFA;\n",
              "      box-shadow: 0px 1px 2px rgba(60, 64, 67, 0.3), 0px 1px 3px 1px rgba(60, 64, 67, 0.15);\n",
              "      fill: #174EA6;\n",
              "    }\n",
              "\n",
              "    [theme=dark] .colab-df-convert {\n",
              "      background-color: #3B4455;\n",
              "      fill: #D2E3FC;\n",
              "    }\n",
              "\n",
              "    [theme=dark] .colab-df-convert:hover {\n",
              "      background-color: #434B5C;\n",
              "      box-shadow: 0px 1px 3px 1px rgba(0, 0, 0, 0.15);\n",
              "      filter: drop-shadow(0px 1px 2px rgba(0, 0, 0, 0.3));\n",
              "      fill: #FFFFFF;\n",
              "    }\n",
              "  </style>\n",
              "\n",
              "      <script>\n",
              "        const buttonEl =\n",
              "          document.querySelector('#df-77a84fff-14cf-4afe-bf70-a1b63216ef71 button.colab-df-convert');\n",
              "        buttonEl.style.display =\n",
              "          google.colab.kernel.accessAllowed ? 'block' : 'none';\n",
              "\n",
              "        async function convertToInteractive(key) {\n",
              "          const element = document.querySelector('#df-77a84fff-14cf-4afe-bf70-a1b63216ef71');\n",
              "          const dataTable =\n",
              "            await google.colab.kernel.invokeFunction('convertToInteractive',\n",
              "                                                     [key], {});\n",
              "          if (!dataTable) return;\n",
              "\n",
              "          const docLinkHtml = 'Like what you see? Visit the ' +\n",
              "            '<a target=\"_blank\" href=https://colab.research.google.com/notebooks/data_table.ipynb>data table notebook</a>'\n",
              "            + ' to learn more about interactive tables.';\n",
              "          element.innerHTML = '';\n",
              "          dataTable['output_type'] = 'display_data';\n",
              "          await google.colab.output.renderOutput(dataTable, element);\n",
              "          const docLink = document.createElement('div');\n",
              "          docLink.innerHTML = docLinkHtml;\n",
              "          element.appendChild(docLink);\n",
              "        }\n",
              "      </script>\n",
              "    </div>\n",
              "  </div>\n",
              "  "
            ],
            "text/plain": [
              "            Source                                              Title  \\\n",
              "0     berkeleyside                              ArchivesJune 10, 2019   \n",
              "1     berkeleyside  Berkeley homeowner caught in costly code viola...   \n",
              "2     berkeleyside  A small-business success story, Yalis Caf cele...   \n",
              "3     berkeleyside  Shop Talk: Bluemercury; Airport Home Appliance...   \n",
              "4     berkeleyside  New vision plan imagines 3-mile greenway from ...   \n",
              "...            ...                                                ...   \n",
              "4955      theblaze  Bill Cosbys official Instagram account shares ...   \n",
              "4956      theblaze  WATCH: Students condemn racist remarks they be...   \n",
              "4957      theblaze  Republicans propose constitutional amendment t...   \n",
              "4958      theblaze  108 GOP lawmakers sign letter asking Trump to ...   \n",
              "4959      theblaze  Despite Trump's threat to close border, Mexico...   \n",
              "\n",
              "                                                Content         Bias  \n",
              "0     When the homeowner did not voluntarily repair ...  left-center  \n",
              "1     Finger-pointing, confusion, worry and mistrust...  left-center  \n",
              "2     Yali's Caf 1920 Oxford St. (at Berkeley Way), ...  left-center  \n",
              "3     BLUEMERCURY A new business is opening in the o...  left-center  \n",
              "4     Imagine a bike and pedestrian path stretching ...  left-center  \n",
              "...                                                 ...          ...  \n",
              "4955  The official Instagram account of actor Bill C...        right  \n",
              "4956  Students at Marymount University in Virginia b...        right  \n",
              "4957  President Donald Trump is supporting a propose...        right  \n",
              "4958  More than a hundred Republican members of Cong...        right  \n",
              "4959  Mexico will not militarize its southern border...        right  \n",
              "\n",
              "[4960 rows x 4 columns]"
            ]
          },
          "metadata": {},
          "execution_count": 3
        }
      ],
      "source": [
        "df_news_july = pd.read_csv('https://raw.githubusercontent.com/ldocarvalho/portals-bias/main/Dataset/News-July-19/news-july.csv?token=AKX52J5KQ3NIC6K7PWM7XPLBYDNKA', names = df_names, skiprows = 1, header = None)\n",
        "df_news_july"
      ]
    },
    {
      "cell_type": "code",
      "execution_count": null,
      "metadata": {
        "id": "wWHEpOjwTfUW",
        "colab": {
          "base_uri": "https://localhost:8080/"
        },
        "outputId": "8e1de686-6e6d-4fbd-b5ca-9c88d2aa093a"
      },
      "outputs": [
        {
          "output_type": "execute_result",
          "data": {
            "text/html": [
              "\n",
              "  <div id=\"df-2761d279-1d20-47ef-8963-b529837006f8\">\n",
              "    <div class=\"colab-df-container\">\n",
              "      <div>\n",
              "<style scoped>\n",
              "    .dataframe tbody tr th:only-of-type {\n",
              "        vertical-align: middle;\n",
              "    }\n",
              "\n",
              "    .dataframe tbody tr th {\n",
              "        vertical-align: top;\n",
              "    }\n",
              "\n",
              "    .dataframe thead th {\n",
              "        text-align: right;\n",
              "    }\n",
              "</style>\n",
              "<table border=\"1\" class=\"dataframe\">\n",
              "  <thead>\n",
              "    <tr style=\"text-align: right;\">\n",
              "      <th></th>\n",
              "      <th>Source</th>\n",
              "      <th>Title</th>\n",
              "      <th>Content</th>\n",
              "      <th>Bias</th>\n",
              "    </tr>\n",
              "  </thead>\n",
              "  <tbody>\n",
              "    <tr>\n",
              "      <th>0</th>\n",
              "      <td>motherjones.com</td>\n",
              "      <td>Terms of Service</td>\n",
              "      <td>Welcome to the Mother Jones website. Please re...</td>\n",
              "      <td>left-center</td>\n",
              "    </tr>\n",
              "    <tr>\n",
              "      <th>1</th>\n",
              "      <td>motherjones.com</td>\n",
              "      <td>The Enormous but Hidden Consequences of Antarc...</td>\n",
              "      <td>This story was originally published by Wired a...</td>\n",
              "      <td>left-center</td>\n",
              "    </tr>\n",
              "    <tr>\n",
              "      <th>2</th>\n",
              "      <td>motherjones.com</td>\n",
              "      <td>Mother Jones Logo (Orange) Women's Fitted Tee</td>\n",
              "      <td>motherjones-logoorange-wtee-white-sm $20.00 Mo...</td>\n",
              "      <td>left-center</td>\n",
              "    </tr>\n",
              "    <tr>\n",
              "      <th>3</th>\n",
              "      <td>motherjones.com</td>\n",
              "      <td>A Fucking Disaster That Is Designed to Fail: H...</td>\n",
              "      <td>SAN DIEGO IMMIGRATION COURT, COURTROOM #2; PRE...</td>\n",
              "      <td>left-center</td>\n",
              "    </tr>\n",
              "    <tr>\n",
              "      <th>4</th>\n",
              "      <td>motherjones.com</td>\n",
              "      <td>Privacy Policy</td>\n",
              "      <td>The MotherJones.com website is operated by the...</td>\n",
              "      <td>left-center</td>\n",
              "    </tr>\n",
              "    <tr>\n",
              "      <th>...</th>\n",
              "      <td>...</td>\n",
              "      <td>...</td>\n",
              "      <td>...</td>\n",
              "      <td>...</td>\n",
              "    </tr>\n",
              "    <tr>\n",
              "      <th>11515</th>\n",
              "      <td>punchingbagpost.com</td>\n",
              "      <td>Trump Reverses Obama, Hands Farmers, Landowner...</td>\n",
              "      <td>tml&gt; Trump Reverses Obama, Hands Farmers, Land...</td>\n",
              "      <td>right-center</td>\n",
              "    </tr>\n",
              "    <tr>\n",
              "      <th>11516</th>\n",
              "      <td>punchingbagpost.com</td>\n",
              "      <td>Russia Germany Dispute Could Trigger Trade War</td>\n",
              "      <td>You Might Like German lawmakers are calling to...</td>\n",
              "      <td>right-center</td>\n",
              "    </tr>\n",
              "    <tr>\n",
              "      <th>11517</th>\n",
              "      <td>punchingbagpost.com</td>\n",
              "      <td>Bloomberg is Still Trying to Buy the Election ...</td>\n",
              "      <td>In less than three months, Democratic presiden...</td>\n",
              "      <td>right-center</td>\n",
              "    </tr>\n",
              "    <tr>\n",
              "      <th>11518</th>\n",
              "      <td>punchingbagpost.com</td>\n",
              "      <td>Everything China Told us About the Coronavirus...</td>\n",
              "      <td>For weeks, officials throughout the world assu...</td>\n",
              "      <td>right-center</td>\n",
              "    </tr>\n",
              "    <tr>\n",
              "      <th>11519</th>\n",
              "      <td>punchingbagpost.com</td>\n",
              "      <td>Trump Addresses the Nation, the 2020 State of ...</td>\n",
              "      <td>On Tuesday, February the 4th, greeted by chant...</td>\n",
              "      <td>right-center</td>\n",
              "    </tr>\n",
              "  </tbody>\n",
              "</table>\n",
              "<p>11520 rows × 4 columns</p>\n",
              "</div>\n",
              "      <button class=\"colab-df-convert\" onclick=\"convertToInteractive('df-2761d279-1d20-47ef-8963-b529837006f8')\"\n",
              "              title=\"Convert this dataframe to an interactive table.\"\n",
              "              style=\"display:none;\">\n",
              "        \n",
              "  <svg xmlns=\"http://www.w3.org/2000/svg\" height=\"24px\"viewBox=\"0 0 24 24\"\n",
              "       width=\"24px\">\n",
              "    <path d=\"M0 0h24v24H0V0z\" fill=\"none\"/>\n",
              "    <path d=\"M18.56 5.44l.94 2.06.94-2.06 2.06-.94-2.06-.94-.94-2.06-.94 2.06-2.06.94zm-11 1L8.5 8.5l.94-2.06 2.06-.94-2.06-.94L8.5 2.5l-.94 2.06-2.06.94zm10 10l.94 2.06.94-2.06 2.06-.94-2.06-.94-.94-2.06-.94 2.06-2.06.94z\"/><path d=\"M17.41 7.96l-1.37-1.37c-.4-.4-.92-.59-1.43-.59-.52 0-1.04.2-1.43.59L10.3 9.45l-7.72 7.72c-.78.78-.78 2.05 0 2.83L4 21.41c.39.39.9.59 1.41.59.51 0 1.02-.2 1.41-.59l7.78-7.78 2.81-2.81c.8-.78.8-2.07 0-2.86zM5.41 20L4 18.59l7.72-7.72 1.47 1.35L5.41 20z\"/>\n",
              "  </svg>\n",
              "      </button>\n",
              "      \n",
              "  <style>\n",
              "    .colab-df-container {\n",
              "      display:flex;\n",
              "      flex-wrap:wrap;\n",
              "      gap: 12px;\n",
              "    }\n",
              "\n",
              "    .colab-df-convert {\n",
              "      background-color: #E8F0FE;\n",
              "      border: none;\n",
              "      border-radius: 50%;\n",
              "      cursor: pointer;\n",
              "      display: none;\n",
              "      fill: #1967D2;\n",
              "      height: 32px;\n",
              "      padding: 0 0 0 0;\n",
              "      width: 32px;\n",
              "    }\n",
              "\n",
              "    .colab-df-convert:hover {\n",
              "      background-color: #E2EBFA;\n",
              "      box-shadow: 0px 1px 2px rgba(60, 64, 67, 0.3), 0px 1px 3px 1px rgba(60, 64, 67, 0.15);\n",
              "      fill: #174EA6;\n",
              "    }\n",
              "\n",
              "    [theme=dark] .colab-df-convert {\n",
              "      background-color: #3B4455;\n",
              "      fill: #D2E3FC;\n",
              "    }\n",
              "\n",
              "    [theme=dark] .colab-df-convert:hover {\n",
              "      background-color: #434B5C;\n",
              "      box-shadow: 0px 1px 3px 1px rgba(0, 0, 0, 0.15);\n",
              "      filter: drop-shadow(0px 1px 2px rgba(0, 0, 0, 0.3));\n",
              "      fill: #FFFFFF;\n",
              "    }\n",
              "  </style>\n",
              "\n",
              "      <script>\n",
              "        const buttonEl =\n",
              "          document.querySelector('#df-2761d279-1d20-47ef-8963-b529837006f8 button.colab-df-convert');\n",
              "        buttonEl.style.display =\n",
              "          google.colab.kernel.accessAllowed ? 'block' : 'none';\n",
              "\n",
              "        async function convertToInteractive(key) {\n",
              "          const element = document.querySelector('#df-2761d279-1d20-47ef-8963-b529837006f8');\n",
              "          const dataTable =\n",
              "            await google.colab.kernel.invokeFunction('convertToInteractive',\n",
              "                                                     [key], {});\n",
              "          if (!dataTable) return;\n",
              "\n",
              "          const docLinkHtml = 'Like what you see? Visit the ' +\n",
              "            '<a target=\"_blank\" href=https://colab.research.google.com/notebooks/data_table.ipynb>data table notebook</a>'\n",
              "            + ' to learn more about interactive tables.';\n",
              "          element.innerHTML = '';\n",
              "          dataTable['output_type'] = 'display_data';\n",
              "          await google.colab.output.renderOutput(dataTable, element);\n",
              "          const docLink = document.createElement('div');\n",
              "          docLink.innerHTML = docLinkHtml;\n",
              "          element.appendChild(docLink);\n",
              "        }\n",
              "      </script>\n",
              "    </div>\n",
              "  </div>\n",
              "  "
            ],
            "text/plain": [
              "                    Source                                              Title  \\\n",
              "0          motherjones.com                                   Terms of Service   \n",
              "1          motherjones.com  The Enormous but Hidden Consequences of Antarc...   \n",
              "2          motherjones.com      Mother Jones Logo (Orange) Women's Fitted Tee   \n",
              "3          motherjones.com  A Fucking Disaster That Is Designed to Fail: H...   \n",
              "4          motherjones.com                                     Privacy Policy   \n",
              "...                    ...                                                ...   \n",
              "11515  punchingbagpost.com  Trump Reverses Obama, Hands Farmers, Landowner...   \n",
              "11516  punchingbagpost.com     Russia Germany Dispute Could Trigger Trade War   \n",
              "11517  punchingbagpost.com  Bloomberg is Still Trying to Buy the Election ...   \n",
              "11518  punchingbagpost.com  Everything China Told us About the Coronavirus...   \n",
              "11519  punchingbagpost.com  Trump Addresses the Nation, the 2020 State of ...   \n",
              "\n",
              "                                                 Content          Bias  \n",
              "0      Welcome to the Mother Jones website. Please re...   left-center  \n",
              "1      This story was originally published by Wired a...   left-center  \n",
              "2      motherjones-logoorange-wtee-white-sm $20.00 Mo...   left-center  \n",
              "3      SAN DIEGO IMMIGRATION COURT, COURTROOM #2; PRE...   left-center  \n",
              "4      The MotherJones.com website is operated by the...   left-center  \n",
              "...                                                  ...           ...  \n",
              "11515  tml> Trump Reverses Obama, Hands Farmers, Land...  right-center  \n",
              "11516  You Might Like German lawmakers are calling to...  right-center  \n",
              "11517  In less than three months, Democratic presiden...  right-center  \n",
              "11518  For weeks, officials throughout the world assu...  right-center  \n",
              "11519  On Tuesday, February the 4th, greeted by chant...  right-center  \n",
              "\n",
              "[11520 rows x 4 columns]"
            ]
          },
          "metadata": {},
          "execution_count": 4
        }
      ],
      "source": [
        "df_news_february = pd.read_csv('https://raw.githubusercontent.com/vicaires/News-Media-Bias-Datasets/main/Text-based%20datasets/News-February-20/news-february.csv', names = df_names, skiprows = 1, header = None)\n",
        "df_news_february"
      ]
    },
    {
      "cell_type": "markdown",
      "metadata": {
        "id": "VG21E7jgmlUE"
      },
      "source": [
        "### 2. Text Pre-processing"
      ]
    },
    {
      "cell_type": "code",
      "execution_count": null,
      "metadata": {
        "id": "LP0erUy7ohHI"
      },
      "outputs": [],
      "source": [
        "def to_lower(text):\n",
        "  return text.lower()"
      ]
    },
    {
      "cell_type": "code",
      "execution_count": null,
      "metadata": {
        "id": "lkqjdCO8oyzw"
      },
      "outputs": [],
      "source": [
        "import re\n",
        "\n",
        "def remove_numbers(text):\n",
        "  return re.sub(r'\\d+', '', text)"
      ]
    },
    {
      "cell_type": "code",
      "execution_count": null,
      "metadata": {
        "id": "5BHrcs0ZpDqI"
      },
      "outputs": [],
      "source": [
        "import string\n",
        "import numpy as np\n",
        "\n",
        "def remove_puctuation(text):\n",
        "  symbols = \"!\\\"#$%&()'*+-.,—/:;<=>?@[\\]^_`{|}~\\n“‘\"\n",
        "  for i in symbols:\n",
        "    text = text.replace(i, '')\n",
        "  return text"
      ]
    },
    {
      "cell_type": "code",
      "execution_count": null,
      "metadata": {
        "id": "jirIiMv_rkWv"
      },
      "outputs": [],
      "source": [
        "def preprocess(data):\n",
        "    data = to_lower(data)\n",
        "    data = remove_puctuation(data)\n",
        "    data = remove_numbers(data)\n",
        "    return data"
      ]
    },
    {
      "cell_type": "markdown",
      "metadata": {
        "id": "rwZiRQ1cmn9U"
      },
      "source": [
        "### 3. Readability"
      ]
    },
    {
      "cell_type": "markdown",
      "metadata": {
        "id": "ht2bJSxbr17R"
      },
      "source": [
        "#### Utils"
      ]
    },
    {
      "cell_type": "code",
      "execution_count": null,
      "metadata": {
        "colab": {
          "base_uri": "https://localhost:8080/"
        },
        "id": "C0aUemmQrtM2",
        "outputId": "d7b81a04-6576-42a4-af9f-87f431b6a122"
      },
      "outputs": [
        {
          "output_type": "stream",
          "name": "stdout",
          "text": [
            "Collecting textstat\n",
            "  Downloading textstat-0.7.2-py3-none-any.whl (101 kB)\n",
            "\u001b[K     |████████████████████████████████| 101 kB 3.5 MB/s \n",
            "\u001b[?25hCollecting pyphen\n",
            "  Downloading pyphen-0.12.0-py3-none-any.whl (2.0 MB)\n",
            "\u001b[K     |████████████████████████████████| 2.0 MB 29.9 MB/s \n",
            "\u001b[?25hInstalling collected packages: pyphen, textstat\n",
            "Successfully installed pyphen-0.12.0 textstat-0.7.2\n"
          ]
        }
      ],
      "source": [
        "pip install textstat"
      ]
    },
    {
      "cell_type": "code",
      "execution_count": null,
      "metadata": {
        "id": "Vaf5wreMsO7T"
      },
      "outputs": [],
      "source": [
        "import spacy\n",
        "from textstat.textstat import textstatistics, legacy_round\n",
        "\n",
        "def break_sentences(text):\n",
        "\tnlp = spacy.load('en_core_web_sm')\n",
        "\tdoc = nlp(text)\n",
        "\treturn list(doc.sents)\n",
        "\n",
        "def word_count(text):\n",
        "\tsentences = break_sentences(text)\n",
        "\twords = 0\n",
        "\tfor sentence in sentences:\n",
        "\t\twords += len([token for token in sentence])\n",
        "\treturn words\n",
        "\n",
        "def sentence_count(text):\n",
        "\tsentences = break_sentences(text)\n",
        "\treturn len(sentences)\n",
        "\n",
        "def avg_sentence_length(text):\n",
        "\twords = word_count(text)\n",
        "\tsentences = sentence_count(text)\n",
        "\taverage_sentence_length = float(words / sentences)\n",
        "\treturn average_sentence_length\n",
        "\n",
        "def syllables_count(word):\n",
        "\treturn textstatistics().syllable_count(word)\n",
        "\n",
        "def avg_syllables_per_word(text):\n",
        "\tsyllable = syllables_count(text)\n",
        "\twords = word_count(text)\n",
        "\tASPW = float(syllable) / float(words)\n",
        "\treturn legacy_round(ASPW, 1)\n",
        "\n",
        "def difficult_words(text):\n",
        "\tnlp = spacy.load('en_core_web_sm')\n",
        "\tdoc = nlp(text)\n",
        "\n",
        "\twords = []\n",
        "\tsentences = break_sentences(text)\n",
        "\tfor sentence in sentences:\n",
        "\t\twords += [str(token) for token in sentence]\n",
        "\n",
        "\tdiff_words_set = set()\n",
        "\t\n",
        "\tfor word in words:\n",
        "\t\tsyllable_count = syllables_count(word)\n",
        "\t\tif word not in nlp.Defaults.stop_words and syllable_count >= 2:\n",
        "\t\t\tdiff_words_set.add(word)\n",
        "\n",
        "\treturn len(diff_words_set)\n",
        "\n",
        "def poly_syllable_count(text):\n",
        "\tcount = 0\n",
        "\twords = []\n",
        "\tsentences = break_sentences(text)\n",
        "\tfor sentence in sentences:\n",
        "\t\twords += [token for token in sentence]\n",
        "\t\n",
        "\n",
        "\tfor word in words:\n",
        "\t\tsyllable_count = syllables_count(word)\n",
        "\t\tif syllable_count >= 3:\n",
        "\t\t\tcount += 1\n",
        "\treturn count"
      ]
    },
    {
      "cell_type": "code",
      "execution_count": null,
      "metadata": {
        "id": "bVoFLu5GsRu8"
      },
      "outputs": [],
      "source": [
        "def flesch_reading_ease(text):\n",
        "\tFRE = 206.835 - float(1.015 * avg_sentence_length(text)) -\\\n",
        "\t\tfloat(84.6 * avg_syllables_per_word(text))\n",
        "\treturn legacy_round(FRE, 2)"
      ]
    },
    {
      "cell_type": "code",
      "execution_count": null,
      "metadata": {
        "id": "_uZISEwosYlP"
      },
      "outputs": [],
      "source": [
        "def dale_chall_readability_score(text):\n",
        "  words = word_count(text)\n",
        "  difficult_words_count = difficult_words(text)\n",
        "  count = words - difficult_words_count\n",
        "  \n",
        "  if words > 0:\n",
        "    per = float(count) / float(words) * 100\n",
        "  \n",
        "  diff_words = 100 - per\n",
        "  raw_score = (0.1579 * diff_words) + (0.0496 * avg_sentence_length(text))\n",
        "  \n",
        "  if diff_words > 5:\t\n",
        "    raw_score += 3.6365\n",
        "  \n",
        "  return legacy_round(raw_score, 2)"
      ]
    },
    {
      "cell_type": "code",
      "execution_count": null,
      "metadata": {
        "id": "J15c2yLKsUID"
      },
      "outputs": [],
      "source": [
        "def gunning_fog_score(text):\n",
        "\tper_diff_words = ((difficult_words(text) / word_count(text)) * 100) + 5\n",
        "\tgrade = 0.4 * (avg_sentence_length(text) + per_diff_words)\n",
        "\treturn grade"
      ]
    },
    {
      "cell_type": "code",
      "execution_count": null,
      "metadata": {
        "id": "pSLvO1b9Cz4b"
      },
      "outputs": [],
      "source": [
        "def smog_index(text):\n",
        "\tif sentence_count(text) >= 3:\n",
        "\t\tpoly_syllab = poly_syllable_count(text)\n",
        "\t\tSMOG = (1.043 * (30*(poly_syllab / sentence_count(text)))**0.5) \\\n",
        "\t\t\t\t+ 3.1291\n",
        "\t\treturn legacy_round(SMOG, 1)\n",
        "\telse:\n",
        "\t\treturn 0"
      ]
    },
    {
      "cell_type": "markdown",
      "source": [
        "#### Classification Utils"
      ],
      "metadata": {
        "id": "WJ2zCdQCigTs"
      }
    },
    {
      "cell_type": "code",
      "execution_count": null,
      "metadata": {
        "id": "WTiJ4M-Nw94e",
        "colab": {
          "base_uri": "https://localhost:8080/"
        },
        "outputId": "a7a4d904-d84a-4227-c7c6-71feac96ea42"
      },
      "outputs": [
        {
          "output_type": "stream",
          "name": "stdout",
          "text": [
            "Requirement already satisfied: scikit-learn in /usr/local/lib/python3.7/dist-packages (1.0.2)\n",
            "Requirement already satisfied: numpy>=1.14.6 in /usr/local/lib/python3.7/dist-packages (from scikit-learn) (1.21.5)\n",
            "Requirement already satisfied: scipy>=1.1.0 in /usr/local/lib/python3.7/dist-packages (from scikit-learn) (1.4.1)\n",
            "Requirement already satisfied: threadpoolctl>=2.0.0 in /usr/local/lib/python3.7/dist-packages (from scikit-learn) (3.1.0)\n",
            "Requirement already satisfied: joblib>=0.11 in /usr/local/lib/python3.7/dist-packages (from scikit-learn) (1.1.0)\n"
          ]
        }
      ],
      "source": [
        "pip install -U scikit-learn"
      ]
    },
    {
      "cell_type": "code",
      "execution_count": null,
      "metadata": {
        "id": "ZDlflqNCUSh4"
      },
      "outputs": [],
      "source": [
        "from numpy import mean\n",
        "from numpy import std\n",
        "\n",
        "from sklearn import preprocessing\n",
        "from sklearn.svm import SVC\n",
        "\n",
        "from sklearn.model_selection import LeaveOneOut\n",
        "from sklearn.model_selection import cross_validate\n",
        "from sklearn.model_selection import cross_val_score\n",
        "from sklearn.model_selection import GridSearchCV\n",
        "from sklearn.model_selection import KFold\n",
        "\n",
        "from sklearn.metrics import precision_score\n",
        "from sklearn.metrics import recall_score\n",
        "from sklearn.metrics import f1_score\n",
        "from sklearn.metrics import accuracy_score\n",
        "from sklearn.metrics import classification_report\n",
        "from sklearn.metrics import confusion_matrix\n",
        "\n",
        "import matplotlib.pyplot as plt\n",
        "import seaborn as sns"
      ]
    },
    {
      "cell_type": "code",
      "source": [
        "def grid_search_cv_with_svm(X):\n",
        "  model = GridSearchCV(SVC(kernel='rbf'), {\n",
        "    'C': [0.01, 0.1, 1, 10, 100],\n",
        "    'gamma': ['auto', 'scale'],\n",
        "  }, cv=10, n_jobs=-1)\n",
        "\n",
        "  model.fit(X, y)\n",
        "  df_results = pd.DataFrame(model.cv_results_)\n",
        "  print(df_results[['param_C', 'param_gamma', 'mean_test_score']])"
      ],
      "metadata": {
        "id": "hMQvhwLZYiBK"
      },
      "execution_count": null,
      "outputs": []
    },
    {
      "cell_type": "code",
      "source": [
        "from sklearn.metrics import classification_report, accuracy_score, make_scorer\n",
        "\n",
        "def classification_with_svm(X, gamma, c, k):\n",
        "  original_class = []\n",
        "  predicted_class = []\n",
        "\n",
        "  def classification_report_with_accuracy(y_true, y_pred):\n",
        "    original_class.extend(y_true)\n",
        "    predicted_class.extend(y_pred)\n",
        "    return accuracy_score(y_true, y_pred) \n",
        "\n",
        "  model = SVC(kernel='rbf', gamma=gamma, C=c)\n",
        "  score = cross_val_score(model, X = X, y = y, cv = k, scoring = make_scorer(classification_report_with_accuracy))\n",
        "\n",
        "  print(classification_report(original_class, predicted_class))\n",
        "\n",
        "  labels_class = ['Esquerda', 'Direita']\n",
        "  data = confusion_matrix(original_class, predicted_class, normalize='true')\n",
        "  df_cm = pd.DataFrame(data, columns=labels_class, index=labels_class)\n",
        "  df_cm.index.name = 'Real'\n",
        "  df_cm.columns.name = 'Predito'\n",
        "  plt.figure(figsize = (7,5))\n",
        "  sns.set(font_scale=1.0)\n",
        "  sns.heatmap(df_cm, annot=True, cmap='coolwarm', fmt=\".2f\")\n",
        "  plt.plot()"
      ],
      "metadata": {
        "id": "suWetovSWKKA"
      },
      "execution_count": null,
      "outputs": []
    },
    {
      "cell_type": "markdown",
      "metadata": {
        "id": "m_vKfLK34ZS6"
      },
      "source": [
        "#### News July - Readability Features"
      ]
    },
    {
      "cell_type": "code",
      "execution_count": null,
      "metadata": {
        "colab": {
          "base_uri": "https://localhost:8080/",
          "height": 49
        },
        "id": "0uijtZF04d23",
        "outputId": "ea33c1ab-c607-48c6-8646-3f17e0a5eb15"
      },
      "outputs": [
        {
          "output_type": "execute_result",
          "data": {
            "text/html": [
              "\n",
              "  <div id=\"df-7f4997d1-587f-4519-a551-4415b3badafe\">\n",
              "    <div class=\"colab-df-container\">\n",
              "      <div>\n",
              "<style scoped>\n",
              "    .dataframe tbody tr th:only-of-type {\n",
              "        vertical-align: middle;\n",
              "    }\n",
              "\n",
              "    .dataframe tbody tr th {\n",
              "        vertical-align: top;\n",
              "    }\n",
              "\n",
              "    .dataframe thead th {\n",
              "        text-align: right;\n",
              "    }\n",
              "</style>\n",
              "<table border=\"1\" class=\"dataframe\">\n",
              "  <thead>\n",
              "    <tr style=\"text-align: right;\">\n",
              "      <th></th>\n",
              "      <th>flesch-kincaid</th>\n",
              "      <th>flesch-reading-ease</th>\n",
              "      <th>dale-chall</th>\n",
              "      <th>gunning-fog</th>\n",
              "      <th>bias</th>\n",
              "    </tr>\n",
              "  </thead>\n",
              "  <tbody>\n",
              "  </tbody>\n",
              "</table>\n",
              "</div>\n",
              "      <button class=\"colab-df-convert\" onclick=\"convertToInteractive('df-7f4997d1-587f-4519-a551-4415b3badafe')\"\n",
              "              title=\"Convert this dataframe to an interactive table.\"\n",
              "              style=\"display:none;\">\n",
              "        \n",
              "  <svg xmlns=\"http://www.w3.org/2000/svg\" height=\"24px\"viewBox=\"0 0 24 24\"\n",
              "       width=\"24px\">\n",
              "    <path d=\"M0 0h24v24H0V0z\" fill=\"none\"/>\n",
              "    <path d=\"M18.56 5.44l.94 2.06.94-2.06 2.06-.94-2.06-.94-.94-2.06-.94 2.06-2.06.94zm-11 1L8.5 8.5l.94-2.06 2.06-.94-2.06-.94L8.5 2.5l-.94 2.06-2.06.94zm10 10l.94 2.06.94-2.06 2.06-.94-2.06-.94-.94-2.06-.94 2.06-2.06.94z\"/><path d=\"M17.41 7.96l-1.37-1.37c-.4-.4-.92-.59-1.43-.59-.52 0-1.04.2-1.43.59L10.3 9.45l-7.72 7.72c-.78.78-.78 2.05 0 2.83L4 21.41c.39.39.9.59 1.41.59.51 0 1.02-.2 1.41-.59l7.78-7.78 2.81-2.81c.8-.78.8-2.07 0-2.86zM5.41 20L4 18.59l7.72-7.72 1.47 1.35L5.41 20z\"/>\n",
              "  </svg>\n",
              "      </button>\n",
              "      \n",
              "  <style>\n",
              "    .colab-df-container {\n",
              "      display:flex;\n",
              "      flex-wrap:wrap;\n",
              "      gap: 12px;\n",
              "    }\n",
              "\n",
              "    .colab-df-convert {\n",
              "      background-color: #E8F0FE;\n",
              "      border: none;\n",
              "      border-radius: 50%;\n",
              "      cursor: pointer;\n",
              "      display: none;\n",
              "      fill: #1967D2;\n",
              "      height: 32px;\n",
              "      padding: 0 0 0 0;\n",
              "      width: 32px;\n",
              "    }\n",
              "\n",
              "    .colab-df-convert:hover {\n",
              "      background-color: #E2EBFA;\n",
              "      box-shadow: 0px 1px 2px rgba(60, 64, 67, 0.3), 0px 1px 3px 1px rgba(60, 64, 67, 0.15);\n",
              "      fill: #174EA6;\n",
              "    }\n",
              "\n",
              "    [theme=dark] .colab-df-convert {\n",
              "      background-color: #3B4455;\n",
              "      fill: #D2E3FC;\n",
              "    }\n",
              "\n",
              "    [theme=dark] .colab-df-convert:hover {\n",
              "      background-color: #434B5C;\n",
              "      box-shadow: 0px 1px 3px 1px rgba(0, 0, 0, 0.15);\n",
              "      filter: drop-shadow(0px 1px 2px rgba(0, 0, 0, 0.3));\n",
              "      fill: #FFFFFF;\n",
              "    }\n",
              "  </style>\n",
              "\n",
              "      <script>\n",
              "        const buttonEl =\n",
              "          document.querySelector('#df-7f4997d1-587f-4519-a551-4415b3badafe button.colab-df-convert');\n",
              "        buttonEl.style.display =\n",
              "          google.colab.kernel.accessAllowed ? 'block' : 'none';\n",
              "\n",
              "        async function convertToInteractive(key) {\n",
              "          const element = document.querySelector('#df-7f4997d1-587f-4519-a551-4415b3badafe');\n",
              "          const dataTable =\n",
              "            await google.colab.kernel.invokeFunction('convertToInteractive',\n",
              "                                                     [key], {});\n",
              "          if (!dataTable) return;\n",
              "\n",
              "          const docLinkHtml = 'Like what you see? Visit the ' +\n",
              "            '<a target=\"_blank\" href=https://colab.research.google.com/notebooks/data_table.ipynb>data table notebook</a>'\n",
              "            + ' to learn more about interactive tables.';\n",
              "          element.innerHTML = '';\n",
              "          dataTable['output_type'] = 'display_data';\n",
              "          await google.colab.output.renderOutput(dataTable, element);\n",
              "          const docLink = document.createElement('div');\n",
              "          docLink.innerHTML = docLinkHtml;\n",
              "          element.appendChild(docLink);\n",
              "        }\n",
              "      </script>\n",
              "    </div>\n",
              "  </div>\n",
              "  "
            ],
            "text/plain": [
              "Empty DataFrame\n",
              "Columns: [flesch-kincaid, flesch-reading-ease, dale-chall, gunning-fog, bias]\n",
              "Index: []"
            ]
          },
          "metadata": {},
          "execution_count": 15
        }
      ],
      "source": [
        "df_readability_names = [\"flesch-kincaid\", \"flesch-reading-ease\", \"dale-chall\", \"gunning-fog\", \"bias\"]\n",
        "df_readability = pd.DataFrame(columns = df_readability_names)\n",
        "df_readability"
      ]
    },
    {
      "cell_type": "code",
      "execution_count": null,
      "metadata": {
        "colab": {
          "base_uri": "https://localhost:8080/",
          "height": 423
        },
        "id": "vdHNUy11LIi2",
        "outputId": "91761c76-5cc6-4591-c63f-3057701e0abe"
      },
      "outputs": [
        {
          "output_type": "execute_result",
          "data": {
            "text/html": [
              "\n",
              "  <div id=\"df-b0fd8776-4631-42da-963a-ff30fa799e25\">\n",
              "    <div class=\"colab-df-container\">\n",
              "      <div>\n",
              "<style scoped>\n",
              "    .dataframe tbody tr th:only-of-type {\n",
              "        vertical-align: middle;\n",
              "    }\n",
              "\n",
              "    .dataframe tbody tr th {\n",
              "        vertical-align: top;\n",
              "    }\n",
              "\n",
              "    .dataframe thead th {\n",
              "        text-align: right;\n",
              "    }\n",
              "</style>\n",
              "<table border=\"1\" class=\"dataframe\">\n",
              "  <thead>\n",
              "    <tr style=\"text-align: right;\">\n",
              "      <th></th>\n",
              "      <th>flesch-kincaid</th>\n",
              "      <th>flesch-reading-ease</th>\n",
              "      <th>dale-chall</th>\n",
              "      <th>gunning-fog</th>\n",
              "      <th>bias</th>\n",
              "    </tr>\n",
              "  </thead>\n",
              "  <tbody>\n",
              "    <tr>\n",
              "      <th>0</th>\n",
              "      <td>15.0</td>\n",
              "      <td>35.61</td>\n",
              "      <td>9.07</td>\n",
              "      <td>18.21</td>\n",
              "      <td>left</td>\n",
              "    </tr>\n",
              "    <tr>\n",
              "      <th>1</th>\n",
              "      <td>1038.0</td>\n",
              "      <td>-2615.91</td>\n",
              "      <td>138.35</td>\n",
              "      <td>1064.84</td>\n",
              "      <td>left</td>\n",
              "    </tr>\n",
              "    <tr>\n",
              "      <th>2</th>\n",
              "      <td>495.5</td>\n",
              "      <td>-1198.63</td>\n",
              "      <td>69.56</td>\n",
              "      <td>509.25</td>\n",
              "      <td>left</td>\n",
              "    </tr>\n",
              "    <tr>\n",
              "      <th>3</th>\n",
              "      <td>458.4</td>\n",
              "      <td>-1107.62</td>\n",
              "      <td>65.46</td>\n",
              "      <td>470.74</td>\n",
              "      <td>left</td>\n",
              "    </tr>\n",
              "    <tr>\n",
              "      <th>4</th>\n",
              "      <td>737.7</td>\n",
              "      <td>-1834.36</td>\n",
              "      <td>100.65</td>\n",
              "      <td>757.69</td>\n",
              "      <td>left</td>\n",
              "    </tr>\n",
              "    <tr>\n",
              "      <th>...</th>\n",
              "      <td>...</td>\n",
              "      <td>...</td>\n",
              "      <td>...</td>\n",
              "      <td>...</td>\n",
              "      <td>...</td>\n",
              "    </tr>\n",
              "    <tr>\n",
              "      <th>4955</th>\n",
              "      <td>119.9</td>\n",
              "      <td>-226.60</td>\n",
              "      <td>22.80</td>\n",
              "      <td>124.11</td>\n",
              "      <td>right</td>\n",
              "    </tr>\n",
              "    <tr>\n",
              "      <th>4956</th>\n",
              "      <td>135.5</td>\n",
              "      <td>-267.20</td>\n",
              "      <td>24.15</td>\n",
              "      <td>139.61</td>\n",
              "      <td>right</td>\n",
              "    </tr>\n",
              "    <tr>\n",
              "      <th>4957</th>\n",
              "      <td>110.2</td>\n",
              "      <td>-206.64</td>\n",
              "      <td>21.09</td>\n",
              "      <td>113.10</td>\n",
              "      <td>right</td>\n",
              "    </tr>\n",
              "    <tr>\n",
              "      <th>4958</th>\n",
              "      <td>119.9</td>\n",
              "      <td>-232.02</td>\n",
              "      <td>22.80</td>\n",
              "      <td>122.94</td>\n",
              "      <td>right</td>\n",
              "    </tr>\n",
              "    <tr>\n",
              "      <th>4959</th>\n",
              "      <td>118.3</td>\n",
              "      <td>-227.96</td>\n",
              "      <td>23.19</td>\n",
              "      <td>122.47</td>\n",
              "      <td>right</td>\n",
              "    </tr>\n",
              "  </tbody>\n",
              "</table>\n",
              "<p>4960 rows × 5 columns</p>\n",
              "</div>\n",
              "      <button class=\"colab-df-convert\" onclick=\"convertToInteractive('df-b0fd8776-4631-42da-963a-ff30fa799e25')\"\n",
              "              title=\"Convert this dataframe to an interactive table.\"\n",
              "              style=\"display:none;\">\n",
              "        \n",
              "  <svg xmlns=\"http://www.w3.org/2000/svg\" height=\"24px\"viewBox=\"0 0 24 24\"\n",
              "       width=\"24px\">\n",
              "    <path d=\"M0 0h24v24H0V0z\" fill=\"none\"/>\n",
              "    <path d=\"M18.56 5.44l.94 2.06.94-2.06 2.06-.94-2.06-.94-.94-2.06-.94 2.06-2.06.94zm-11 1L8.5 8.5l.94-2.06 2.06-.94-2.06-.94L8.5 2.5l-.94 2.06-2.06.94zm10 10l.94 2.06.94-2.06 2.06-.94-2.06-.94-.94-2.06-.94 2.06-2.06.94z\"/><path d=\"M17.41 7.96l-1.37-1.37c-.4-.4-.92-.59-1.43-.59-.52 0-1.04.2-1.43.59L10.3 9.45l-7.72 7.72c-.78.78-.78 2.05 0 2.83L4 21.41c.39.39.9.59 1.41.59.51 0 1.02-.2 1.41-.59l7.78-7.78 2.81-2.81c.8-.78.8-2.07 0-2.86zM5.41 20L4 18.59l7.72-7.72 1.47 1.35L5.41 20z\"/>\n",
              "  </svg>\n",
              "      </button>\n",
              "      \n",
              "  <style>\n",
              "    .colab-df-container {\n",
              "      display:flex;\n",
              "      flex-wrap:wrap;\n",
              "      gap: 12px;\n",
              "    }\n",
              "\n",
              "    .colab-df-convert {\n",
              "      background-color: #E8F0FE;\n",
              "      border: none;\n",
              "      border-radius: 50%;\n",
              "      cursor: pointer;\n",
              "      display: none;\n",
              "      fill: #1967D2;\n",
              "      height: 32px;\n",
              "      padding: 0 0 0 0;\n",
              "      width: 32px;\n",
              "    }\n",
              "\n",
              "    .colab-df-convert:hover {\n",
              "      background-color: #E2EBFA;\n",
              "      box-shadow: 0px 1px 2px rgba(60, 64, 67, 0.3), 0px 1px 3px 1px rgba(60, 64, 67, 0.15);\n",
              "      fill: #174EA6;\n",
              "    }\n",
              "\n",
              "    [theme=dark] .colab-df-convert {\n",
              "      background-color: #3B4455;\n",
              "      fill: #D2E3FC;\n",
              "    }\n",
              "\n",
              "    [theme=dark] .colab-df-convert:hover {\n",
              "      background-color: #434B5C;\n",
              "      box-shadow: 0px 1px 3px 1px rgba(0, 0, 0, 0.15);\n",
              "      filter: drop-shadow(0px 1px 2px rgba(0, 0, 0, 0.3));\n",
              "      fill: #FFFFFF;\n",
              "    }\n",
              "  </style>\n",
              "\n",
              "      <script>\n",
              "        const buttonEl =\n",
              "          document.querySelector('#df-b0fd8776-4631-42da-963a-ff30fa799e25 button.colab-df-convert');\n",
              "        buttonEl.style.display =\n",
              "          google.colab.kernel.accessAllowed ? 'block' : 'none';\n",
              "\n",
              "        async function convertToInteractive(key) {\n",
              "          const element = document.querySelector('#df-b0fd8776-4631-42da-963a-ff30fa799e25');\n",
              "          const dataTable =\n",
              "            await google.colab.kernel.invokeFunction('convertToInteractive',\n",
              "                                                     [key], {});\n",
              "          if (!dataTable) return;\n",
              "\n",
              "          const docLinkHtml = 'Like what you see? Visit the ' +\n",
              "            '<a target=\"_blank\" href=https://colab.research.google.com/notebooks/data_table.ipynb>data table notebook</a>'\n",
              "            + ' to learn more about interactive tables.';\n",
              "          element.innerHTML = '';\n",
              "          dataTable['output_type'] = 'display_data';\n",
              "          await google.colab.output.renderOutput(dataTable, element);\n",
              "          const docLink = document.createElement('div');\n",
              "          docLink.innerHTML = docLinkHtml;\n",
              "          element.appendChild(docLink);\n",
              "        }\n",
              "      </script>\n",
              "    </div>\n",
              "  </div>\n",
              "  "
            ],
            "text/plain": [
              "      flesch-kincaid  flesch-reading-ease  dale-chall  gunning-fog   bias\n",
              "0               15.0                35.61        9.07        18.21   left\n",
              "1             1038.0             -2615.91      138.35      1064.84   left\n",
              "2              495.5             -1198.63       69.56       509.25   left\n",
              "3              458.4             -1107.62       65.46       470.74   left\n",
              "4              737.7             -1834.36      100.65       757.69   left\n",
              "...              ...                  ...         ...          ...    ...\n",
              "4955           119.9              -226.60       22.80       124.11  right\n",
              "4956           135.5              -267.20       24.15       139.61  right\n",
              "4957           110.2              -206.64       21.09       113.10  right\n",
              "4958           119.9              -232.02       22.80       122.94  right\n",
              "4959           118.3              -227.96       23.19       122.47  right\n",
              "\n",
              "[4960 rows x 5 columns]"
            ]
          },
          "metadata": {},
          "execution_count": 16
        }
      ],
      "source": [
        "import textstat\n",
        "\n",
        "for value in df_news_july.values:\n",
        "  bias = \"\"\n",
        "  if \"left\" in value[3]:\n",
        "    bias = \"left\"\n",
        "  else:\n",
        "    bias = \"right\"\n",
        "  content = preprocess(value[2])\n",
        "  flesch_kincaid = textstat.flesch_kincaid_grade(content)\n",
        "  flesch_reading = textstat.flesch_reading_ease(content)\n",
        "  dale_chall = textstat.dale_chall_readability_score(content)\n",
        "  gunning_fog = textstat.gunning_fog(content)\n",
        "  df_readability = df_readability.append({\"flesch-kincaid\": flesch_kincaid, \"flesch-reading-ease\": flesch_reading, \"dale-chall\": dale_chall, \"gunning-fog\": gunning_fog, \"bias\": bias}, ignore_index=True)\n",
        "df_readability"
      ]
    },
    {
      "cell_type": "code",
      "execution_count": null,
      "metadata": {
        "id": "6yJZ1Ld0S_gS"
      },
      "outputs": [],
      "source": [
        "y = df_readability['bias']"
      ]
    },
    {
      "cell_type": "markdown",
      "metadata": {
        "id": "97mB9-CJSy-K"
      },
      "source": [
        "##### 1 feature"
      ]
    },
    {
      "cell_type": "markdown",
      "metadata": {
        "id": "GCrldo_n_ct0"
      },
      "source": [
        "###### Flesch-Kincaid"
      ]
    },
    {
      "cell_type": "code",
      "source": [
        "X_1 = df_readability.drop(['flesch-reading-ease', 'dale-chall', 'gunning-fog', 'bias'], axis=1)"
      ],
      "metadata": {
        "id": "mCpso0FdW_Mo"
      },
      "execution_count": null,
      "outputs": []
    },
    {
      "cell_type": "code",
      "execution_count": null,
      "metadata": {
        "colab": {
          "base_uri": "https://localhost:8080/"
        },
        "id": "lZqDMbRt2185",
        "outputId": "fac492f3-163f-479d-9492-ecf99656b6f7"
      },
      "outputs": [
        {
          "output_type": "stream",
          "name": "stdout",
          "text": [
            "  param_C param_gamma  mean_test_score\n",
            "0    0.01        auto         0.509073\n",
            "1    0.01       scale         0.540726\n",
            "2     0.1        auto         0.516331\n",
            "3     0.1       scale         0.537903\n",
            "4       1        auto         0.517944\n",
            "5       1       scale         0.536492\n",
            "6      10        auto         0.516331\n",
            "7      10       scale         0.533669\n",
            "8     100        auto         0.509274\n",
            "9     100       scale         0.528831\n"
          ]
        }
      ],
      "source": [
        "grid_search_cv_with_svm(X_1)"
      ]
    },
    {
      "cell_type": "code",
      "execution_count": null,
      "metadata": {
        "id": "HbfIg-i5_NO6"
      },
      "outputs": [],
      "source": [
        "# C = 0.01, gamma = scale"
      ]
    },
    {
      "cell_type": "code",
      "execution_count": null,
      "metadata": {
        "id": "j_uQJmRaXgpV",
        "colab": {
          "base_uri": "https://localhost:8080/",
          "height": 495
        },
        "outputId": "83d01ff7-689b-4579-a737-01a565b23c94"
      },
      "outputs": [
        {
          "output_type": "stream",
          "name": "stdout",
          "text": [
            "              precision    recall  f1-score   support\n",
            "\n",
            "        left       0.57      0.33      0.42      2480\n",
            "       right       0.53      0.75      0.62      2480\n",
            "\n",
            "    accuracy                           0.54      4960\n",
            "   macro avg       0.55      0.54      0.52      4960\n",
            "weighted avg       0.55      0.54      0.52      4960\n",
            "\n"
          ]
        },
        {
          "output_type": "display_data",
          "data": {
            "image/png": "[encoded data removed]",
            "text/plain": [
              "<Figure size 504x360 with 2 Axes>"
            ]
          },
          "metadata": {
            "needs_background": "light"
          }
        }
      ],
      "source": [
        "classification_with_svm(X_1, 'scale', 0.01, 10)"
      ]
    },
    {
      "cell_type": "markdown",
      "metadata": {
        "id": "pvY-B143_ixj"
      },
      "source": [
        "###### Flesch reading ease"
      ]
    },
    {
      "cell_type": "code",
      "source": [
        "X_2 = df_readability.drop(['flesch-kincaid', 'dale-chall', 'gunning-fog', 'bias'], axis=1)"
      ],
      "metadata": {
        "id": "Cr4GfaOCW8DL"
      },
      "execution_count": null,
      "outputs": []
    },
    {
      "cell_type": "code",
      "source": [
        "grid_search_cv_with_svm(X_2)"
      ],
      "metadata": {
        "colab": {
          "base_uri": "https://localhost:8080/"
        },
        "id": "OOxVSOJNZ6_L",
        "outputId": "686946b0-f2cb-4475-916f-d330d657625f"
      },
      "execution_count": null,
      "outputs": [
        {
          "output_type": "stream",
          "name": "stdout",
          "text": [
            "  param_C param_gamma  mean_test_score\n",
            "0    0.01        auto         0.522379\n",
            "1    0.01       scale         0.541331\n",
            "2     0.1        auto         0.522379\n",
            "3     0.1       scale         0.537500\n",
            "4       1        auto         0.530847\n",
            "5       1       scale         0.535484\n",
            "6      10        auto         0.518750\n",
            "7      10       scale         0.535282\n",
            "8     100        auto         0.508266\n",
            "9     100       scale         0.530645\n"
          ]
        }
      ]
    },
    {
      "cell_type": "code",
      "execution_count": null,
      "metadata": {
        "id": "e9rNW6yp_84K"
      },
      "outputs": [],
      "source": [
        "# C = 0.01, gamma = scale"
      ]
    },
    {
      "cell_type": "code",
      "execution_count": null,
      "metadata": {
        "id": "zfeCoNyzZVDj",
        "colab": {
          "base_uri": "https://localhost:8080/",
          "height": 495
        },
        "outputId": "9f0256b4-578c-4041-f637-f8944a3fe44b"
      },
      "outputs": [
        {
          "output_type": "stream",
          "name": "stdout",
          "text": [
            "              precision    recall  f1-score   support\n",
            "\n",
            "        left       0.57      0.34      0.42      2480\n",
            "       right       0.53      0.75      0.62      2480\n",
            "\n",
            "    accuracy                           0.54      4960\n",
            "   macro avg       0.55      0.54      0.52      4960\n",
            "weighted avg       0.55      0.54      0.52      4960\n",
            "\n"
          ]
        },
        {
          "output_type": "display_data",
          "data": {
            "image/png": "[encoded data removed]",
            "text/plain": [
              "<Figure size 504x360 with 2 Axes>"
            ]
          },
          "metadata": {}
        }
      ],
      "source": [
        "classification_with_svm(X_2, 'scale', 0.01, 10)"
      ]
    },
    {
      "cell_type": "markdown",
      "metadata": {
        "id": "AvrPwBQ7_mhb"
      },
      "source": [
        "###### Dale-Chall "
      ]
    },
    {
      "cell_type": "code",
      "source": [
        "X_3 = df_readability.drop(['flesch-kincaid', 'flesch-reading-ease', 'gunning-fog', 'bias'], axis=1)"
      ],
      "metadata": {
        "id": "mP96OtEhXFYi"
      },
      "execution_count": null,
      "outputs": []
    },
    {
      "cell_type": "code",
      "execution_count": null,
      "metadata": {
        "id": "V3OyYeofT5BQ",
        "colab": {
          "base_uri": "https://localhost:8080/"
        },
        "outputId": "94821196-358a-4ea6-ef6d-ee1be57b14e7"
      },
      "outputs": [
        {
          "output_type": "stream",
          "name": "stdout",
          "text": [
            "  param_C param_gamma  mean_test_score\n",
            "0    0.01        auto         0.522984\n",
            "1    0.01       scale         0.541532\n",
            "2     0.1        auto         0.511492\n",
            "3     0.1       scale         0.538105\n",
            "4       1        auto         0.522581\n",
            "5       1       scale         0.534879\n",
            "6      10        auto         0.521774\n",
            "7      10       scale         0.535685\n",
            "8     100        auto         0.528831\n",
            "9     100       scale         0.530847\n"
          ]
        }
      ],
      "source": [
        "grid_search_cv_with_svm(X_3)"
      ]
    },
    {
      "cell_type": "code",
      "execution_count": null,
      "metadata": {
        "id": "1eEJHw4DAZ4r"
      },
      "outputs": [],
      "source": [
        "# C = 0.01, gamma = scale"
      ]
    },
    {
      "cell_type": "code",
      "source": [
        "classification_with_svm(X_3, 'scale', 0.01, 10)"
      ],
      "metadata": {
        "colab": {
          "base_uri": "https://localhost:8080/",
          "height": 495
        },
        "id": "1r_iwnjHWjiE",
        "outputId": "7f9e950f-c4b8-4cad-aa95-868fdd71a412"
      },
      "execution_count": null,
      "outputs": [
        {
          "output_type": "stream",
          "name": "stdout",
          "text": [
            "              precision    recall  f1-score   support\n",
            "\n",
            "        left       0.57      0.33      0.42      2480\n",
            "       right       0.53      0.75      0.62      2480\n",
            "\n",
            "    accuracy                           0.54      4960\n",
            "   macro avg       0.55      0.54      0.52      4960\n",
            "weighted avg       0.55      0.54      0.52      4960\n",
            "\n"
          ]
        },
        {
          "output_type": "display_data",
          "data": {
            "image/png": "[encoded data removed]",
            "text/plain": [
              "<Figure size 504x360 with 2 Axes>"
            ]
          },
          "metadata": {}
        }
      ]
    },
    {
      "cell_type": "markdown",
      "metadata": {
        "id": "lV_tkyoh_s-9"
      },
      "source": [
        "###### Gunning fog"
      ]
    },
    {
      "cell_type": "code",
      "source": [
        "X_4 = df_readability.drop(['flesch-kincaid', 'flesch-reading-ease', 'dale-chall', 'bias'], axis=1)"
      ],
      "metadata": {
        "id": "F2R1cXUGXHQf"
      },
      "execution_count": null,
      "outputs": []
    },
    {
      "cell_type": "code",
      "execution_count": null,
      "metadata": {
        "id": "MVr8qF-oUA1i",
        "colab": {
          "base_uri": "https://localhost:8080/"
        },
        "outputId": "1c9ca9fd-db6a-4211-9f15-1659c86f3bb9"
      },
      "outputs": [
        {
          "output_type": "stream",
          "name": "stdout",
          "text": [
            "  param_C param_gamma  mean_test_score\n",
            "0    0.01        auto         0.521976\n",
            "1    0.01       scale         0.540323\n",
            "2     0.1        auto         0.524194\n",
            "3     0.1       scale         0.537903\n",
            "4       1        auto         0.519556\n",
            "5       1       scale         0.535685\n",
            "6      10        auto         0.523185\n",
            "7      10       scale         0.533468\n",
            "8     100        auto         0.524395\n",
            "9     100       scale         0.530645\n"
          ]
        }
      ],
      "source": [
        "grid_search_cv_with_svm(X_4)"
      ]
    },
    {
      "cell_type": "code",
      "execution_count": null,
      "metadata": {
        "id": "_dAbgnojBo0o"
      },
      "outputs": [],
      "source": [
        "# C = 0.01, gamma = scale"
      ]
    },
    {
      "cell_type": "code",
      "source": [
        "classification_with_svm(X_4, 'scale', 0.01, 10)"
      ],
      "metadata": {
        "colab": {
          "base_uri": "https://localhost:8080/",
          "height": 495
        },
        "id": "rGKTDzxDWlc5",
        "outputId": "a1d17f86-7368-4bc5-ef1c-b8447d2ba955"
      },
      "execution_count": null,
      "outputs": [
        {
          "output_type": "stream",
          "name": "stdout",
          "text": [
            "              precision    recall  f1-score   support\n",
            "\n",
            "        left       0.57      0.33      0.42      2480\n",
            "       right       0.53      0.75      0.62      2480\n",
            "\n",
            "    accuracy                           0.54      4960\n",
            "   macro avg       0.55      0.54      0.52      4960\n",
            "weighted avg       0.55      0.54      0.52      4960\n",
            "\n"
          ]
        },
        {
          "output_type": "display_data",
          "data": {
            "image/png": "[encoded data removed]",
            "text/plain": [
              "<Figure size 504x360 with 2 Axes>"
            ]
          },
          "metadata": {}
        }
      ]
    },
    {
      "cell_type": "markdown",
      "metadata": {
        "id": "enX-IqAGDL63"
      },
      "source": [
        "##### 2 features"
      ]
    },
    {
      "cell_type": "markdown",
      "metadata": {
        "id": "xRSxFgnRDPgC"
      },
      "source": [
        "###### Flesch-Kincaid + Flesch reading ease"
      ]
    },
    {
      "cell_type": "code",
      "source": [
        "X_12 = df_readability.drop(['dale-chall', 'gunning-fog', 'bias'], axis=1)"
      ],
      "metadata": {
        "id": "yyRNXoTzXL8N"
      },
      "execution_count": null,
      "outputs": []
    },
    {
      "cell_type": "code",
      "execution_count": null,
      "metadata": {
        "id": "sMs4ADueDciR",
        "colab": {
          "base_uri": "https://localhost:8080/"
        },
        "outputId": "97b4ebdd-5faa-486c-e82f-bf5b104f255b"
      },
      "outputs": [
        {
          "output_type": "stream",
          "name": "stdout",
          "text": [
            "  param_C param_gamma  mean_test_score\n",
            "0    0.01        auto         0.512097\n",
            "1    0.01       scale         0.543548\n",
            "2     0.1        auto         0.512097\n",
            "3     0.1       scale         0.538911\n",
            "4       1        auto         0.520161\n",
            "5       1       scale         0.536895\n",
            "6      10        auto         0.513508\n",
            "7      10       scale         0.536290\n",
            "8     100        auto         0.513508\n",
            "9     100       scale         0.535484\n"
          ]
        }
      ],
      "source": [
        "grid_search_cv_with_svm(X_12)"
      ]
    },
    {
      "cell_type": "code",
      "execution_count": null,
      "metadata": {
        "id": "Wep4leCkJjHq"
      },
      "outputs": [],
      "source": [
        "# C = 0.01, gamma = scale"
      ]
    },
    {
      "cell_type": "code",
      "source": [
        "classification_with_svm(X_12, 'scale', 0.01, 10)"
      ],
      "metadata": {
        "colab": {
          "base_uri": "https://localhost:8080/",
          "height": 495
        },
        "id": "-8g07NTTXKqU",
        "outputId": "bd77e525-bdec-4210-867b-792686759a2b"
      },
      "execution_count": null,
      "outputs": [
        {
          "output_type": "stream",
          "name": "stdout",
          "text": [
            "              precision    recall  f1-score   support\n",
            "\n",
            "        left       0.58      0.31      0.40      2480\n",
            "       right       0.53      0.78      0.63      2480\n",
            "\n",
            "    accuracy                           0.54      4960\n",
            "   macro avg       0.56      0.54      0.52      4960\n",
            "weighted avg       0.56      0.54      0.52      4960\n",
            "\n"
          ]
        },
        {
          "output_type": "display_data",
          "data": {
            "image/png": "[encoded data removed]",
            "text/plain": [
              "<Figure size 504x360 with 2 Axes>"
            ]
          },
          "metadata": {}
        }
      ]
    },
    {
      "cell_type": "markdown",
      "metadata": {
        "id": "ZjnuK_AhDW71"
      },
      "source": [
        "###### Flesch-Kincaid + Dale-Chall"
      ]
    },
    {
      "cell_type": "code",
      "source": [
        "X_13 = df_readability.drop(['flesch-reading-ease', 'gunning-fog', 'bias'], axis=1)"
      ],
      "metadata": {
        "id": "_QFq0EG9XNxK"
      },
      "execution_count": null,
      "outputs": []
    },
    {
      "cell_type": "code",
      "execution_count": null,
      "metadata": {
        "id": "02unsKYjDdCu",
        "colab": {
          "base_uri": "https://localhost:8080/"
        },
        "outputId": "9a40913e-3ac1-4604-a8c4-353848674f49"
      },
      "outputs": [
        {
          "output_type": "stream",
          "name": "stdout",
          "text": [
            "  param_C param_gamma  mean_test_score\n",
            "0    0.01        auto         0.516331\n",
            "1    0.01       scale         0.542742\n",
            "2     0.1        auto         0.526613\n",
            "3     0.1       scale         0.540726\n",
            "4       1        auto         0.513105\n",
            "5       1       scale         0.536290\n",
            "6      10        auto         0.509476\n",
            "7      10       scale         0.535282\n",
            "8     100        auto         0.497984\n",
            "9     100       scale         0.532661\n"
          ]
        }
      ],
      "source": [
        "grid_search_cv_with_svm(X_13)"
      ]
    },
    {
      "cell_type": "code",
      "execution_count": null,
      "metadata": {
        "id": "do8bc53CHVhP"
      },
      "outputs": [],
      "source": [
        "# C = 0.01, gamma = scale"
      ]
    },
    {
      "cell_type": "code",
      "source": [
        "classification_with_svm(X_13, 'scale', 0.01, 10)"
      ],
      "metadata": {
        "colab": {
          "base_uri": "https://localhost:8080/",
          "height": 495
        },
        "id": "3gac3xtYXQNb",
        "outputId": "e9bac8e9-93da-4582-d492-f3b83ad1d96d"
      },
      "execution_count": null,
      "outputs": [
        {
          "output_type": "stream",
          "name": "stdout",
          "text": [
            "              precision    recall  f1-score   support\n",
            "\n",
            "        left       0.58      0.32      0.41      2480\n",
            "       right       0.53      0.77      0.63      2480\n",
            "\n",
            "    accuracy                           0.54      4960\n",
            "   macro avg       0.55      0.54      0.52      4960\n",
            "weighted avg       0.55      0.54      0.52      4960\n",
            "\n"
          ]
        },
        {
          "output_type": "display_data",
          "data": {
            "image/png": "[encoded data removed]",
            "text/plain": [
              "<Figure size 504x360 with 2 Axes>"
            ]
          },
          "metadata": {}
        }
      ]
    },
    {
      "cell_type": "markdown",
      "metadata": {
        "id": "nESrEBgDDhYN"
      },
      "source": [
        "###### Flesch-Kincaid + Gunning fog"
      ]
    },
    {
      "cell_type": "code",
      "source": [
        "X_14 = df_readability.drop(['flesch-reading-ease', 'dale-chall', 'bias'], axis=1)"
      ],
      "metadata": {
        "id": "tg_oD5i5XSLs"
      },
      "execution_count": null,
      "outputs": []
    },
    {
      "cell_type": "code",
      "execution_count": null,
      "metadata": {
        "id": "P4N9qQvvDhYO",
        "colab": {
          "base_uri": "https://localhost:8080/"
        },
        "outputId": "b6ff99f2-8f65-4c7b-a890-bf2b5509e7fb"
      },
      "outputs": [
        {
          "output_type": "stream",
          "name": "stdout",
          "text": [
            "  param_C param_gamma  mean_test_score\n",
            "0    0.01        auto         0.507460\n",
            "1    0.01       scale         0.540726\n",
            "2     0.1        auto         0.507258\n",
            "3     0.1       scale         0.538105\n",
            "4       1        auto         0.505444\n",
            "5       1       scale         0.536290\n",
            "6      10        auto         0.513306\n",
            "7      10       scale         0.533468\n",
            "8     100        auto         0.509677\n",
            "9     100       scale         0.529839\n"
          ]
        }
      ],
      "source": [
        "grid_search_cv_with_svm(X_14)"
      ]
    },
    {
      "cell_type": "code",
      "execution_count": null,
      "metadata": {
        "id": "_oYGJcFJHbsk"
      },
      "outputs": [],
      "source": [
        "# C = 0.01, gamma = scale"
      ]
    },
    {
      "cell_type": "code",
      "source": [
        "classification_with_svm(X_14, 'scale', 0.01, 10)"
      ],
      "metadata": {
        "colab": {
          "base_uri": "https://localhost:8080/",
          "height": 495
        },
        "id": "4RjNV_vFXdL_",
        "outputId": "3d734a89-eaa6-4083-eef2-07e15bb81c3a"
      },
      "execution_count": null,
      "outputs": [
        {
          "output_type": "stream",
          "name": "stdout",
          "text": [
            "              precision    recall  f1-score   support\n",
            "\n",
            "        left       0.57      0.33      0.42      2480\n",
            "       right       0.53      0.75      0.62      2480\n",
            "\n",
            "    accuracy                           0.54      4960\n",
            "   macro avg       0.55      0.54      0.52      4960\n",
            "weighted avg       0.55      0.54      0.52      4960\n",
            "\n"
          ]
        },
        {
          "output_type": "display_data",
          "data": {
            "image/png": "[encoded data removed]",
            "text/plain": [
              "<Figure size 504x360 with 2 Axes>"
            ]
          },
          "metadata": {}
        }
      ]
    },
    {
      "cell_type": "markdown",
      "metadata": {
        "id": "OTz9IYlhDmWi"
      },
      "source": [
        "###### Flesch reading ease + Dale-Chall"
      ]
    },
    {
      "cell_type": "code",
      "source": [
        "X_23 = df_readability.drop(['flesch-kincaid', 'gunning-fog', 'bias'], axis=1)"
      ],
      "metadata": {
        "id": "eQCsxgNjXhGN"
      },
      "execution_count": null,
      "outputs": []
    },
    {
      "cell_type": "code",
      "execution_count": null,
      "metadata": {
        "id": "ixxUSeVGDmWi",
        "colab": {
          "base_uri": "https://localhost:8080/"
        },
        "outputId": "c6549fcd-767f-4dfb-ef32-532c3994dbd4"
      },
      "outputs": [
        {
          "output_type": "stream",
          "name": "stdout",
          "text": [
            "  param_C param_gamma  mean_test_score\n",
            "0    0.01        auto         0.526815\n",
            "1    0.01       scale         0.542339\n",
            "2     0.1        auto         0.526815\n",
            "3     0.1       scale         0.541935\n",
            "4       1        auto         0.535685\n",
            "5       1       scale         0.535685\n",
            "6      10        auto         0.522379\n",
            "7      10       scale         0.534879\n",
            "8     100        auto         0.503427\n",
            "9     100       scale         0.532661\n"
          ]
        }
      ],
      "source": [
        "grid_search_cv_with_svm(X_23)"
      ]
    },
    {
      "cell_type": "code",
      "execution_count": null,
      "metadata": {
        "id": "iGjyILTjJKYE"
      },
      "outputs": [],
      "source": [
        "# C = 0.01, gamma = scale"
      ]
    },
    {
      "cell_type": "code",
      "source": [
        "classification_with_svm(X_23, 'scale', 0.01, 10)"
      ],
      "metadata": {
        "colab": {
          "base_uri": "https://localhost:8080/",
          "height": 495
        },
        "id": "g_xljDGcXf5K",
        "outputId": "70139f13-9e59-449d-ceed-f64c608a2531"
      },
      "execution_count": null,
      "outputs": [
        {
          "output_type": "stream",
          "name": "stdout",
          "text": [
            "              precision    recall  f1-score   support\n",
            "\n",
            "        left       0.58      0.31      0.41      2480\n",
            "       right       0.53      0.77      0.63      2480\n",
            "\n",
            "    accuracy                           0.54      4960\n",
            "   macro avg       0.55      0.54      0.52      4960\n",
            "weighted avg       0.55      0.54      0.52      4960\n",
            "\n"
          ]
        },
        {
          "output_type": "display_data",
          "data": {
            "image/png": "[encoded data removed]",
            "text/plain": [
              "<Figure size 504x360 with 2 Axes>"
            ]
          },
          "metadata": {}
        }
      ]
    },
    {
      "cell_type": "markdown",
      "metadata": {
        "id": "Kt1dgAX6DmWj"
      },
      "source": [
        "###### Flesch reading ease + Gunning fog"
      ]
    },
    {
      "cell_type": "code",
      "source": [
        "X_24 = df_readability.drop(['flesch-kincaid', 'dale-chall', 'bias'], axis=1)"
      ],
      "metadata": {
        "id": "AAonaj7HXi7r"
      },
      "execution_count": null,
      "outputs": []
    },
    {
      "cell_type": "code",
      "execution_count": null,
      "metadata": {
        "id": "dyOWdHydDmWj",
        "colab": {
          "base_uri": "https://localhost:8080/"
        },
        "outputId": "4424b8f7-f907-4a4d-9e99-da50687e2d3b"
      },
      "outputs": [
        {
          "output_type": "stream",
          "name": "stdout",
          "text": [
            "  param_C param_gamma  mean_test_score\n",
            "0    0.01        auto         0.507863\n",
            "1    0.01       scale         0.543548\n",
            "2     0.1        auto         0.507863\n",
            "3     0.1       scale         0.538710\n",
            "4       1        auto         0.523589\n",
            "5       1       scale         0.536895\n",
            "6      10        auto         0.521976\n",
            "7      10       scale         0.536290\n",
            "8     100        auto         0.517944\n",
            "9     100       scale         0.535484\n"
          ]
        }
      ],
      "source": [
        "grid_search_cv_with_svm(X_24)"
      ]
    },
    {
      "cell_type": "code",
      "execution_count": null,
      "metadata": {
        "id": "iMWc0HJDJMSe"
      },
      "outputs": [],
      "source": [
        "# C = 0.01, gamma = scale"
      ]
    },
    {
      "cell_type": "code",
      "source": [
        "classification_with_svm(X_24, 'scale', 0.01, 10)"
      ],
      "metadata": {
        "colab": {
          "base_uri": "https://localhost:8080/",
          "height": 495
        },
        "id": "A7W3XHkBXlYT",
        "outputId": "0891c7ff-7107-49e0-b9b0-3a83e03eaaa2"
      },
      "execution_count": null,
      "outputs": [
        {
          "output_type": "stream",
          "name": "stdout",
          "text": [
            "              precision    recall  f1-score   support\n",
            "\n",
            "        left       0.58      0.31      0.40      2480\n",
            "       right       0.53      0.78      0.63      2480\n",
            "\n",
            "    accuracy                           0.54      4960\n",
            "   macro avg       0.56      0.54      0.52      4960\n",
            "weighted avg       0.56      0.54      0.52      4960\n",
            "\n"
          ]
        },
        {
          "output_type": "display_data",
          "data": {
            "image/png": "[encoded data removed]",
            "text/plain": [
              "<Figure size 504x360 with 2 Axes>"
            ]
          },
          "metadata": {}
        }
      ]
    },
    {
      "cell_type": "markdown",
      "metadata": {
        "id": "H2lKthtAD-OR"
      },
      "source": [
        "###### Dale-Chall + Gunning fog"
      ]
    },
    {
      "cell_type": "code",
      "source": [
        "X_34 = df_readability.drop(['flesch-kincaid', 'flesch-reading-ease', 'bias'], axis=1)"
      ],
      "metadata": {
        "id": "Zhht5YlcXqKc"
      },
      "execution_count": null,
      "outputs": []
    },
    {
      "cell_type": "code",
      "execution_count": null,
      "metadata": {
        "id": "9Nj74Vz8E-O7",
        "colab": {
          "base_uri": "https://localhost:8080/"
        },
        "outputId": "ecd8cf41-2e13-417c-fc0d-f7ff1d35a8bd"
      },
      "outputs": [
        {
          "output_type": "stream",
          "name": "stdout",
          "text": [
            "  param_C param_gamma  mean_test_score\n",
            "0    0.01        auto         0.525000\n",
            "1    0.01       scale         0.543145\n",
            "2     0.1        auto         0.524395\n",
            "3     0.1       scale         0.540524\n",
            "4       1        auto         0.529032\n",
            "5       1       scale         0.536290\n",
            "6      10        auto         0.527419\n",
            "7      10       scale         0.535081\n",
            "8     100        auto         0.528226\n",
            "9     100       scale         0.533065\n"
          ]
        }
      ],
      "source": [
        "grid_search_cv_with_svm(X_34)"
      ]
    },
    {
      "cell_type": "code",
      "source": [
        "classification_with_svm(X_34, 'scale', 0.01, 10)"
      ],
      "metadata": {
        "colab": {
          "base_uri": "https://localhost:8080/",
          "height": 495
        },
        "id": "bx5OY6ZuXotG",
        "outputId": "0bc599db-988b-4815-9956-b1fe5475e8e9"
      },
      "execution_count": null,
      "outputs": [
        {
          "output_type": "stream",
          "name": "stdout",
          "text": [
            "              precision    recall  f1-score   support\n",
            "\n",
            "        left       0.58      0.32      0.41      2480\n",
            "       right       0.53      0.77      0.63      2480\n",
            "\n",
            "    accuracy                           0.54      4960\n",
            "   macro avg       0.55      0.54      0.52      4960\n",
            "weighted avg       0.55      0.54      0.52      4960\n",
            "\n"
          ]
        },
        {
          "output_type": "display_data",
          "data": {
            "image/png": "[encoded data removed]",
            "text/plain": [
              "<Figure size 504x360 with 2 Axes>"
            ]
          },
          "metadata": {}
        }
      ]
    },
    {
      "cell_type": "markdown",
      "metadata": {
        "id": "O0YL6zf3S65v"
      },
      "source": [
        "##### 3 features"
      ]
    },
    {
      "cell_type": "markdown",
      "metadata": {
        "id": "1QW3HPXVEOm3"
      },
      "source": [
        "###### Flesch-Kincaid + Flesch reading ease + Dale-Chall\n",
        " "
      ]
    },
    {
      "cell_type": "code",
      "source": [
        "X_123 = df_readability.drop(['gunning-fog', 'bias'], axis=1)"
      ],
      "metadata": {
        "id": "akd6oad6YBcT"
      },
      "execution_count": null,
      "outputs": []
    },
    {
      "cell_type": "code",
      "execution_count": null,
      "metadata": {
        "id": "0DGM2hbUKbxt",
        "colab": {
          "base_uri": "https://localhost:8080/"
        },
        "outputId": "f22c2f12-f48b-4a61-ab8c-f83754fa4824"
      },
      "outputs": [
        {
          "output_type": "stream",
          "name": "stdout",
          "text": [
            "  param_C param_gamma  mean_test_score\n",
            "0    0.01        auto         0.516935\n",
            "1    0.01       scale         0.544355\n",
            "2     0.1        auto         0.516935\n",
            "3     0.1       scale         0.538508\n",
            "4       1        auto         0.525202\n",
            "5       1       scale         0.536694\n",
            "6      10        auto         0.516532\n",
            "7      10       scale         0.537298\n",
            "8     100        auto         0.507863\n",
            "9     100       scale         0.534677\n"
          ]
        }
      ],
      "source": [
        "grid_search_cv_with_svm(X_123)"
      ]
    },
    {
      "cell_type": "code",
      "source": [
        "classification_with_svm(X_123, 'scale', 0.01, 10)"
      ],
      "metadata": {
        "colab": {
          "base_uri": "https://localhost:8080/",
          "height": 495
        },
        "id": "lZNe1pTYYANb",
        "outputId": "b064c764-4045-46d2-faf7-130120a72e50"
      },
      "execution_count": null,
      "outputs": [
        {
          "output_type": "stream",
          "name": "stdout",
          "text": [
            "              precision    recall  f1-score   support\n",
            "\n",
            "        left       0.58      0.31      0.40      2480\n",
            "       right       0.53      0.78      0.63      2480\n",
            "\n",
            "    accuracy                           0.54      4960\n",
            "   macro avg       0.56      0.54      0.52      4960\n",
            "weighted avg       0.56      0.54      0.52      4960\n",
            "\n"
          ]
        },
        {
          "output_type": "display_data",
          "data": {
            "image/png": "[encoded data removed]",
            "text/plain": [
              "<Figure size 504x360 with 2 Axes>"
            ]
          },
          "metadata": {}
        }
      ]
    },
    {
      "cell_type": "markdown",
      "metadata": {
        "id": "kDbhH2yUKcFx"
      },
      "source": [
        "###### Flesch-Kincaid + Flesch reading ease + Gunning fog"
      ]
    },
    {
      "cell_type": "code",
      "source": [
        "X_124 = df_readability.drop(['dale-chall', 'bias'], axis=1)"
      ],
      "metadata": {
        "id": "bLMuOJ15YFWm"
      },
      "execution_count": null,
      "outputs": []
    },
    {
      "cell_type": "code",
      "execution_count": null,
      "metadata": {
        "id": "I2w2NzdGKeq2",
        "colab": {
          "base_uri": "https://localhost:8080/"
        },
        "outputId": "528ce690-0566-4e19-aafc-678e01a3f12d"
      },
      "outputs": [
        {
          "output_type": "stream",
          "name": "stdout",
          "text": [
            "  param_C param_gamma  mean_test_score\n",
            "0    0.01        auto         0.507258\n",
            "1    0.01       scale         0.544153\n",
            "2     0.1        auto         0.507258\n",
            "3     0.1       scale         0.538105\n",
            "4       1        auto         0.527419\n",
            "5       1       scale         0.537097\n",
            "6      10        auto         0.517944\n",
            "7      10       scale         0.537097\n",
            "8     100        auto         0.517944\n",
            "9     100       scale         0.536089\n"
          ]
        }
      ],
      "source": [
        "grid_search_cv_with_svm(X_124)"
      ]
    },
    {
      "cell_type": "code",
      "execution_count": null,
      "metadata": {
        "id": "qSLF_mJ-RDIM"
      },
      "outputs": [],
      "source": [
        "# C = 0.01, gamma = scale"
      ]
    },
    {
      "cell_type": "code",
      "source": [
        "classification_with_svm(X_124, 'scale', 0.01, 10)"
      ],
      "metadata": {
        "colab": {
          "base_uri": "https://localhost:8080/",
          "height": 495
        },
        "id": "XcQKrvJqYDx_",
        "outputId": "53d1becc-8e0d-4aad-c34a-60b6f0561cc5"
      },
      "execution_count": null,
      "outputs": [
        {
          "output_type": "stream",
          "name": "stdout",
          "text": [
            "              precision    recall  f1-score   support\n",
            "\n",
            "        left       0.59      0.30      0.40      2480\n",
            "       right       0.53      0.79      0.63      2480\n",
            "\n",
            "    accuracy                           0.54      4960\n",
            "   macro avg       0.56      0.54      0.52      4960\n",
            "weighted avg       0.56      0.54      0.52      4960\n",
            "\n"
          ]
        },
        {
          "output_type": "display_data",
          "data": {
            "image/png": "[encoded data removed]",
            "text/plain": [
              "<Figure size 504x360 with 2 Axes>"
            ]
          },
          "metadata": {}
        }
      ]
    },
    {
      "cell_type": "markdown",
      "metadata": {
        "id": "UOoL2d1HKfLb"
      },
      "source": [
        "###### Flesch-Kincaid  + Dale-Chall + Gunning fog"
      ]
    },
    {
      "cell_type": "code",
      "source": [
        "X_134 = df_readability.drop(['flesch-reading-ease', 'bias'], axis=1)"
      ],
      "metadata": {
        "id": "h0K6u4d3YOIx"
      },
      "execution_count": null,
      "outputs": []
    },
    {
      "cell_type": "code",
      "execution_count": null,
      "metadata": {
        "id": "yyneaM9DKhbK",
        "colab": {
          "base_uri": "https://localhost:8080/"
        },
        "outputId": "366858ef-e77f-4d13-9ec8-a15f91d70882"
      },
      "outputs": [
        {
          "output_type": "stream",
          "name": "stdout",
          "text": [
            "  param_C param_gamma  mean_test_score\n",
            "0    0.01        auto         0.518548\n",
            "1    0.01       scale         0.541734\n",
            "2     0.1        auto         0.519355\n",
            "3     0.1       scale         0.539919\n",
            "4       1        auto         0.509879\n",
            "5       1       scale         0.535685\n",
            "6      10        auto         0.514516\n",
            "7      10       scale         0.534677\n",
            "8     100        auto         0.507863\n",
            "9     100       scale         0.532460\n"
          ]
        }
      ],
      "source": [
        "grid_search_cv_with_svm(X_134)"
      ]
    },
    {
      "cell_type": "code",
      "execution_count": null,
      "metadata": {
        "id": "lFGYPXN6RCYh"
      },
      "outputs": [],
      "source": [
        "# C = 0.01, gamma = scale"
      ]
    },
    {
      "cell_type": "code",
      "source": [
        "classification_with_svm(X_134, 'scale', 0.01, 10)"
      ],
      "metadata": {
        "colab": {
          "base_uri": "https://localhost:8080/",
          "height": 495
        },
        "id": "onEQCqMiYJD-",
        "outputId": "95049533-f731-4731-fb92-b70385831944"
      },
      "execution_count": null,
      "outputs": [
        {
          "output_type": "stream",
          "name": "stdout",
          "text": [
            "              precision    recall  f1-score   support\n",
            "\n",
            "        left       0.58      0.32      0.41      2480\n",
            "       right       0.53      0.76      0.62      2480\n",
            "\n",
            "    accuracy                           0.54      4960\n",
            "   macro avg       0.55      0.54      0.52      4960\n",
            "weighted avg       0.55      0.54      0.52      4960\n",
            "\n"
          ]
        },
        {
          "output_type": "display_data",
          "data": {
            "image/png": "[encoded data removed]",
            "text/plain": [
              "<Figure size 504x360 with 2 Axes>"
            ]
          },
          "metadata": {}
        }
      ]
    },
    {
      "cell_type": "markdown",
      "metadata": {
        "id": "Vc0qp5p2Kh56"
      },
      "source": [
        "###### Flesch reading ease + Dale-Chall + Gunning fog"
      ]
    },
    {
      "cell_type": "code",
      "source": [
        "X_234 = df_readability.drop(['flesch-kincaid', 'bias'], axis=1)"
      ],
      "metadata": {
        "id": "TIxy5Z07YXNR"
      },
      "execution_count": null,
      "outputs": []
    },
    {
      "cell_type": "code",
      "execution_count": null,
      "metadata": {
        "id": "aWEuWV2CKuBb",
        "colab": {
          "base_uri": "https://localhost:8080/"
        },
        "outputId": "835154fb-26be-4c91-9c10-50e5d69356f2"
      },
      "outputs": [
        {
          "output_type": "stream",
          "name": "stdout",
          "text": [
            "  param_C param_gamma  mean_test_score\n",
            "0    0.01        auto         0.513306\n",
            "1    0.01       scale         0.544758\n",
            "2     0.1        auto         0.513306\n",
            "3     0.1       scale         0.538306\n",
            "4       1        auto         0.528831\n",
            "5       1       scale         0.536694\n",
            "6      10        auto         0.520968\n",
            "7      10       scale         0.536895\n",
            "8     100        auto         0.519355\n",
            "9     100       scale         0.534476\n"
          ]
        }
      ],
      "source": [
        "grid_search_cv_with_svm(X_234)"
      ]
    },
    {
      "cell_type": "code",
      "execution_count": null,
      "metadata": {
        "id": "vPcXpDnNRBwL"
      },
      "outputs": [],
      "source": [
        "# C = 0.01, gamma = scale"
      ]
    },
    {
      "cell_type": "code",
      "source": [
        "classification_with_svm(X_234, 'scale', 0.01, 10)"
      ],
      "metadata": {
        "colab": {
          "base_uri": "https://localhost:8080/",
          "height": 495
        },
        "id": "LzuErY6uYZfp",
        "outputId": "a389770a-23a3-48b4-9bf5-ebde7704bee1"
      },
      "execution_count": null,
      "outputs": [
        {
          "output_type": "stream",
          "name": "stdout",
          "text": [
            "              precision    recall  f1-score   support\n",
            "\n",
            "        left       0.59      0.31      0.40      2480\n",
            "       right       0.53      0.78      0.63      2480\n",
            "\n",
            "    accuracy                           0.54      4960\n",
            "   macro avg       0.56      0.54      0.52      4960\n",
            "weighted avg       0.56      0.54      0.52      4960\n",
            "\n"
          ]
        },
        {
          "output_type": "display_data",
          "data": {
            "image/png": "[encoded data removed]",
            "text/plain": [
              "<Figure size 504x360 with 2 Axes>"
            ]
          },
          "metadata": {}
        }
      ]
    },
    {
      "cell_type": "markdown",
      "metadata": {
        "id": "sjIlpAKhKqwC"
      },
      "source": [
        "##### 4 features"
      ]
    },
    {
      "cell_type": "code",
      "source": [
        "X_1234 = df_readability.drop(['bias'], axis=1)"
      ],
      "metadata": {
        "id": "g51XLyqXX3o9"
      },
      "execution_count": null,
      "outputs": []
    },
    {
      "cell_type": "code",
      "execution_count": null,
      "metadata": {
        "id": "wlfhyzjcEbLk",
        "colab": {
          "base_uri": "https://localhost:8080/"
        },
        "outputId": "f83d77a3-b85e-48cf-87d4-07c4ffc7ecf9"
      },
      "outputs": [
        {
          "output_type": "stream",
          "name": "stdout",
          "text": [
            "  param_C param_gamma  mean_test_score\n",
            "0    0.01        auto         0.515121\n",
            "1    0.01       scale         0.544355\n",
            "2     0.1        auto         0.515121\n",
            "3     0.1       scale         0.538306\n",
            "4       1        auto         0.528427\n",
            "5       1       scale         0.537097\n",
            "6      10        auto         0.515323\n",
            "7      10       scale         0.536895\n",
            "8     100        auto         0.512097\n",
            "9     100       scale         0.534879\n"
          ]
        }
      ],
      "source": [
        "grid_search_cv_with_svm(X_1234)"
      ]
    },
    {
      "cell_type": "code",
      "execution_count": null,
      "metadata": {
        "id": "cQyo-ATBJRv-"
      },
      "outputs": [],
      "source": [
        "# C = 0.01, gamma = scale"
      ]
    },
    {
      "cell_type": "code",
      "source": [
        "classification_with_svm(X_1234, 'scale', 0.01, 10)"
      ],
      "metadata": {
        "colab": {
          "base_uri": "https://localhost:8080/",
          "height": 495
        },
        "id": "HpF1uYKQX2Wq",
        "outputId": "ad829656-e1a2-4e73-a148-ae0434bb636f"
      },
      "execution_count": null,
      "outputs": [
        {
          "output_type": "stream",
          "name": "stdout",
          "text": [
            "              precision    recall  f1-score   support\n",
            "\n",
            "        left       0.59      0.30      0.40      2480\n",
            "       right       0.53      0.79      0.63      2480\n",
            "\n",
            "    accuracy                           0.54      4960\n",
            "   macro avg       0.56      0.54      0.52      4960\n",
            "weighted avg       0.56      0.54      0.52      4960\n",
            "\n"
          ]
        },
        {
          "output_type": "display_data",
          "data": {
            "image/png": "[encoded data removed]",
            "text/plain": [
              "<Figure size 504x360 with 2 Axes>"
            ]
          },
          "metadata": {}
        }
      ]
    },
    {
      "cell_type": "markdown",
      "source": [
        "#### News February - Readability Features"
      ],
      "metadata": {
        "id": "EImI0si_gwPR"
      }
    },
    {
      "cell_type": "code",
      "execution_count": null,
      "metadata": {
        "colab": {
          "base_uri": "https://localhost:8080/",
          "height": 49
        },
        "outputId": "e370a931-cc08-461c-ed74-867fe8e2ea45",
        "id": "oL-bvgUTg5mp"
      },
      "outputs": [
        {
          "output_type": "execute_result",
          "data": {
            "text/html": [
              "\n",
              "  <div id=\"df-0cd98cfc-df8a-4c24-a545-904438153abe\">\n",
              "    <div class=\"colab-df-container\">\n",
              "      <div>\n",
              "<style scoped>\n",
              "    .dataframe tbody tr th:only-of-type {\n",
              "        vertical-align: middle;\n",
              "    }\n",
              "\n",
              "    .dataframe tbody tr th {\n",
              "        vertical-align: top;\n",
              "    }\n",
              "\n",
              "    .dataframe thead th {\n",
              "        text-align: right;\n",
              "    }\n",
              "</style>\n",
              "<table border=\"1\" class=\"dataframe\">\n",
              "  <thead>\n",
              "    <tr style=\"text-align: right;\">\n",
              "      <th></th>\n",
              "      <th>flesch-kincaid</th>\n",
              "      <th>flesch-reading-ease</th>\n",
              "      <th>dale-chall</th>\n",
              "      <th>gunning-fog</th>\n",
              "      <th>bias</th>\n",
              "    </tr>\n",
              "  </thead>\n",
              "  <tbody>\n",
              "  </tbody>\n",
              "</table>\n",
              "</div>\n",
              "      <button class=\"colab-df-convert\" onclick=\"convertToInteractive('df-0cd98cfc-df8a-4c24-a545-904438153abe')\"\n",
              "              title=\"Convert this dataframe to an interactive table.\"\n",
              "              style=\"display:none;\">\n",
              "        \n",
              "  <svg xmlns=\"http://www.w3.org/2000/svg\" height=\"24px\"viewBox=\"0 0 24 24\"\n",
              "       width=\"24px\">\n",
              "    <path d=\"M0 0h24v24H0V0z\" fill=\"none\"/>\n",
              "    <path d=\"M18.56 5.44l.94 2.06.94-2.06 2.06-.94-2.06-.94-.94-2.06-.94 2.06-2.06.94zm-11 1L8.5 8.5l.94-2.06 2.06-.94-2.06-.94L8.5 2.5l-.94 2.06-2.06.94zm10 10l.94 2.06.94-2.06 2.06-.94-2.06-.94-.94-2.06-.94 2.06-2.06.94z\"/><path d=\"M17.41 7.96l-1.37-1.37c-.4-.4-.92-.59-1.43-.59-.52 0-1.04.2-1.43.59L10.3 9.45l-7.72 7.72c-.78.78-.78 2.05 0 2.83L4 21.41c.39.39.9.59 1.41.59.51 0 1.02-.2 1.41-.59l7.78-7.78 2.81-2.81c.8-.78.8-2.07 0-2.86zM5.41 20L4 18.59l7.72-7.72 1.47 1.35L5.41 20z\"/>\n",
              "  </svg>\n",
              "      </button>\n",
              "      \n",
              "  <style>\n",
              "    .colab-df-container {\n",
              "      display:flex;\n",
              "      flex-wrap:wrap;\n",
              "      gap: 12px;\n",
              "    }\n",
              "\n",
              "    .colab-df-convert {\n",
              "      background-color: #E8F0FE;\n",
              "      border: none;\n",
              "      border-radius: 50%;\n",
              "      cursor: pointer;\n",
              "      display: none;\n",
              "      fill: #1967D2;\n",
              "      height: 32px;\n",
              "      padding: 0 0 0 0;\n",
              "      width: 32px;\n",
              "    }\n",
              "\n",
              "    .colab-df-convert:hover {\n",
              "      background-color: #E2EBFA;\n",
              "      box-shadow: 0px 1px 2px rgba(60, 64, 67, 0.3), 0px 1px 3px 1px rgba(60, 64, 67, 0.15);\n",
              "      fill: #174EA6;\n",
              "    }\n",
              "\n",
              "    [theme=dark] .colab-df-convert {\n",
              "      background-color: #3B4455;\n",
              "      fill: #D2E3FC;\n",
              "    }\n",
              "\n",
              "    [theme=dark] .colab-df-convert:hover {\n",
              "      background-color: #434B5C;\n",
              "      box-shadow: 0px 1px 3px 1px rgba(0, 0, 0, 0.15);\n",
              "      filter: drop-shadow(0px 1px 2px rgba(0, 0, 0, 0.3));\n",
              "      fill: #FFFFFF;\n",
              "    }\n",
              "  </style>\n",
              "\n",
              "      <script>\n",
              "        const buttonEl =\n",
              "          document.querySelector('#df-0cd98cfc-df8a-4c24-a545-904438153abe button.colab-df-convert');\n",
              "        buttonEl.style.display =\n",
              "          google.colab.kernel.accessAllowed ? 'block' : 'none';\n",
              "\n",
              "        async function convertToInteractive(key) {\n",
              "          const element = document.querySelector('#df-0cd98cfc-df8a-4c24-a545-904438153abe');\n",
              "          const dataTable =\n",
              "            await google.colab.kernel.invokeFunction('convertToInteractive',\n",
              "                                                     [key], {});\n",
              "          if (!dataTable) return;\n",
              "\n",
              "          const docLinkHtml = 'Like what you see? Visit the ' +\n",
              "            '<a target=\"_blank\" href=https://colab.research.google.com/notebooks/data_table.ipynb>data table notebook</a>'\n",
              "            + ' to learn more about interactive tables.';\n",
              "          element.innerHTML = '';\n",
              "          dataTable['output_type'] = 'display_data';\n",
              "          await google.colab.output.renderOutput(dataTable, element);\n",
              "          const docLink = document.createElement('div');\n",
              "          docLink.innerHTML = docLinkHtml;\n",
              "          element.appendChild(docLink);\n",
              "        }\n",
              "      </script>\n",
              "    </div>\n",
              "  </div>\n",
              "  "
            ],
            "text/plain": [
              "Empty DataFrame\n",
              "Columns: [flesch-kincaid, flesch-reading-ease, dale-chall, gunning-fog, bias]\n",
              "Index: []"
            ]
          },
          "metadata": {},
          "execution_count": 22
        }
      ],
      "source": [
        "df_readability_names = [\"flesch-kincaid\", \"flesch-reading-ease\", \"dale-chall\", \"gunning-fog\", \"bias\"]\n",
        "df_readability = pd.DataFrame(columns = df_readability_names)\n",
        "df_readability"
      ]
    },
    {
      "cell_type": "code",
      "execution_count": null,
      "metadata": {
        "colab": {
          "base_uri": "https://localhost:8080/",
          "height": 423
        },
        "outputId": "45c4f71c-6943-450d-ce0e-a95b36b6f07d",
        "id": "jArmSyWmg5mp"
      },
      "outputs": [
        {
          "output_type": "execute_result",
          "data": {
            "text/html": [
              "\n",
              "  <div id=\"df-661e710c-ee12-490f-b659-005984c1ac30\">\n",
              "    <div class=\"colab-df-container\">\n",
              "      <div>\n",
              "<style scoped>\n",
              "    .dataframe tbody tr th:only-of-type {\n",
              "        vertical-align: middle;\n",
              "    }\n",
              "\n",
              "    .dataframe tbody tr th {\n",
              "        vertical-align: top;\n",
              "    }\n",
              "\n",
              "    .dataframe thead th {\n",
              "        text-align: right;\n",
              "    }\n",
              "</style>\n",
              "<table border=\"1\" class=\"dataframe\">\n",
              "  <thead>\n",
              "    <tr style=\"text-align: right;\">\n",
              "      <th></th>\n",
              "      <th>flesch-kincaid</th>\n",
              "      <th>flesch-reading-ease</th>\n",
              "      <th>dale-chall</th>\n",
              "      <th>gunning-fog</th>\n",
              "      <th>bias</th>\n",
              "    </tr>\n",
              "  </thead>\n",
              "  <tbody>\n",
              "    <tr>\n",
              "      <th>0</th>\n",
              "      <td>1512.2</td>\n",
              "      <td>-3855.57</td>\n",
              "      <td>197.98</td>\n",
              "      <td>1550.56</td>\n",
              "      <td>left</td>\n",
              "    </tr>\n",
              "    <tr>\n",
              "      <th>1</th>\n",
              "      <td>548.9</td>\n",
              "      <td>-1343.10</td>\n",
              "      <td>77.07</td>\n",
              "      <td>564.00</td>\n",
              "      <td>left</td>\n",
              "    </tr>\n",
              "    <tr>\n",
              "      <th>2</th>\n",
              "      <td>13.5</td>\n",
              "      <td>28.84</td>\n",
              "      <td>10.98</td>\n",
              "      <td>9.15</td>\n",
              "      <td>left</td>\n",
              "    </tr>\n",
              "    <tr>\n",
              "      <th>3</th>\n",
              "      <td>1270.0</td>\n",
              "      <td>-3219.84</td>\n",
              "      <td>167.81</td>\n",
              "      <td>1302.82</td>\n",
              "      <td>left</td>\n",
              "    </tr>\n",
              "    <tr>\n",
              "      <th>4</th>\n",
              "      <td>906.5</td>\n",
              "      <td>-2279.27</td>\n",
              "      <td>120.80</td>\n",
              "      <td>928.82</td>\n",
              "      <td>left</td>\n",
              "    </tr>\n",
              "    <tr>\n",
              "      <th>...</th>\n",
              "      <td>...</td>\n",
              "      <td>...</td>\n",
              "      <td>...</td>\n",
              "      <td>...</td>\n",
              "      <td>...</td>\n",
              "    </tr>\n",
              "    <tr>\n",
              "      <th>11515</th>\n",
              "      <td>235.3</td>\n",
              "      <td>-532.46</td>\n",
              "      <td>37.26</td>\n",
              "      <td>242.30</td>\n",
              "      <td>right</td>\n",
              "    </tr>\n",
              "    <tr>\n",
              "      <th>11516</th>\n",
              "      <td>130.0</td>\n",
              "      <td>-258.41</td>\n",
              "      <td>24.91</td>\n",
              "      <td>134.80</td>\n",
              "      <td>right</td>\n",
              "    </tr>\n",
              "    <tr>\n",
              "      <th>11517</th>\n",
              "      <td>168.3</td>\n",
              "      <td>-352.46</td>\n",
              "      <td>28.51</td>\n",
              "      <td>173.22</td>\n",
              "      <td>right</td>\n",
              "    </tr>\n",
              "    <tr>\n",
              "      <th>11518</th>\n",
              "      <td>175.7</td>\n",
              "      <td>-377.16</td>\n",
              "      <td>29.95</td>\n",
              "      <td>180.51</td>\n",
              "      <td>right</td>\n",
              "    </tr>\n",
              "    <tr>\n",
              "      <th>11519</th>\n",
              "      <td>201.8</td>\n",
              "      <td>-439.75</td>\n",
              "      <td>33.29</td>\n",
              "      <td>208.86</td>\n",
              "      <td>right</td>\n",
              "    </tr>\n",
              "  </tbody>\n",
              "</table>\n",
              "<p>11520 rows × 5 columns</p>\n",
              "</div>\n",
              "      <button class=\"colab-df-convert\" onclick=\"convertToInteractive('df-661e710c-ee12-490f-b659-005984c1ac30')\"\n",
              "              title=\"Convert this dataframe to an interactive table.\"\n",
              "              style=\"display:none;\">\n",
              "        \n",
              "  <svg xmlns=\"http://www.w3.org/2000/svg\" height=\"24px\"viewBox=\"0 0 24 24\"\n",
              "       width=\"24px\">\n",
              "    <path d=\"M0 0h24v24H0V0z\" fill=\"none\"/>\n",
              "    <path d=\"M18.56 5.44l.94 2.06.94-2.06 2.06-.94-2.06-.94-.94-2.06-.94 2.06-2.06.94zm-11 1L8.5 8.5l.94-2.06 2.06-.94-2.06-.94L8.5 2.5l-.94 2.06-2.06.94zm10 10l.94 2.06.94-2.06 2.06-.94-2.06-.94-.94-2.06-.94 2.06-2.06.94z\"/><path d=\"M17.41 7.96l-1.37-1.37c-.4-.4-.92-.59-1.43-.59-.52 0-1.04.2-1.43.59L10.3 9.45l-7.72 7.72c-.78.78-.78 2.05 0 2.83L4 21.41c.39.39.9.59 1.41.59.51 0 1.02-.2 1.41-.59l7.78-7.78 2.81-2.81c.8-.78.8-2.07 0-2.86zM5.41 20L4 18.59l7.72-7.72 1.47 1.35L5.41 20z\"/>\n",
              "  </svg>\n",
              "      </button>\n",
              "      \n",
              "  <style>\n",
              "    .colab-df-container {\n",
              "      display:flex;\n",
              "      flex-wrap:wrap;\n",
              "      gap: 12px;\n",
              "    }\n",
              "\n",
              "    .colab-df-convert {\n",
              "      background-color: #E8F0FE;\n",
              "      border: none;\n",
              "      border-radius: 50%;\n",
              "      cursor: pointer;\n",
              "      display: none;\n",
              "      fill: #1967D2;\n",
              "      height: 32px;\n",
              "      padding: 0 0 0 0;\n",
              "      width: 32px;\n",
              "    }\n",
              "\n",
              "    .colab-df-convert:hover {\n",
              "      background-color: #E2EBFA;\n",
              "      box-shadow: 0px 1px 2px rgba(60, 64, 67, 0.3), 0px 1px 3px 1px rgba(60, 64, 67, 0.15);\n",
              "      fill: #174EA6;\n",
              "    }\n",
              "\n",
              "    [theme=dark] .colab-df-convert {\n",
              "      background-color: #3B4455;\n",
              "      fill: #D2E3FC;\n",
              "    }\n",
              "\n",
              "    [theme=dark] .colab-df-convert:hover {\n",
              "      background-color: #434B5C;\n",
              "      box-shadow: 0px 1px 3px 1px rgba(0, 0, 0, 0.15);\n",
              "      filter: drop-shadow(0px 1px 2px rgba(0, 0, 0, 0.3));\n",
              "      fill: #FFFFFF;\n",
              "    }\n",
              "  </style>\n",
              "\n",
              "      <script>\n",
              "        const buttonEl =\n",
              "          document.querySelector('#df-661e710c-ee12-490f-b659-005984c1ac30 button.colab-df-convert');\n",
              "        buttonEl.style.display =\n",
              "          google.colab.kernel.accessAllowed ? 'block' : 'none';\n",
              "\n",
              "        async function convertToInteractive(key) {\n",
              "          const element = document.querySelector('#df-661e710c-ee12-490f-b659-005984c1ac30');\n",
              "          const dataTable =\n",
              "            await google.colab.kernel.invokeFunction('convertToInteractive',\n",
              "                                                     [key], {});\n",
              "          if (!dataTable) return;\n",
              "\n",
              "          const docLinkHtml = 'Like what you see? Visit the ' +\n",
              "            '<a target=\"_blank\" href=https://colab.research.google.com/notebooks/data_table.ipynb>data table notebook</a>'\n",
              "            + ' to learn more about interactive tables.';\n",
              "          element.innerHTML = '';\n",
              "          dataTable['output_type'] = 'display_data';\n",
              "          await google.colab.output.renderOutput(dataTable, element);\n",
              "          const docLink = document.createElement('div');\n",
              "          docLink.innerHTML = docLinkHtml;\n",
              "          element.appendChild(docLink);\n",
              "        }\n",
              "      </script>\n",
              "    </div>\n",
              "  </div>\n",
              "  "
            ],
            "text/plain": [
              "       flesch-kincaid  flesch-reading-ease  dale-chall  gunning-fog   bias\n",
              "0              1512.2             -3855.57      197.98      1550.56   left\n",
              "1               548.9             -1343.10       77.07       564.00   left\n",
              "2                13.5                28.84       10.98         9.15   left\n",
              "3              1270.0             -3219.84      167.81      1302.82   left\n",
              "4               906.5             -2279.27      120.80       928.82   left\n",
              "...               ...                  ...         ...          ...    ...\n",
              "11515           235.3              -532.46       37.26       242.30  right\n",
              "11516           130.0              -258.41       24.91       134.80  right\n",
              "11517           168.3              -352.46       28.51       173.22  right\n",
              "11518           175.7              -377.16       29.95       180.51  right\n",
              "11519           201.8              -439.75       33.29       208.86  right\n",
              "\n",
              "[11520 rows x 5 columns]"
            ]
          },
          "metadata": {},
          "execution_count": 23
        }
      ],
      "source": [
        "import textstat\n",
        "\n",
        "for value in df_news_february.values:\n",
        "  bias = \"\"\n",
        "  if \"left\" in value[3]:\n",
        "    bias = \"left\"\n",
        "  else:\n",
        "    bias = \"right\"\n",
        "  content = preprocess(value[2])\n",
        "  flesch_kincaid = textstat.flesch_kincaid_grade(content)\n",
        "  flesch_reading = textstat.flesch_reading_ease(content)\n",
        "  dale_chall = textstat.dale_chall_readability_score(content)\n",
        "  gunning_fog = textstat.gunning_fog(content)\n",
        "  df_readability = df_readability.append({\"flesch-kincaid\": flesch_kincaid, \"flesch-reading-ease\": flesch_reading, \"dale-chall\": dale_chall, \"gunning-fog\": gunning_fog, \"bias\": bias}, ignore_index=True)\n",
        "df_readability"
      ]
    },
    {
      "cell_type": "code",
      "execution_count": null,
      "metadata": {
        "id": "TPNsYArGg5mq"
      },
      "outputs": [],
      "source": [
        "y = df_readability['bias']"
      ]
    },
    {
      "cell_type": "markdown",
      "metadata": {
        "id": "_Z1I2a8dhdh4"
      },
      "source": [
        "##### 1 feature"
      ]
    },
    {
      "cell_type": "markdown",
      "metadata": {
        "id": "gw5G3nSihdh4"
      },
      "source": [
        "###### Flesch-Kincaid"
      ]
    },
    {
      "cell_type": "code",
      "source": [
        "X_1 = df_readability.drop(['flesch-reading-ease', 'dale-chall', 'gunning-fog', 'bias'], axis=1)"
      ],
      "metadata": {
        "id": "FwRYJTOmhdh4"
      },
      "execution_count": null,
      "outputs": []
    },
    {
      "cell_type": "code",
      "execution_count": null,
      "metadata": {
        "colab": {
          "base_uri": "https://localhost:8080/"
        },
        "outputId": "37873dc0-4d78-4706-d0b0-cc2d1f079871",
        "id": "BN69zt6Ahdh4"
      },
      "outputs": [
        {
          "output_type": "stream",
          "name": "stdout",
          "text": [
            "  param_C param_gamma  mean_test_score\n",
            "0    0.01        auto         0.501736\n",
            "1    0.01       scale         0.518663\n",
            "2     0.1        auto         0.507899\n",
            "3     0.1       scale         0.519010\n",
            "4       1        auto         0.506771\n",
            "5       1       scale         0.517795\n",
            "6      10        auto         0.504340\n",
            "7      10       scale         0.519010\n",
            "8     100        auto         0.501128\n",
            "9     100       scale         0.518663\n"
          ]
        }
      ],
      "source": [
        "grid_search_cv_with_svm(X_1)"
      ]
    },
    {
      "cell_type": "code",
      "execution_count": null,
      "metadata": {
        "id": "gJ5_Wkvmhdh5"
      },
      "outputs": [],
      "source": [
        "# C = 0.01, gamma = scale"
      ]
    },
    {
      "cell_type": "code",
      "execution_count": null,
      "metadata": {
        "colab": {
          "base_uri": "https://localhost:8080/"
        },
        "outputId": "f3d9cc62-e380-4cd1-a00c-e2f6d95ac4a9",
        "id": "Zfpz86AQhdh5"
      },
      "outputs": [
        {
          "output_type": "stream",
          "name": "stdout",
          "text": [
            "              precision    recall  f1-score   support\n",
            "\n",
            "        left       0.54      0.22      0.31      5740\n",
            "       right       0.51      0.82      0.63      5780\n",
            "\n",
            "    accuracy                           0.52     11520\n",
            "   macro avg       0.53      0.52      0.47     11520\n",
            "weighted avg       0.53      0.52      0.47     11520\n",
            "\n"
          ]
        },
        {
          "output_type": "display_data",
          "data": {
            "image/png": "[encoded data removed]",
            "text/plain": [
              "<Figure size 504x360 with 2 Axes>"
            ]
          },
          "metadata": {}
        }
      ],
      "source": [
        "classification_with_svm(X_1, 'scale', 0.1, 10)"
      ]
    },
    {
      "cell_type": "markdown",
      "metadata": {
        "id": "pOWJlCMzhdh5"
      },
      "source": [
        "###### Flesch reading ease"
      ]
    },
    {
      "cell_type": "code",
      "source": [
        "X_2 = df_readability.drop(['flesch-kincaid', 'dale-chall', 'gunning-fog', 'bias'], axis=1)"
      ],
      "metadata": {
        "id": "aOWsycThhdh5"
      },
      "execution_count": null,
      "outputs": []
    },
    {
      "cell_type": "code",
      "source": [
        "grid_search_cv_with_svm(X_2)"
      ],
      "metadata": {
        "colab": {
          "base_uri": "https://localhost:8080/"
        },
        "outputId": "252df1e7-ff18-4dde-ee0c-2f3edaf31be4",
        "id": "tNnNHJlthdh5"
      },
      "execution_count": null,
      "outputs": [
        {
          "output_type": "stream",
          "name": "stdout",
          "text": [
            "  param_C param_gamma  mean_test_score\n",
            "0    0.01        auto         0.501736\n",
            "1    0.01       scale         0.517708\n",
            "2     0.1        auto         0.497135\n",
            "3     0.1       scale         0.519271\n",
            "4       1        auto         0.502257\n",
            "5       1       scale         0.519184\n",
            "6      10        auto         0.505382\n",
            "7      10       scale         0.519271\n",
            "8     100        auto         0.502865\n",
            "9     100       scale         0.520312\n"
          ]
        }
      ]
    },
    {
      "cell_type": "code",
      "execution_count": null,
      "metadata": {
        "id": "bZojdTXFhdh5"
      },
      "outputs": [],
      "source": [
        "# C = 0.01, gamma = scale"
      ]
    },
    {
      "cell_type": "code",
      "execution_count": null,
      "metadata": {
        "colab": {
          "base_uri": "https://localhost:8080/"
        },
        "outputId": "f583e1f9-c614-4d18-e4fb-fa07fe72957b",
        "id": "uUbQzgi6hdh5"
      },
      "outputs": [
        {
          "output_type": "stream",
          "name": "stdout",
          "text": [
            "              precision    recall  f1-score   support\n",
            "\n",
            "        left       0.55      0.20      0.29      5740\n",
            "       right       0.51      0.84      0.64      5780\n",
            "\n",
            "    accuracy                           0.52     11520\n",
            "   macro avg       0.53      0.52      0.47     11520\n",
            "weighted avg       0.53      0.52      0.47     11520\n",
            "\n"
          ]
        },
        {
          "output_type": "display_data",
          "data": {
            "image/png": "[encoded data removed]",
            "text/plain": [
              "<Figure size 504x360 with 2 Axes>"
            ]
          },
          "metadata": {}
        }
      ],
      "source": [
        "classification_with_svm(X_2, 'scale', 100, 10)"
      ]
    },
    {
      "cell_type": "markdown",
      "metadata": {
        "id": "KMekAcA3hdh5"
      },
      "source": [
        "###### Dale-Chall "
      ]
    },
    {
      "cell_type": "code",
      "source": [
        "X_3 = df_readability.drop(['flesch-kincaid', 'flesch-reading-ease', 'gunning-fog', 'bias'], axis=1)"
      ],
      "metadata": {
        "id": "ls9XiEjPhdh6"
      },
      "execution_count": null,
      "outputs": []
    },
    {
      "cell_type": "code",
      "execution_count": null,
      "metadata": {
        "colab": {
          "base_uri": "https://localhost:8080/"
        },
        "outputId": "76e109ad-5ee3-4356-bc6b-1ca6396c7d0e",
        "id": "PSzc6eHihdh6"
      },
      "outputs": [
        {
          "output_type": "stream",
          "name": "stdout",
          "text": [
            "  param_C param_gamma  mean_test_score\n",
            "0    0.01        auto         0.501736\n",
            "1    0.01       scale         0.517882\n",
            "2     0.1        auto         0.503472\n",
            "3     0.1       scale         0.519878\n",
            "4       1        auto         0.498177\n",
            "5       1       scale         0.519358\n",
            "6      10        auto         0.494097\n",
            "7      10       scale         0.519184\n",
            "8     100        auto         0.495573\n",
            "9     100       scale         0.520139\n"
          ]
        }
      ],
      "source": [
        "grid_search_cv_with_svm(X_3)"
      ]
    },
    {
      "cell_type": "code",
      "execution_count": null,
      "metadata": {
        "id": "wHYh4N5-hdh6"
      },
      "outputs": [],
      "source": [
        "# C = 0.01, gamma = scale"
      ]
    },
    {
      "cell_type": "code",
      "source": [
        "classification_with_svm(X_3, 'scale', 100, 10)"
      ],
      "metadata": {
        "colab": {
          "base_uri": "https://localhost:8080/"
        },
        "outputId": "559ee972-923a-4a6f-f620-3032d1c6875c",
        "id": "-eoBUywQhdh6"
      },
      "execution_count": null,
      "outputs": [
        {
          "output_type": "stream",
          "name": "stdout",
          "text": [
            "              precision    recall  f1-score   support\n",
            "\n",
            "        left       0.55      0.20      0.30      5740\n",
            "       right       0.51      0.83      0.64      5780\n",
            "\n",
            "    accuracy                           0.52     11520\n",
            "   macro avg       0.53      0.52      0.47     11520\n",
            "weighted avg       0.53      0.52      0.47     11520\n",
            "\n"
          ]
        },
        {
          "output_type": "display_data",
          "data": {
            "image/png": "[encoded data removed]",
            "text/plain": [
              "<Figure size 504x360 with 2 Axes>"
            ]
          },
          "metadata": {}
        }
      ]
    },
    {
      "cell_type": "markdown",
      "metadata": {
        "id": "coJoZ3Jehdh6"
      },
      "source": [
        "###### Gunning fog"
      ]
    },
    {
      "cell_type": "code",
      "source": [
        "X_4 = df_readability.drop(['flesch-kincaid', 'flesch-reading-ease', 'dale-chall', 'bias'], axis=1)"
      ],
      "metadata": {
        "id": "HGIfD1Ubhdh6"
      },
      "execution_count": null,
      "outputs": []
    },
    {
      "cell_type": "code",
      "execution_count": null,
      "metadata": {
        "colab": {
          "base_uri": "https://localhost:8080/"
        },
        "outputId": "8b37cc2a-c00f-473a-8dc7-31cc5f2e75e6",
        "id": "8vbpTDU6hdh6"
      },
      "outputs": [
        {
          "output_type": "stream",
          "name": "stdout",
          "text": [
            "  param_C param_gamma  mean_test_score\n",
            "0    0.01        auto         0.501736\n",
            "1    0.01       scale         0.518490\n",
            "2     0.1        auto         0.506250\n",
            "3     0.1       scale         0.518142\n",
            "4       1        auto         0.511719\n",
            "5       1       scale         0.518576\n",
            "6      10        auto         0.519965\n",
            "7      10       scale         0.519184\n",
            "8     100        auto         0.524392\n",
            "9     100       scale         0.518056\n"
          ]
        }
      ],
      "source": [
        "grid_search_cv_with_svm(X_4)"
      ]
    },
    {
      "cell_type": "code",
      "execution_count": null,
      "metadata": {
        "id": "h5Ha7FDjhdh7"
      },
      "outputs": [],
      "source": [
        "# C = 0.01, gamma = scale"
      ]
    },
    {
      "cell_type": "code",
      "source": [
        "classification_with_svm(X_4, 'auto', 100, 10)"
      ],
      "metadata": {
        "colab": {
          "base_uri": "https://localhost:8080/"
        },
        "outputId": "66cf25c2-c81d-4d93-8735-82c0c0c691c8",
        "id": "Gjcoi5nJhdh7"
      },
      "execution_count": null,
      "outputs": [
        {
          "output_type": "stream",
          "name": "stdout",
          "text": [
            "              precision    recall  f1-score   support\n",
            "\n",
            "        left       0.52      0.48      0.50      5740\n",
            "       right       0.52      0.56      0.54      5780\n",
            "\n",
            "    accuracy                           0.52     11520\n",
            "   macro avg       0.52      0.52      0.52     11520\n",
            "weighted avg       0.52      0.52      0.52     11520\n",
            "\n"
          ]
        },
        {
          "output_type": "display_data",
          "data": {
            "image/png": "[encoded data removed]",
            "text/plain": [
              "<Figure size 504x360 with 2 Axes>"
            ]
          },
          "metadata": {}
        }
      ]
    },
    {
      "cell_type": "markdown",
      "metadata": {
        "id": "M77vJGQdhdh7"
      },
      "source": [
        "##### 2 features"
      ]
    },
    {
      "cell_type": "markdown",
      "metadata": {
        "id": "gutLdo8_hdh7"
      },
      "source": [
        "###### Flesch-Kincaid + Flesch reading ease"
      ]
    },
    {
      "cell_type": "code",
      "source": [
        "X_12 = df_readability.drop(['dale-chall', 'gunning-fog', 'bias'], axis=1)"
      ],
      "metadata": {
        "id": "wcGpwsKrhdh7"
      },
      "execution_count": null,
      "outputs": []
    },
    {
      "cell_type": "code",
      "execution_count": null,
      "metadata": {
        "colab": {
          "base_uri": "https://localhost:8080/"
        },
        "outputId": "ff85c323-6873-46ad-e57a-2baa5e565622",
        "id": "2eKmodAGhdh7"
      },
      "outputs": [
        {
          "output_type": "stream",
          "name": "stdout",
          "text": [
            "  param_C param_gamma  mean_test_score\n",
            "0    0.01        auto         0.501736\n",
            "1    0.01       scale         0.518229\n",
            "2     0.1        auto         0.496788\n",
            "3     0.1       scale         0.519358\n",
            "4       1        auto         0.512413\n",
            "5       1       scale         0.518924\n",
            "6      10        auto         0.510243\n",
            "7      10       scale         0.516753\n",
            "8     100        auto         0.510156\n",
            "9     100       scale         0.514149\n"
          ]
        }
      ],
      "source": [
        "grid_search_cv_with_svm(X_12)"
      ]
    },
    {
      "cell_type": "code",
      "execution_count": null,
      "metadata": {
        "id": "8PMPOpIzhdh7"
      },
      "outputs": [],
      "source": [
        "# C = 0.01, gamma = scale"
      ]
    },
    {
      "cell_type": "code",
      "source": [
        "classification_with_svm(X_12, 'scale', 0.1, 10)"
      ],
      "metadata": {
        "colab": {
          "base_uri": "https://localhost:8080/",
          "height": 495
        },
        "outputId": "7be9be5c-f894-4f18-88ce-35324aeb2ba9",
        "id": "k5WLBIyihdh7"
      },
      "execution_count": null,
      "outputs": [
        {
          "output_type": "stream",
          "name": "stdout",
          "text": [
            "              precision    recall  f1-score   support\n",
            "\n",
            "        left       0.55      0.20      0.29      5740\n",
            "       right       0.51      0.84      0.64      5780\n",
            "\n",
            "    accuracy                           0.52     11520\n",
            "   macro avg       0.53      0.52      0.46     11520\n",
            "weighted avg       0.53      0.52      0.46     11520\n",
            "\n"
          ]
        },
        {
          "output_type": "display_data",
          "data": {
            "image/png": "[encoded data removed]",
            "text/plain": [
              "<Figure size 504x360 with 2 Axes>"
            ]
          },
          "metadata": {}
        }
      ]
    },
    {
      "cell_type": "markdown",
      "metadata": {
        "id": "qFB1WjkVhdh7"
      },
      "source": [
        "###### Flesch-Kincaid + Dale-Chall"
      ]
    },
    {
      "cell_type": "code",
      "source": [
        "X_13 = df_readability.drop(['flesch-reading-ease', 'gunning-fog', 'bias'], axis=1)"
      ],
      "metadata": {
        "id": "SZUIwi0mhdh8"
      },
      "execution_count": null,
      "outputs": []
    },
    {
      "cell_type": "code",
      "execution_count": null,
      "metadata": {
        "colab": {
          "base_uri": "https://localhost:8080/"
        },
        "outputId": "78d48a29-09c2-4e83-9776-fc846063bbea",
        "id": "LZJINh6Phdh8"
      },
      "outputs": [
        {
          "output_type": "stream",
          "name": "stdout",
          "text": [
            "  param_C param_gamma  mean_test_score\n",
            "0    0.01        auto         0.501736\n",
            "1    0.01       scale         0.518056\n",
            "2     0.1        auto         0.507552\n",
            "3     0.1       scale         0.518837\n",
            "4       1        auto         0.496267\n",
            "5       1       scale         0.517795\n",
            "6      10        auto         0.502778\n",
            "7      10       scale         0.518576\n",
            "8     100        auto         0.497656\n",
            "9     100       scale         0.518924\n"
          ]
        }
      ],
      "source": [
        "grid_search_cv_with_svm(X_13)"
      ]
    },
    {
      "cell_type": "code",
      "execution_count": null,
      "metadata": {
        "id": "mWRxzxQlhdh8"
      },
      "outputs": [],
      "source": [
        "# C = 0.01, gamma = scale"
      ]
    },
    {
      "cell_type": "code",
      "source": [
        "classification_with_svm(X_13, 'scale', 100, 10)"
      ],
      "metadata": {
        "colab": {
          "base_uri": "https://localhost:8080/"
        },
        "outputId": "3f26d1d1-3974-4507-eaa6-47368fc4f909",
        "id": "hX4I9gMmhdh8"
      },
      "execution_count": null,
      "outputs": [
        {
          "output_type": "stream",
          "name": "stdout",
          "text": [
            "              precision    recall  f1-score   support\n",
            "\n",
            "        left       0.55      0.20      0.29      5740\n",
            "       right       0.51      0.84      0.64      5780\n",
            "\n",
            "    accuracy                           0.52     11520\n",
            "   macro avg       0.53      0.52      0.46     11520\n",
            "weighted avg       0.53      0.52      0.46     11520\n",
            "\n"
          ]
        },
        {
          "output_type": "display_data",
          "data": {
            "image/png": "[encoded data removed]",
            "text/plain": [
              "<Figure size 504x360 with 2 Axes>"
            ]
          },
          "metadata": {
            "needs_background": "light"
          }
        }
      ]
    },
    {
      "cell_type": "markdown",
      "metadata": {
        "id": "ykqO0Kf8hdh8"
      },
      "source": [
        "###### Flesch-Kincaid + Gunning fog"
      ]
    },
    {
      "cell_type": "code",
      "source": [
        "X_14 = df_readability.drop(['flesch-reading-ease', 'dale-chall', 'bias'], axis=1)"
      ],
      "metadata": {
        "id": "svB15jHghdh8"
      },
      "execution_count": null,
      "outputs": []
    },
    {
      "cell_type": "code",
      "execution_count": null,
      "metadata": {
        "colab": {
          "base_uri": "https://localhost:8080/"
        },
        "outputId": "66802140-4cf9-43ae-eac1-f8a4a65914df",
        "id": "mtNM3UYEhdh8"
      },
      "outputs": [
        {
          "output_type": "stream",
          "name": "stdout",
          "text": [
            "  param_C param_gamma  mean_test_score\n",
            "0    0.01        auto         0.501736\n",
            "1    0.01       scale         0.518490\n",
            "2     0.1        auto         0.505903\n",
            "3     0.1       scale         0.518924\n",
            "4       1        auto         0.514410\n",
            "5       1       scale         0.518316\n",
            "6      10        auto         0.512587\n",
            "7      10       scale         0.518403\n",
            "8     100        auto         0.515365\n",
            "9     100       scale         0.518056\n"
          ]
        }
      ],
      "source": [
        "grid_search_cv_with_svm(X_14)"
      ]
    },
    {
      "cell_type": "code",
      "execution_count": null,
      "metadata": {
        "id": "5lqFxMdqhdh8"
      },
      "outputs": [],
      "source": [
        "# C = 0.01, gamma = scale"
      ]
    },
    {
      "cell_type": "code",
      "source": [
        "classification_with_svm(X_14, 'scale', 0.1, 10)"
      ],
      "metadata": {
        "colab": {
          "base_uri": "https://localhost:8080/",
          "height": 495
        },
        "outputId": "65bd1d89-1814-4a5c-ec28-f1f0c223936e",
        "id": "SrWWjrfkhdh8"
      },
      "execution_count": null,
      "outputs": [
        {
          "output_type": "stream",
          "name": "stdout",
          "text": [
            "              precision    recall  f1-score   support\n",
            "\n",
            "        left       0.54      0.22      0.31      5740\n",
            "       right       0.51      0.81      0.63      5780\n",
            "\n",
            "    accuracy                           0.52     11520\n",
            "   macro avg       0.53      0.52      0.47     11520\n",
            "weighted avg       0.53      0.52      0.47     11520\n",
            "\n"
          ]
        },
        {
          "output_type": "display_data",
          "data": {
            "image/png": "[encoded data removed]",
            "text/plain": [
              "<Figure size 504x360 with 2 Axes>"
            ]
          },
          "metadata": {}
        }
      ]
    },
    {
      "cell_type": "markdown",
      "metadata": {
        "id": "FJQw07E7hdh9"
      },
      "source": [
        "###### Flesch reading ease + Dale-Chall"
      ]
    },
    {
      "cell_type": "code",
      "source": [
        "X_23 = df_readability.drop(['flesch-kincaid', 'gunning-fog', 'bias'], axis=1)"
      ],
      "metadata": {
        "id": "EmloOIrihdh9"
      },
      "execution_count": null,
      "outputs": []
    },
    {
      "cell_type": "code",
      "execution_count": null,
      "metadata": {
        "colab": {
          "base_uri": "https://localhost:8080/"
        },
        "outputId": "cbc635ca-7131-449c-b2ee-4a9851750f88",
        "id": "GZWW9ztAhdh9"
      },
      "outputs": [
        {
          "output_type": "stream",
          "name": "stdout",
          "text": [
            "  param_C param_gamma  mean_test_score\n",
            "0    0.01        auto         0.501736\n",
            "1    0.01       scale         0.517795\n",
            "2     0.1        auto         0.495399\n",
            "3     0.1       scale         0.518837\n",
            "4       1        auto         0.509462\n",
            "5       1       scale         0.519358\n",
            "6      10        auto         0.510243\n",
            "7      10       scale         0.518229\n",
            "8     100        auto         0.507639\n",
            "9     100       scale         0.520399\n"
          ]
        }
      ],
      "source": [
        "grid_search_cv_with_svm(X_23)"
      ]
    },
    {
      "cell_type": "code",
      "execution_count": null,
      "metadata": {
        "id": "VAwAWni1hdh9"
      },
      "outputs": [],
      "source": [
        "# C = 0.01, gamma = scale"
      ]
    },
    {
      "cell_type": "code",
      "source": [
        "classification_with_svm(X_23, 'scale', 100, 10)"
      ],
      "metadata": {
        "colab": {
          "base_uri": "https://localhost:8080/"
        },
        "outputId": "ece26857-78a1-4997-aad9-43fab1ab5501",
        "id": "lrW9TZcehdh9"
      },
      "execution_count": null,
      "outputs": [
        {
          "output_type": "stream",
          "name": "stdout",
          "text": [
            "              precision    recall  f1-score   support\n",
            "\n",
            "        left       0.55      0.20      0.30      5740\n",
            "       right       0.51      0.84      0.64      5780\n",
            "\n",
            "    accuracy                           0.52     11520\n",
            "   macro avg       0.53      0.52      0.47     11520\n",
            "weighted avg       0.53      0.52      0.47     11520\n",
            "\n"
          ]
        },
        {
          "output_type": "display_data",
          "data": {
            "image/png": "[encoded data removed]",
            "text/plain": [
              "<Figure size 504x360 with 2 Axes>"
            ]
          },
          "metadata": {}
        }
      ]
    },
    {
      "cell_type": "markdown",
      "metadata": {
        "id": "VZSHFS2zhdh9"
      },
      "source": [
        "###### Flesch reading ease + Gunning fog"
      ]
    },
    {
      "cell_type": "code",
      "source": [
        "X_24 = df_readability.drop(['flesch-kincaid', 'dale-chall', 'bias'], axis=1)"
      ],
      "metadata": {
        "id": "CJDblhgqhdh9"
      },
      "execution_count": null,
      "outputs": []
    },
    {
      "cell_type": "code",
      "execution_count": null,
      "metadata": {
        "colab": {
          "base_uri": "https://localhost:8080/"
        },
        "outputId": "cb1ab151-2de8-4ebd-8c98-a115124a0ea8",
        "id": "8NVAab_7hdh9"
      },
      "outputs": [
        {
          "output_type": "stream",
          "name": "stdout",
          "text": [
            "  param_C param_gamma  mean_test_score\n",
            "0    0.01        auto         0.501736\n",
            "1    0.01       scale         0.518142\n",
            "2     0.1        auto         0.499566\n",
            "3     0.1       scale         0.519010\n",
            "4       1        auto         0.507552\n",
            "5       1       scale         0.519358\n",
            "6      10        auto         0.502344\n",
            "7      10       scale         0.516580\n",
            "8     100        auto         0.505642\n",
            "9     100       scale         0.516059\n"
          ]
        }
      ],
      "source": [
        "grid_search_cv_with_svm(X_24)"
      ]
    },
    {
      "cell_type": "code",
      "execution_count": null,
      "metadata": {
        "id": "GGIpF5nNhdh-"
      },
      "outputs": [],
      "source": [
        "# C = 0.01, gamma = scale"
      ]
    },
    {
      "cell_type": "code",
      "source": [
        "classification_with_svm(X_24, 'scale', 1, 10)"
      ],
      "metadata": {
        "colab": {
          "base_uri": "https://localhost:8080/"
        },
        "outputId": "60830d67-03fa-4a1a-e01e-c60487b7e1c1",
        "id": "Ar3H3pdWhdh-"
      },
      "execution_count": null,
      "outputs": [
        {
          "output_type": "stream",
          "name": "stdout",
          "text": [
            "              precision    recall  f1-score   support\n",
            "\n",
            "        left       0.54      0.22      0.31      5740\n",
            "       right       0.51      0.82      0.63      5780\n",
            "\n",
            "    accuracy                           0.52     11520\n",
            "   macro avg       0.53      0.52      0.47     11520\n",
            "weighted avg       0.53      0.52      0.47     11520\n",
            "\n"
          ]
        },
        {
          "output_type": "display_data",
          "data": {
            "image/png": "[encoded data removed]",
            "text/plain": [
              "<Figure size 504x360 with 2 Axes>"
            ]
          },
          "metadata": {}
        }
      ]
    },
    {
      "cell_type": "markdown",
      "metadata": {
        "id": "-eIZbEFBhdh-"
      },
      "source": [
        "###### Dale-Chall + Gunning fog"
      ]
    },
    {
      "cell_type": "code",
      "source": [
        "X_34 = df_readability.drop(['flesch-kincaid', 'flesch-reading-ease', 'bias'], axis=1)"
      ],
      "metadata": {
        "id": "rb-cpAqShdh-"
      },
      "execution_count": null,
      "outputs": []
    },
    {
      "cell_type": "code",
      "execution_count": null,
      "metadata": {
        "colab": {
          "base_uri": "https://localhost:8080/"
        },
        "outputId": "0f54acb6-52ce-44ed-b96c-f49ea066f6a9",
        "id": "XltvfZs3hdh-"
      },
      "outputs": [
        {
          "output_type": "stream",
          "name": "stdout",
          "text": [
            "  param_C param_gamma  mean_test_score\n",
            "0    0.01        auto         0.501736\n",
            "1    0.01       scale         0.517795\n",
            "2     0.1        auto         0.507378\n",
            "3     0.1       scale         0.518056\n",
            "4       1        auto         0.511545\n",
            "5       1       scale         0.517795\n",
            "6      10        auto         0.511719\n",
            "7      10       scale         0.516493\n",
            "8     100        auto         0.514844\n",
            "9     100       scale         0.516667\n"
          ]
        }
      ],
      "source": [
        "grid_search_cv_with_svm(X_34)"
      ]
    },
    {
      "cell_type": "code",
      "source": [
        "classification_with_svm(X_34, 'scale', 0.1, 10)"
      ],
      "metadata": {
        "colab": {
          "base_uri": "https://localhost:8080/"
        },
        "outputId": "e6d58115-3863-4270-a7f5-270b9fc769bf",
        "id": "TtAsFnoOhdh-"
      },
      "execution_count": null,
      "outputs": [
        {
          "output_type": "stream",
          "name": "stdout",
          "text": [
            "              precision    recall  f1-score   support\n",
            "\n",
            "        left       0.54      0.22      0.32      5740\n",
            "       right       0.51      0.81      0.63      5780\n",
            "\n",
            "    accuracy                           0.52     11520\n",
            "   macro avg       0.53      0.52      0.47     11520\n",
            "weighted avg       0.53      0.52      0.47     11520\n",
            "\n"
          ]
        },
        {
          "output_type": "display_data",
          "data": {
            "image/png": "[encoded data removed]",
            "text/plain": [
              "<Figure size 504x360 with 2 Axes>"
            ]
          },
          "metadata": {}
        }
      ]
    },
    {
      "cell_type": "markdown",
      "metadata": {
        "id": "Bszo0FKBhdh-"
      },
      "source": [
        "##### 3 features"
      ]
    },
    {
      "cell_type": "markdown",
      "metadata": {
        "id": "V8UNP0IIhdh-"
      },
      "source": [
        "###### Flesch-Kincaid + Flesch reading ease + Dale-Chall\n",
        " "
      ]
    },
    {
      "cell_type": "code",
      "source": [
        "X_123 = df_readability.drop(['gunning-fog', 'bias'], axis=1)"
      ],
      "metadata": {
        "id": "IpfpC5N0hdh-"
      },
      "execution_count": null,
      "outputs": []
    },
    {
      "cell_type": "code",
      "execution_count": null,
      "metadata": {
        "colab": {
          "base_uri": "https://localhost:8080/"
        },
        "outputId": "740cc04a-3642-4954-97f4-d873265b9e2d",
        "id": "gMyXz9U9hdh_"
      },
      "outputs": [
        {
          "output_type": "stream",
          "name": "stdout",
          "text": [
            "  param_C param_gamma  mean_test_score\n",
            "0    0.01        auto         0.501736\n",
            "1    0.01       scale         0.518142\n",
            "2     0.1        auto         0.496875\n",
            "3     0.1       scale         0.519531\n",
            "4       1        auto         0.516667\n",
            "5       1       scale         0.519184\n",
            "6      10        auto         0.509115\n",
            "7      10       scale         0.516753\n",
            "8     100        auto         0.504514\n",
            "9     100       scale         0.514149\n"
          ]
        }
      ],
      "source": [
        "grid_search_cv_with_svm(X_123)"
      ]
    },
    {
      "cell_type": "code",
      "source": [
        "classification_with_svm(X_123, 'scale', 0.1, 10)"
      ],
      "metadata": {
        "colab": {
          "base_uri": "https://localhost:8080/"
        },
        "outputId": "04c06333-dade-46c3-dd30-360b94ea8d63",
        "id": "U-YNCraBhdh_"
      },
      "execution_count": null,
      "outputs": [
        {
          "output_type": "stream",
          "name": "stdout",
          "text": [
            "              precision    recall  f1-score   support\n",
            "\n",
            "        left       0.55      0.20      0.29      5740\n",
            "       right       0.51      0.84      0.64      5780\n",
            "\n",
            "    accuracy                           0.52     11520\n",
            "   macro avg       0.53      0.52      0.46     11520\n",
            "weighted avg       0.53      0.52      0.46     11520\n",
            "\n"
          ]
        },
        {
          "output_type": "display_data",
          "data": {
            "image/png": "[encoded data removed]",
            "text/plain": [
              "<Figure size 504x360 with 2 Axes>"
            ]
          },
          "metadata": {}
        }
      ]
    },
    {
      "cell_type": "markdown",
      "metadata": {
        "id": "EL9_qUWfhdh_"
      },
      "source": [
        "###### Flesch-Kincaid + Flesch reading ease + Gunning fog"
      ]
    },
    {
      "cell_type": "code",
      "source": [
        "X_124 = df_readability.drop(['dale-chall', 'bias'], axis=1)"
      ],
      "metadata": {
        "id": "Bl5yeatkhdh_"
      },
      "execution_count": null,
      "outputs": []
    },
    {
      "cell_type": "code",
      "execution_count": null,
      "metadata": {
        "colab": {
          "base_uri": "https://localhost:8080/"
        },
        "outputId": "f6b256aa-ec59-47c7-d5ed-c98e06800db4",
        "id": "n9di8xkohdh_"
      },
      "outputs": [
        {
          "output_type": "stream",
          "name": "stdout",
          "text": [
            "  param_C param_gamma  mean_test_score\n",
            "0    0.01        auto         0.501736\n",
            "1    0.01       scale         0.518229\n",
            "2     0.1        auto         0.500955\n",
            "3     0.1       scale         0.519271\n",
            "4       1        auto         0.509635\n",
            "5       1       scale         0.519010\n",
            "6      10        auto         0.508333\n",
            "7      10       scale         0.517014\n",
            "8     100        auto         0.512066\n",
            "9     100       scale         0.514757\n"
          ]
        }
      ],
      "source": [
        "grid_search_cv_with_svm(X_124)"
      ]
    },
    {
      "cell_type": "code",
      "execution_count": null,
      "metadata": {
        "id": "cez9h-TFhdh_"
      },
      "outputs": [],
      "source": [
        "# C = 0.01, gamma = scale"
      ]
    },
    {
      "cell_type": "code",
      "source": [
        "classification_with_svm(X_124, 'scale', 0.1, 10)"
      ],
      "metadata": {
        "colab": {
          "base_uri": "https://localhost:8080/"
        },
        "outputId": "e8931835-4067-45f8-8576-641c63a2a945",
        "id": "zLpVPLTUhdh_"
      },
      "execution_count": null,
      "outputs": [
        {
          "output_type": "stream",
          "name": "stdout",
          "text": [
            "              precision    recall  f1-score   support\n",
            "\n",
            "        left       0.55      0.20      0.29      5740\n",
            "       right       0.51      0.83      0.64      5780\n",
            "\n",
            "    accuracy                           0.52     11520\n",
            "   macro avg       0.53      0.52      0.46     11520\n",
            "weighted avg       0.53      0.52      0.47     11520\n",
            "\n"
          ]
        },
        {
          "output_type": "display_data",
          "data": {
            "image/png": "[encoded data removed]",
            "text/plain": [
              "<Figure size 504x360 with 2 Axes>"
            ]
          },
          "metadata": {}
        }
      ]
    },
    {
      "cell_type": "markdown",
      "metadata": {
        "id": "cpO8S_KQhdh_"
      },
      "source": [
        "###### Flesch-Kincaid  + Dale-Chall + Gunning fog"
      ]
    },
    {
      "cell_type": "code",
      "source": [
        "X_134 = df_readability.drop(['flesch-reading-ease', 'bias'], axis=1)"
      ],
      "metadata": {
        "id": "zWyZINubhdiA"
      },
      "execution_count": null,
      "outputs": []
    },
    {
      "cell_type": "code",
      "execution_count": null,
      "metadata": {
        "colab": {
          "base_uri": "https://localhost:8080/"
        },
        "outputId": "0d5c6c71-3581-48db-e1c1-52a4af3a39f0",
        "id": "calCPcEPhdiA"
      },
      "outputs": [
        {
          "output_type": "stream",
          "name": "stdout",
          "text": [
            "  param_C param_gamma  mean_test_score\n",
            "0    0.01        auto         0.501736\n",
            "1    0.01       scale         0.517882\n",
            "2     0.1        auto         0.502865\n",
            "3     0.1       scale         0.518576\n",
            "4       1        auto         0.514583\n",
            "5       1       scale         0.517795\n",
            "6      10        auto         0.519358\n",
            "7      10       scale         0.517101\n",
            "8     100        auto         0.514410\n",
            "9     100       scale         0.516840\n"
          ]
        }
      ],
      "source": [
        "grid_search_cv_with_svm(X_134)"
      ]
    },
    {
      "cell_type": "code",
      "execution_count": null,
      "metadata": {
        "id": "U_OJnBNghdiA"
      },
      "outputs": [],
      "source": [
        "# C = 0.01, gamma = scale"
      ]
    },
    {
      "cell_type": "code",
      "source": [
        "classification_with_svm(X_134, 'auto', 10, 10)"
      ],
      "metadata": {
        "colab": {
          "base_uri": "https://localhost:8080/"
        },
        "outputId": "6d6fecc2-955e-4948-d308-af456fb94a81",
        "id": "uZ5BEeKthdiA"
      },
      "execution_count": null,
      "outputs": [
        {
          "output_type": "stream",
          "name": "stdout",
          "text": [
            "              precision    recall  f1-score   support\n",
            "\n",
            "        left       0.52      0.52      0.52      5740\n",
            "       right       0.52      0.52      0.52      5780\n",
            "\n",
            "    accuracy                           0.52     11520\n",
            "   macro avg       0.52      0.52      0.52     11520\n",
            "weighted avg       0.52      0.52      0.52     11520\n",
            "\n"
          ]
        },
        {
          "output_type": "display_data",
          "data": {
            "image/png": "[encoded data removed]",
            "text/plain": [
              "<Figure size 504x360 with 2 Axes>"
            ]
          },
          "metadata": {}
        }
      ]
    },
    {
      "cell_type": "markdown",
      "metadata": {
        "id": "IbgUmvkOhdiA"
      },
      "source": [
        "###### Flesch reading ease + Dale-Chall + Gunning fog"
      ]
    },
    {
      "cell_type": "code",
      "source": [
        "X_234 = df_readability.drop(['flesch-kincaid', 'bias'], axis=1)"
      ],
      "metadata": {
        "id": "WtxvQ-E7hdiA"
      },
      "execution_count": null,
      "outputs": []
    },
    {
      "cell_type": "code",
      "execution_count": null,
      "metadata": {
        "colab": {
          "base_uri": "https://localhost:8080/"
        },
        "outputId": "e5730a71-3b57-4833-fc7e-6fd7c6c9e208",
        "id": "f1IJ3c9bhdiA"
      },
      "outputs": [
        {
          "output_type": "stream",
          "name": "stdout",
          "text": [
            "  param_C param_gamma  mean_test_score\n",
            "0    0.01        auto         0.501736\n",
            "1    0.01       scale         0.518229\n",
            "2     0.1        auto         0.498611\n",
            "3     0.1       scale         0.518837\n",
            "4       1        auto         0.505208\n",
            "5       1       scale         0.519444\n",
            "6      10        auto         0.504427\n",
            "7      10       scale         0.516406\n",
            "8     100        auto         0.499306\n",
            "9     100       scale         0.515451\n"
          ]
        }
      ],
      "source": [
        "grid_search_cv_with_svm(X_234)"
      ]
    },
    {
      "cell_type": "code",
      "execution_count": null,
      "metadata": {
        "id": "XuhXRxSghdiA"
      },
      "outputs": [],
      "source": [
        "# C = 0.01, gamma = scale"
      ]
    },
    {
      "cell_type": "code",
      "source": [
        "classification_with_svm(X_234, 'scale', 1, 10)"
      ],
      "metadata": {
        "colab": {
          "base_uri": "https://localhost:8080/",
          "height": 495
        },
        "outputId": "843347ed-c2c1-4e5a-e607-1ebf54a3fb29",
        "id": "CgGg1hSUhdiB"
      },
      "execution_count": null,
      "outputs": [
        {
          "output_type": "stream",
          "name": "stdout",
          "text": [
            "              precision    recall  f1-score   support\n",
            "\n",
            "        left       0.54      0.22      0.31      5740\n",
            "       right       0.51      0.82      0.63      5780\n",
            "\n",
            "    accuracy                           0.52     11520\n",
            "   macro avg       0.53      0.52      0.47     11520\n",
            "weighted avg       0.53      0.52      0.47     11520\n",
            "\n"
          ]
        },
        {
          "output_type": "display_data",
          "data": {
            "image/png": "[encoded data removed]",
            "text/plain": [
              "<Figure size 504x360 with 2 Axes>"
            ]
          },
          "metadata": {}
        }
      ]
    },
    {
      "cell_type": "markdown",
      "metadata": {
        "id": "yF3jg9zWhdiB"
      },
      "source": [
        "##### 4 features"
      ]
    },
    {
      "cell_type": "code",
      "source": [
        "X_1234 = df_readability.drop(['bias'], axis=1)"
      ],
      "metadata": {
        "id": "EVov68tbhdiB"
      },
      "execution_count": null,
      "outputs": []
    },
    {
      "cell_type": "code",
      "execution_count": null,
      "metadata": {
        "colab": {
          "base_uri": "https://localhost:8080/"
        },
        "outputId": "f502ee48-d19e-4aa8-d519-7e6cbb592c88",
        "id": "TBO_yafuhdiB"
      },
      "outputs": [
        {
          "output_type": "stream",
          "name": "stdout",
          "text": [
            "  param_C param_gamma  mean_test_score\n",
            "0    0.01        auto         0.501736\n",
            "1    0.01       scale         0.518229\n",
            "2     0.1        auto         0.500781\n",
            "3     0.1       scale         0.519531\n",
            "4       1        auto         0.506597\n",
            "5       1       scale         0.519184\n",
            "6      10        auto         0.504774\n",
            "7      10       scale         0.517014\n",
            "8     100        auto         0.503472\n",
            "9     100       scale         0.513976\n"
          ]
        }
      ],
      "source": [
        "grid_search_cv_with_svm(X_1234)"
      ]
    },
    {
      "cell_type": "code",
      "execution_count": null,
      "metadata": {
        "id": "UKmloE7MhdiB"
      },
      "outputs": [],
      "source": [
        "# C = 0.01, gamma = scale"
      ]
    },
    {
      "cell_type": "code",
      "source": [
        "classification_with_svm(X_1234, 'scale', 0.1, 10)"
      ],
      "metadata": {
        "colab": {
          "base_uri": "https://localhost:8080/"
        },
        "outputId": "f8cfc69d-fbb5-4c86-8d83-4e4ebf3502f0",
        "id": "HLKV4SVxhdiB"
      },
      "execution_count": null,
      "outputs": [
        {
          "output_type": "stream",
          "name": "stdout",
          "text": [
            "              precision    recall  f1-score   support\n",
            "\n",
            "        left       0.55      0.20      0.29      5740\n",
            "       right       0.51      0.84      0.64      5780\n",
            "\n",
            "    accuracy                           0.52     11520\n",
            "   macro avg       0.53      0.52      0.47     11520\n",
            "weighted avg       0.53      0.52      0.47     11520\n",
            "\n"
          ]
        },
        {
          "output_type": "display_data",
          "data": {
            "image/png": "[encoded data removed]",
            "text/plain": [
              "<Figure size 504x360 with 2 Axes>"
            ]
          },
          "metadata": {}
        }
      ]
    },
    {
      "cell_type": "markdown",
      "metadata": {
        "id": "hWFDCeeYrT9m"
      },
      "source": [
        "### 5. Information Theory Approach to detect media bias"
      ]
    },
    {
      "cell_type": "markdown",
      "metadata": {
        "id": "j-uWFpL_nDu7"
      },
      "source": [
        "#### Testes News July"
      ]
    },
    {
      "cell_type": "markdown",
      "metadata": {
        "id": "J0WS6_ZJ_LFj"
      },
      "source": [
        "##### 5.1.3.1. Computar importância de todos os termos e descartar os de menor frequência"
      ]
    },
    {
      "cell_type": "code",
      "execution_count": null,
      "metadata": {
        "id": "MLWMqMKMnDu7"
      },
      "outputs": [],
      "source": [
        "corpus_news_aggregator_left = \"\"\n",
        "corpus_news_aggregator_right = \"\"\n",
        "\n",
        "for index, row in df_news_july.iterrows():\n",
        "    text = row['Content']\n",
        "    if 'left' in row['Bias']:\n",
        "        corpus_news_aggregator_left += preprocess(text)\n",
        "    else: \n",
        "        corpus_news_aggregator_right += preprocess(text)"
      ]
    },
    {
      "cell_type": "code",
      "execution_count": null,
      "metadata": {
        "id": "Cb8X7szYnDu7"
      },
      "outputs": [],
      "source": [
        "bag_of_words_news_aggregator_left = corpus_news_aggregator_left.split(' ')"
      ]
    },
    {
      "cell_type": "code",
      "execution_count": null,
      "metadata": {
        "id": "-9X5bWoxnDu7"
      },
      "outputs": [],
      "source": [
        "bag_of_words_news_aggregator_right = corpus_news_aggregator_right.split(' ')"
      ]
    },
    {
      "cell_type": "code",
      "execution_count": null,
      "metadata": {
        "id": "Im6vrztfnDu7"
      },
      "outputs": [],
      "source": [
        "bag_of_words = set(bag_of_words_news_aggregator_left).union(set(bag_of_words_news_aggregator_right))"
      ]
    },
    {
      "cell_type": "code",
      "execution_count": null,
      "metadata": {
        "id": "hh19YHEgnDu8"
      },
      "outputs": [],
      "source": [
        "number_of_words_left = dict.fromkeys(bag_of_words, 0)\n",
        "for word in bag_of_words_news_aggregator_left:\n",
        "    number_of_words_left[word] += 1\n",
        "df_left = pd.DataFrame(list(number_of_words_left.items()),columns = ['word','occ-left'])\n",
        "\n",
        "number_of_words_right = dict.fromkeys(bag_of_words, 0)\n",
        "for word in bag_of_words_news_aggregator_right:\n",
        "    number_of_words_right[word] += 1\n",
        "df_right = pd.DataFrame(list(number_of_words_right.items()),columns = ['word','occ-right'])\n",
        "\n",
        "df_words = pd.merge(df_left, df_right, on='word')\n",
        "df_words"
      ]
    },
    {
      "cell_type": "code",
      "execution_count": null,
      "metadata": {
        "id": "Q1z87ZC9ANAV"
      },
      "outputs": [],
      "source": [
        "index = df_words[ df_words['occ-left'] + df_words['occ-right'] < 10 ].index\n",
        "df_words.drop(index, inplace = True)\n",
        "df_words"
      ]
    },
    {
      "cell_type": "markdown",
      "metadata": {
        "id": "xoI0nc5g_blF"
      },
      "source": [
        "##### 5.1.3.2. Construção da função de probabilidade do termo t sobre as classes"
      ]
    },
    {
      "cell_type": "code",
      "execution_count": null,
      "metadata": {
        "id": "XF4XzeXOnDu8"
      },
      "outputs": [],
      "source": [
        "pd.options.mode.chained_assignment = None  # default='warn'\n",
        "\n",
        "df_words['perc-left'] = 0.0\n",
        "df_words['perc-right'] = 0.0\n",
        "\n",
        "for i in df_words.index:\n",
        "  total = df_words['occ-left'][i] + df_words['occ-right'][i]\n",
        "  df_words['perc-left'][i] = round(float(df_words['occ-left'][i] / total), 3)\n",
        "  df_words['perc-right'][i] = round(float(df_words['occ-right'][i] / total), 3)\n",
        "\n",
        "df_words"
      ]
    },
    {
      "cell_type": "markdown",
      "metadata": {
        "id": "5TeRPidr_ky-"
      },
      "source": [
        "##### 5.1.3.3. Calcular a entropia de cada termo"
      ]
    },
    {
      "cell_type": "code",
      "execution_count": null,
      "metadata": {
        "id": "BvGlwtmr9NOo"
      },
      "outputs": [],
      "source": [
        "df_words['shannon-entropy'] = 0.0\n",
        "df_words"
      ]
    },
    {
      "cell_type": "code",
      "execution_count": null,
      "metadata": {
        "id": "zjKSI__C6ueW"
      },
      "outputs": [],
      "source": [
        "import numpy\n",
        "import sys\n",
        "numpy.seterr(divide = 'warn') \n",
        "\n",
        "def calculate_shannon_entropy(probs):\n",
        "  sum = 0.0\n",
        "  for prob in probs:\n",
        "    if prob != 0:\n",
        "      sum -= prob * numpy.log(prob)\n",
        "  return sum / numpy.log(2)"
      ]
    },
    {
      "cell_type": "code",
      "execution_count": null,
      "metadata": {
        "id": "E4gxETE08eDG"
      },
      "outputs": [],
      "source": [
        "df_words['shannon-entropy'] = 0.0\n",
        "\n",
        "for i in df_words.index:\n",
        "  shannon_entropy = round(calculate_shannon_entropy([df_words['perc-left'][i], df_words['perc-right'][i]]), 3)\n",
        "  df_words['shannon-entropy'][i] = shannon_entropy\n",
        "\n",
        "df_words"
      ]
    },
    {
      "cell_type": "code",
      "execution_count": null,
      "metadata": {
        "id": "Pavq2W_5CIYj"
      },
      "outputs": [],
      "source": [
        "df_trump = df_words.loc[df_words['word'] == 'trump']\n",
        "df_trump"
      ]
    },
    {
      "cell_type": "code",
      "execution_count": null,
      "metadata": {
        "id": "nuAx0DJwCLC8"
      },
      "outputs": [],
      "source": [
        "df_soros = df_words.loc[df_words['word'] == 'soros']\n",
        "df_soros"
      ]
    },
    {
      "cell_type": "markdown",
      "metadata": {
        "id": "cu32GSsJC5A4"
      },
      "source": [
        "##### 5.1.3.4. Selecionar vocabulário de referência"
      ]
    },
    {
      "cell_type": "code",
      "execution_count": null,
      "metadata": {
        "id": "wpZZuyCfDF_i"
      },
      "outputs": [],
      "source": [
        "df_reference_vocabulary = df_words.nsmallest(10000, ['shannon-entropy'])\n",
        "df_reference_vocabulary"
      ]
    },
    {
      "cell_type": "markdown",
      "metadata": {
        "id": "dYP3-t_1ESeY"
      },
      "source": [
        "##### 5.1.4 Modelagem da função de probabilidade de todos os termos t ∈ VR"
      ]
    },
    {
      "cell_type": "code",
      "execution_count": null,
      "metadata": {
        "id": "-xUESTqpHLvx"
      },
      "outputs": [],
      "source": [
        "df_news_july"
      ]
    },
    {
      "cell_type": "code",
      "execution_count": null,
      "metadata": {
        "id": "q3kwan7aHa3q"
      },
      "outputs": [],
      "source": [
        "df_portals_content_names = [\"Source\", \"Content\", \"Bias\"]\n",
        "df_portals_content = pd.DataFrame(columns = df_portals_content_names)\n",
        "df_portals_content"
      ]
    },
    {
      "cell_type": "code",
      "execution_count": null,
      "metadata": {
        "id": "ovcTyoTaEehM"
      },
      "outputs": [],
      "source": [
        "last_source = \"berkeleyside\"\n",
        "df_portals_content = df_portals_content.append({'Source': last_source, 'Content': \"\", \"Bias\": \"left\"}, ignore_index=True)\n",
        "\n",
        "for index, row in df_news_july.iterrows():\n",
        "  source = row['Source']\n",
        "  bias = \"\"\n",
        "  if \"left\" in row['Bias']:\n",
        "    bias = \"left\"\n",
        "  else:\n",
        "    bias = \"right\"\n",
        "  if source != last_source:\n",
        "    df_portals_content = df_portals_content.append({'Source': source, 'Content': \"\", \"Bias\": bias}, ignore_index=True)\n",
        "    last_source = source\n",
        "\n",
        "df_portals_content"
      ]
    },
    {
      "cell_type": "code",
      "execution_count": null,
      "metadata": {
        "id": "uU9YyNCXIj8O"
      },
      "outputs": [],
      "source": [
        "for index, row in df_portals_content.iterrows():\n",
        "  source = row['Source']\n",
        "  content = \"\"\n",
        "  rows_1 = df_news_july[df_news_july['Source'] == source]\n",
        "  for index_1, row_1 in rows_1.iterrows():\n",
        "    content += preprocess(row_1['Content'])\n",
        "  df_portals_content.at[index,'Content'] = content"
      ]
    },
    {
      "cell_type": "code",
      "execution_count": null,
      "metadata": {
        "id": "IFVwMkmYKUkR"
      },
      "outputs": [],
      "source": [
        "df_portals_content"
      ]
    },
    {
      "cell_type": "code",
      "execution_count": null,
      "metadata": {
        "id": "6wOs8DGXNjfY"
      },
      "outputs": [],
      "source": [
        "df_portals_names = [\"Source\", \"Bias\"]\n",
        "df_portals = pd.DataFrame(columns = df_portals_names)\n",
        "df_portals"
      ]
    },
    {
      "cell_type": "code",
      "execution_count": null,
      "metadata": {
        "id": "IDFgezHfNt8y"
      },
      "outputs": [],
      "source": [
        "from collections import Counter\n",
        "\n",
        "for index, row in df_portals_content.iterrows():\n",
        "  df_portals.at[index, 'Source'] = row['Source']\n",
        "  bias = \"\"\n",
        "  if \"left\" in row['Bias']:\n",
        "    bias = \"left\"\n",
        "  else:\n",
        "    bias = \"right\"\n",
        "  df_portals.at[index, 'Bias'] = bias\n",
        "  portal_content = row['Content']\n",
        "  for index_1, row_1 in df_reference_vocabulary.iterrows():\n",
        "    word = row_1['word']\n",
        "    if row['Source'] == \"berkeleyside\":\n",
        "      df_portals[word] = 0.2\n",
        "    #counter = Counter(portal_content)\n",
        "    frequency = portal_content.count(word)\n",
        "    df_portals.at[index, word] = frequency"
      ]
    },
    {
      "cell_type": "code",
      "execution_count": null,
      "metadata": {
        "id": "a3xl_h50XgpA"
      },
      "outputs": [],
      "source": [
        "df_portals"
      ]
    },
    {
      "cell_type": "code",
      "execution_count": null,
      "metadata": {
        "id": "qbQGnbRkYgyO"
      },
      "outputs": [],
      "source": [
        "for index, row in df_portals.iterrows():\n",
        "  sum_row = row[2:].sum()\n",
        "  for name, value in row.iteritems():\n",
        "    if type(value) == float:\n",
        "      df_portals.at[index, name] = value / sum_row\n",
        "\n",
        "df_portals"
      ]
    },
    {
      "cell_type": "markdown",
      "metadata": {
        "id": "msLMSPeuEZ-j"
      },
      "source": [
        "##### 5.1.4 Modelagem da função de probabilidade das classes de viés"
      ]
    },
    {
      "cell_type": "code",
      "execution_count": null,
      "metadata": {
        "id": "aMHb4_8wssV9"
      },
      "outputs": [],
      "source": [
        "df_portals_reference_names = [\"Bias\", \"Content\"]\n",
        "df_portals_reference = pd.DataFrame(columns = df_portals_reference_names)\n",
        "df_portals_reference = df_portals_reference.append({\"Bias\": \"left\", 'Content': corpus_news_aggregator_left}, ignore_index=True)\n",
        "df_portals_reference = df_portals_reference.append({\"Bias\": \"right\", 'Content': corpus_news_aggregator_right,}, ignore_index=True)\n",
        "df_portals_reference"
      ]
    },
    {
      "cell_type": "code",
      "execution_count": null,
      "metadata": {
        "id": "aA2j81J4xEmb"
      },
      "outputs": [],
      "source": [
        "df_portals_prob_names = [\"Bias\"]\n",
        "df_portals_reference_prob = pd.DataFrame(columns = df_portals_prob_names)\n",
        "df_portals_reference_prob"
      ]
    },
    {
      "cell_type": "code",
      "execution_count": null,
      "metadata": {
        "id": "lKGasdMiw8jk"
      },
      "outputs": [],
      "source": [
        "from collections import Counter\n",
        "\n",
        "for index, row in df_portals_reference.iterrows():\n",
        "  df_portals_reference_prob.at[index, 'Bias'] = row['Bias']\n",
        "  portal_content = row['Content']\n",
        "  for index_1, row_1 in df_reference_vocabulary.iterrows():\n",
        "    word = row_1['word']\n",
        "    if row['Bias'] == \"left\":\n",
        "      df_portals_reference_prob[word] = 0.2\n",
        "    frequency = portal_content.count(word)\n",
        "    df_portals_reference_prob.at[index, word] = frequency\n",
        "\n",
        "df_portals_reference_prob"
      ]
    },
    {
      "cell_type": "code",
      "execution_count": null,
      "metadata": {
        "id": "ZuyPpZmRxyko"
      },
      "outputs": [],
      "source": [
        "for index, row in df_portals_reference_prob.iterrows():\n",
        "  sum_row = row[1:].sum()\n",
        "  for name, value in row.iteritems():\n",
        "    if type(value) == float:\n",
        "      df_portals_reference_prob.at[index, name] = value / sum_row\n",
        "\n",
        "df_portals_reference_prob"
      ]
    },
    {
      "cell_type": "markdown",
      "metadata": {
        "id": "POf2_A79o62K"
      },
      "source": [
        "##### 5.1.5 Computar dissimilaridade entre portais e classes de viés"
      ]
    },
    {
      "cell_type": "markdown",
      "metadata": {
        "id": "pXIe5zwFsMYG"
      },
      "source": [
        "###### Utils"
      ]
    },
    {
      "cell_type": "code",
      "execution_count": null,
      "metadata": {
        "id": "zbTdpNhZpCER"
      },
      "outputs": [],
      "source": [
        "from math import log2\n",
        "from math import sqrt\n",
        "from numpy import asarray\n",
        " \n",
        "def kl_divergence(p, q):\n",
        "\treturn sum(p[i] * log2(p[i]/q[i]) if q[i] != 0 and p[i] != 0 else p[i] for i in range(len(p)))\n",
        "\n",
        "'''\n",
        "def js_divergence(p, q):\n",
        "\tm = 0.5 * (p + q)\n",
        "\treturn 0.5 * kl_divergence(p, m) + 0.5 * kl_divergence(q, m)\n",
        "'''\n",
        "\n",
        "def js_divergence(p, q):\n",
        "  # calculate_shannon_entropy(probs)\n",
        "  m = 0.5 * (p + q)\n",
        "  a = (calculate_shannon_entropy(p) + calculate_shannon_entropy(q)) / 2\n",
        "  b = calculate_shannon_entropy(m)\n",
        "  return a - b\n",
        " \n",
        "p = asarray([0.10, 0.40, 0.50])\n",
        "q = asarray([0.80, 0.15, 0.05])\n",
        "\n",
        "js_pq = js_divergence(p, q)\n",
        "print('JS(P || Q) divergence: %.3f bits' % js_pq)\n",
        "\n",
        "js_qp = js_divergence(q, p)\n",
        "print('JS(Q || P) divergence: %.3f bits' % js_qp)"
      ]
    },
    {
      "cell_type": "markdown",
      "metadata": {
        "id": "XKcy5X3oiA1t"
      },
      "source": [
        "###### Dissimilaridade de portais"
      ]
    },
    {
      "cell_type": "code",
      "execution_count": null,
      "metadata": {
        "id": "Hk65dc2Cx8AS"
      },
      "outputs": [],
      "source": [
        "df_names = [\"Source\", \"Divergence-Left\", \"Divergence-Right\", \"Bias\"]\n",
        "df_portals_divergence = pd.DataFrame(columns = df_names)\n",
        "df_portals_divergence"
      ]
    },
    {
      "cell_type": "code",
      "execution_count": null,
      "metadata": {
        "id": "wYjyqjexySP6"
      },
      "outputs": [],
      "source": [
        "for index, row in df_portals.iterrows():\n",
        "  source = row['Source']\n",
        "  bias = row['Bias']\n",
        "  values = row.iloc[2:].values\n",
        "  div_left = 0.0\n",
        "  div_right = 0.0\n",
        "  for index_1, row_1 in df_portals_reference_prob.iterrows():\n",
        "    if index_1 == 0:\n",
        "      values_left = row_1.iloc[1:].values\n",
        "      div_left = js_divergence(values, values_left)\n",
        "    else:\n",
        "      values_right = row_1.iloc[1:].values\n",
        "      div_right = js_divergence(values, values_right)\n",
        "  df_portals_divergence = df_portals_divergence.append({'Source': source, 'Divergence-Left': div_left, 'Divergence-Right': div_right, \"Bias\": bias}, ignore_index=True)\n",
        "\n",
        "df_portals_divergence"
      ]
    },
    {
      "cell_type": "markdown",
      "metadata": {
        "id": "EOnLpYbHiteu"
      },
      "source": [
        "##### 5.1.6 Classificação"
      ]
    },
    {
      "cell_type": "code",
      "execution_count": null,
      "metadata": {
        "id": "8UImKWSniviH"
      },
      "outputs": [],
      "source": [
        "X = df_portals_divergence.drop(['Source', 'Bias'], axis=1)\n",
        "y = df_portals_divergence['Bias']\n",
        "\n",
        "print(X)"
      ]
    },
    {
      "cell_type": "code",
      "execution_count": null,
      "metadata": {
        "id": "-BOJtjUjq-9_"
      },
      "outputs": [],
      "source": [
        "print(y)"
      ]
    },
    {
      "cell_type": "code",
      "execution_count": null,
      "metadata": {
        "id": "GyNOuIqttNWs"
      },
      "outputs": [],
      "source": [
        "from numpy import mean\n",
        "from numpy import std\n",
        "from pandas import read_csv\n",
        "from sklearn.model_selection import LeaveOneOut\n",
        "from sklearn.model_selection import cross_val_score\n",
        "from sklearn.svm import SVC\n",
        "from sklearn.ensemble import RandomForestClassifier\n",
        "\n",
        "cv = LeaveOneOut()\n",
        "model = SVC(kernel='rbf', probability=True, C=1)\n",
        "scores = cross_val_score(model, X, y, scoring='accuracy', cv=cv, n_jobs=-1)\n",
        "print('Accuracy: %.3f (%.3f)' % (mean(scores), std(scores)))"
      ]
    }
  ],
  "metadata": {
    "colab": {
      "collapsed_sections": [
        "rwZiRQ1cmn9U",
        "ht2bJSxbr17R",
        "Smg6bXC6r4en",
        "yszbvIIfsEej",
        "YBawW_gNsGUk",
        "JahYOLxsCysH",
        "m_vKfLK34ZS6",
        "pvY-B143_ixj",
        "AvrPwBQ7_mhb",
        "lV_tkyoh_s-9",
        "enX-IqAGDL63",
        "xRSxFgnRDPgC",
        "ZjnuK_AhDW71",
        "nESrEBgDDhYN",
        "OTz9IYlhDmWi",
        "Kt1dgAX6DmWj",
        "H2lKthtAD-OR",
        "O0YL6zf3S65v",
        "1QW3HPXVEOm3",
        "kDbhH2yUKcFx",
        "UOoL2d1HKfLb",
        "Vc0qp5p2Kh56",
        "sjIlpAKhKqwC",
        "hWFDCeeYrT9m",
        "J0WS6_ZJ_LFj",
        "xoI0nc5g_blF",
        "5TeRPidr_ky-",
        "cu32GSsJC5A4",
        "dYP3-t_1ESeY",
        "msLMSPeuEZ-j",
        "pXIe5zwFsMYG",
        "XKcy5X3oiA1t",
        "EOnLpYbHiteu"
      ],
      "name": "portals-bias.ipynb",
      "toc_visible": true,
      "provenance": [],
      "authorship_tag": "ABX9TyMrMoLcEczdj9nWrJe/kL6W",
      "include_colab_link": true
    },
    "kernelspec": {
      "display_name": "Python 3",
      "name": "python3"
    },
    "language_info": {
      "name": "python"
    }
  },
  "nbformat": 4,
  "nbformat_minor": 0
}