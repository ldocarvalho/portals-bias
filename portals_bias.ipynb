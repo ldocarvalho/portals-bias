{
  "nbformat": 4,
  "nbformat_minor": 0,
  "metadata": {
    "colab": {
      "name": "portals-bias.ipynb",
      "provenance": [],
      "collapsed_sections": [
        "ht2bJSxbr17R",
        "Smg6bXC6r4en",
        "yszbvIIfsEej",
        "YBawW_gNsGUk",
        "KDwWdD4ZsIWZ"
      ],
      "toc_visible": true,
      "authorship_tag": "ABX9TyMNEXiA6tjXN7aK8LLRtMpP",
      "include_colab_link": true
    },
    "kernelspec": {
      "name": "python3",
      "display_name": "Python 3"
    },
    "language_info": {
      "name": "python"
    }
  },
  "cells": [
    {
      "cell_type": "markdown",
      "metadata": {
        "id": "view-in-github",
        "colab_type": "text"
      },
      "source": [
        "<a href=\"https://colab.research.google.com/github/ldocarvalho/portals-bias/blob/main/portals_bias.ipynb\" target=\"_parent\"><img src=\"https://colab.research.google.com/assets/colab-badge.svg\" alt=\"Open In Colab\"/></a>"
      ]
    },
    {
      "cell_type": "markdown",
      "source": [
        "### Dados"
      ],
      "metadata": {
        "id": "_z2CxtgK2HFd"
      }
    },
    {
      "cell_type": "code",
      "source": [
        "import pandas as pd"
      ],
      "metadata": {
        "id": "NDs2LQWJSHIX"
      },
      "execution_count": 5,
      "outputs": []
    },
    {
      "cell_type": "code",
      "source": [
        "df_names = [\"Source\",\"Title\",\"Content\",\"Bias\"]\n",
        "df_news_aggregator = pd.read_csv('https://raw.githubusercontent.com/ldocarvalho/portals-bias/main/Dataset/News-Aggregator-14/news-aggregator.csv?token=AKX52J7EV5Y2TFAPAPLJ3Q3BYDMV2', names = df_names, skiprows = 1, header = None)\n",
        "df_news_aggregator"
      ],
      "metadata": {
        "id": "fPzFw21W2IiV",
        "colab": {
          "base_uri": "https://localhost:8080/",
          "height": 424
        },
        "outputId": "288c8c3c-2353-472c-f4ed-9549a8fc4cbf"
      },
      "execution_count": 9,
      "outputs": [
        {
          "output_type": "execute_result",
          "data": {
            "text/html": [
              "<div>\n",
              "<style scoped>\n",
              "    .dataframe tbody tr th:only-of-type {\n",
              "        vertical-align: middle;\n",
              "    }\n",
              "\n",
              "    .dataframe tbody tr th {\n",
              "        vertical-align: top;\n",
              "    }\n",
              "\n",
              "    .dataframe thead th {\n",
              "        text-align: right;\n",
              "    }\n",
              "</style>\n",
              "<table border=\"1\" class=\"dataframe\">\n",
              "  <thead>\n",
              "    <tr style=\"text-align: right;\">\n",
              "      <th></th>\n",
              "      <th>Source</th>\n",
              "      <th>Title</th>\n",
              "      <th>Content</th>\n",
              "      <th>Bias</th>\n",
              "    </tr>\n",
              "  </thead>\n",
              "  <tbody>\n",
              "    <tr>\n",
              "      <th>0</th>\n",
              "      <td>wsj.com</td>\n",
              "      <td>EU Week Ahead March 10-14: Bank Resolution, Tr...</td>\n",
              "      <td>The European Union’s to-do list isn’t long thi...</td>\n",
              "      <td>right-center</td>\n",
              "    </tr>\n",
              "    <tr>\n",
              "      <th>1</th>\n",
              "      <td>wsj.com</td>\n",
              "      <td>ECB's Noyer not Happy With Euro Strength -- Up...</td>\n",
              "      <td>News Corp is a network of leading companies in...</td>\n",
              "      <td>right-center</td>\n",
              "    </tr>\n",
              "    <tr>\n",
              "      <th>2</th>\n",
              "      <td>seattlepi.com</td>\n",
              "      <td>EBay, Icahn talk smack</td>\n",
              "      <td>Follow @csaid EBay has come out swinging again...</td>\n",
              "      <td>left-center</td>\n",
              "    </tr>\n",
              "    <tr>\n",
              "      <th>3</th>\n",
              "      <td>techcrunch.com</td>\n",
              "      <td>EBay Asks Shareholders To Vote Against PayPal ...</td>\n",
              "      <td>The war of words between eBay and its new shar...</td>\n",
              "      <td>left-center</td>\n",
              "    </tr>\n",
              "    <tr>\n",
              "      <th>4</th>\n",
              "      <td>valuewalk.com</td>\n",
              "      <td>Carl Icahn: Donahoe Cost eBay Investors More T...</td>\n",
              "      <td>Carl Icahn has again posted an open letter on ...</td>\n",
              "      <td>right-center</td>\n",
              "    </tr>\n",
              "    <tr>\n",
              "      <th>...</th>\n",
              "      <td>...</td>\n",
              "      <td>...</td>\n",
              "      <td>...</td>\n",
              "      <td>...</td>\n",
              "    </tr>\n",
              "    <tr>\n",
              "      <th>1795</th>\n",
              "      <td>newsone.com</td>\n",
              "      <td>NewsOne Minute: Chris Rock Interviews White Pe...</td>\n",
              "      <td>Chris Rock Interviews White People at a Monste...</td>\n",
              "      <td>left-center</td>\n",
              "    </tr>\n",
              "    <tr>\n",
              "      <th>1796</th>\n",
              "      <td>twitchy.com</td>\n",
              "      <td>Chart-topping songwriter Diane Warren: Hope so...</td>\n",
              "      <td>Texas cheerleader and big-game hunter Kendall ...</td>\n",
              "      <td>right</td>\n",
              "    </tr>\n",
              "    <tr>\n",
              "      <th>1797</th>\n",
              "      <td>twitchy.com</td>\n",
              "      <td>Reality star Joanna Krupa would love to see ‘t...</td>\n",
              "      <td>Model Joanna Krupa is known for her stints on ...</td>\n",
              "      <td>right</td>\n",
              "    </tr>\n",
              "    <tr>\n",
              "      <th>1798</th>\n",
              "      <td>austinchronicle.com</td>\n",
              "      <td>Elaine Stritch (1925-2014)</td>\n",
              "      <td>During her seven decades as a \"Broadway Baby\" ...</td>\n",
              "      <td>left</td>\n",
              "    </tr>\n",
              "    <tr>\n",
              "      <th>1799</th>\n",
              "      <td>powerlineblog.com</td>\n",
              "      <td>The Awful Jobs Picture: 6.2% Unemployment Is O...</td>\n",
              "      <td>The Labor Department reported today that the e...</td>\n",
              "      <td>right</td>\n",
              "    </tr>\n",
              "  </tbody>\n",
              "</table>\n",
              "<p>1800 rows × 4 columns</p>\n",
              "</div>"
            ],
            "text/plain": [
              "                   Source  ...          Bias\n",
              "0                 wsj.com  ...  right-center\n",
              "1                 wsj.com  ...  right-center\n",
              "2           seattlepi.com  ...   left-center\n",
              "3          techcrunch.com  ...   left-center\n",
              "4           valuewalk.com  ...  right-center\n",
              "...                   ...  ...           ...\n",
              "1795          newsone.com  ...   left-center\n",
              "1796          twitchy.com  ...         right\n",
              "1797          twitchy.com  ...         right\n",
              "1798  austinchronicle.com  ...          left\n",
              "1799    powerlineblog.com  ...         right\n",
              "\n",
              "[1800 rows x 4 columns]"
            ]
          },
          "metadata": {},
          "execution_count": 9
        }
      ]
    },
    {
      "cell_type": "code",
      "source": [
        "df_news_july = pd.read_csv('https://raw.githubusercontent.com/ldocarvalho/portals-bias/main/Dataset/News-July-19/news-july.csv?token=AKX52J5KQ3NIC6K7PWM7XPLBYDNKA', names = df_names, skiprows = 1, header = None)\n",
        "df_news_july"
      ],
      "metadata": {
        "colab": {
          "base_uri": "https://localhost:8080/",
          "height": 424
        },
        "id": "E8amovQMSZXs",
        "outputId": "32351229-9e86-4e69-bf73-2d08aee08006"
      },
      "execution_count": 10,
      "outputs": [
        {
          "output_type": "execute_result",
          "data": {
            "text/html": [
              "<div>\n",
              "<style scoped>\n",
              "    .dataframe tbody tr th:only-of-type {\n",
              "        vertical-align: middle;\n",
              "    }\n",
              "\n",
              "    .dataframe tbody tr th {\n",
              "        vertical-align: top;\n",
              "    }\n",
              "\n",
              "    .dataframe thead th {\n",
              "        text-align: right;\n",
              "    }\n",
              "</style>\n",
              "<table border=\"1\" class=\"dataframe\">\n",
              "  <thead>\n",
              "    <tr style=\"text-align: right;\">\n",
              "      <th></th>\n",
              "      <th>Source</th>\n",
              "      <th>Title</th>\n",
              "      <th>Content</th>\n",
              "      <th>Bias</th>\n",
              "    </tr>\n",
              "  </thead>\n",
              "  <tbody>\n",
              "    <tr>\n",
              "      <th>0</th>\n",
              "      <td>berkeleyside</td>\n",
              "      <td>ArchivesJune 10, 2019</td>\n",
              "      <td>When the homeowner did not voluntarily repair ...</td>\n",
              "      <td>left-center</td>\n",
              "    </tr>\n",
              "    <tr>\n",
              "      <th>1</th>\n",
              "      <td>berkeleyside</td>\n",
              "      <td>Berkeley homeowner caught in costly code viola...</td>\n",
              "      <td>Finger-pointing, confusion, worry and mistrust...</td>\n",
              "      <td>left-center</td>\n",
              "    </tr>\n",
              "    <tr>\n",
              "      <th>2</th>\n",
              "      <td>berkeleyside</td>\n",
              "      <td>A small-business success story, Yalis Caf cele...</td>\n",
              "      <td>Yali's Caf 1920 Oxford St. (at Berkeley Way), ...</td>\n",
              "      <td>left-center</td>\n",
              "    </tr>\n",
              "    <tr>\n",
              "      <th>3</th>\n",
              "      <td>berkeleyside</td>\n",
              "      <td>Shop Talk: Bluemercury; Airport Home Appliance...</td>\n",
              "      <td>BLUEMERCURY A new business is opening in the o...</td>\n",
              "      <td>left-center</td>\n",
              "    </tr>\n",
              "    <tr>\n",
              "      <th>4</th>\n",
              "      <td>berkeleyside</td>\n",
              "      <td>New vision plan imagines 3-mile greenway from ...</td>\n",
              "      <td>Imagine a bike and pedestrian path stretching ...</td>\n",
              "      <td>left-center</td>\n",
              "    </tr>\n",
              "    <tr>\n",
              "      <th>...</th>\n",
              "      <td>...</td>\n",
              "      <td>...</td>\n",
              "      <td>...</td>\n",
              "      <td>...</td>\n",
              "    </tr>\n",
              "    <tr>\n",
              "      <th>4955</th>\n",
              "      <td>theblaze</td>\n",
              "      <td>Bill Cosbys official Instagram account shares ...</td>\n",
              "      <td>The official Instagram account of actor Bill C...</td>\n",
              "      <td>right</td>\n",
              "    </tr>\n",
              "    <tr>\n",
              "      <th>4956</th>\n",
              "      <td>theblaze</td>\n",
              "      <td>WATCH: Students condemn racist remarks they be...</td>\n",
              "      <td>Students at Marymount University in Virginia b...</td>\n",
              "      <td>right</td>\n",
              "    </tr>\n",
              "    <tr>\n",
              "      <th>4957</th>\n",
              "      <td>theblaze</td>\n",
              "      <td>Republicans propose constitutional amendment t...</td>\n",
              "      <td>President Donald Trump is supporting a propose...</td>\n",
              "      <td>right</td>\n",
              "    </tr>\n",
              "    <tr>\n",
              "      <th>4958</th>\n",
              "      <td>theblaze</td>\n",
              "      <td>108 GOP lawmakers sign letter asking Trump to ...</td>\n",
              "      <td>More than a hundred Republican members of Cong...</td>\n",
              "      <td>right</td>\n",
              "    </tr>\n",
              "    <tr>\n",
              "      <th>4959</th>\n",
              "      <td>theblaze</td>\n",
              "      <td>Despite Trump's threat to close border, Mexico...</td>\n",
              "      <td>Mexico will not militarize its southern border...</td>\n",
              "      <td>right</td>\n",
              "    </tr>\n",
              "  </tbody>\n",
              "</table>\n",
              "<p>4960 rows × 4 columns</p>\n",
              "</div>"
            ],
            "text/plain": [
              "            Source  ...         Bias\n",
              "0     berkeleyside  ...  left-center\n",
              "1     berkeleyside  ...  left-center\n",
              "2     berkeleyside  ...  left-center\n",
              "3     berkeleyside  ...  left-center\n",
              "4     berkeleyside  ...  left-center\n",
              "...            ...  ...          ...\n",
              "4955      theblaze  ...        right\n",
              "4956      theblaze  ...        right\n",
              "4957      theblaze  ...        right\n",
              "4958      theblaze  ...        right\n",
              "4959      theblaze  ...        right\n",
              "\n",
              "[4960 rows x 4 columns]"
            ]
          },
          "metadata": {},
          "execution_count": 10
        }
      ]
    },
    {
      "cell_type": "markdown",
      "metadata": {
        "id": "VG21E7jgmlUE"
      },
      "source": [
        "### Text Preprocessing"
      ]
    },
    {
      "cell_type": "code",
      "metadata": {
        "id": "LP0erUy7ohHI"
      },
      "source": [
        "def to_lower(text):\n",
        "  return text.lower()"
      ],
      "execution_count": null,
      "outputs": []
    },
    {
      "cell_type": "code",
      "metadata": {
        "id": "aCtMcLyiEg-I"
      },
      "source": [
        "def to_upper(text):\n",
        "  return text.upper()"
      ],
      "execution_count": null,
      "outputs": []
    },
    {
      "cell_type": "code",
      "metadata": {
        "id": "lkqjdCO8oyzw"
      },
      "source": [
        "import re\n",
        "\n",
        "def remove_numbers(text):\n",
        "  return re.sub(r'\\d+', '', text)"
      ],
      "execution_count": null,
      "outputs": []
    },
    {
      "cell_type": "code",
      "metadata": {
        "id": "5BHrcs0ZpDqI"
      },
      "source": [
        "import string\n",
        "\n",
        "def remove_puctuation(text):\n",
        "  return text.translate(string.maketrans('',''), string.punctuation)"
      ],
      "execution_count": null,
      "outputs": []
    },
    {
      "cell_type": "code",
      "metadata": {
        "id": "CvYqcIWapMC1"
      },
      "source": [
        "def remove_whitespace(text):\n",
        "  return text.strip()"
      ],
      "execution_count": null,
      "outputs": []
    },
    {
      "cell_type": "code",
      "metadata": {
        "id": "Wt4l2g9BpRGQ"
      },
      "source": [
        "from nltk.tokenize import word_tokenize\n",
        "\n",
        "def remove_stopword(text):\n",
        "  stop_words = set(stopwords.words('english'))\n",
        "  tokens = word_tokenize(text)\n",
        "  return [i for i in tokens if not i in stop_words]"
      ],
      "execution_count": null,
      "outputs": []
    },
    {
      "cell_type": "code",
      "metadata": {
        "id": "_yJB7kCVFeoi"
      },
      "source": [
        "import re\n",
        "\n",
        "def remove_urls(text):\n",
        "  no_url_text = re.compile(r'https?://\\S+|www\\.\\S+')\n",
        "  return no_url_text.sub(r'', text)"
      ],
      "execution_count": null,
      "outputs": []
    },
    {
      "cell_type": "code",
      "metadata": {
        "id": "hGOvTyf7Fpxm"
      },
      "source": [
        "import re\n",
        "\n",
        "def remove_html(text):\n",
        "    no_html_text = re.compile('<.*?>')\n",
        "    return no_html_text.sub(r'', text)"
      ],
      "execution_count": null,
      "outputs": []
    },
    {
      "cell_type": "code",
      "metadata": {
        "id": "wLYZBJyDE1K9"
      },
      "source": [
        "import re\n",
        "\n",
        "def tokenization(text):\n",
        "  tokens = re.split('W+',text)\n",
        "  return tokens"
      ],
      "execution_count": null,
      "outputs": []
    },
    {
      "cell_type": "code",
      "metadata": {
        "id": "_aYKf73UE_iw"
      },
      "source": [
        "from nltk.stem.porter import PorterStemmer\n",
        "porter_stemmer = PorterStemmer()\n",
        "\n",
        "def stemming(text):\n",
        "  stem_text = [porter_stemmer.stem(word) for word in text]\n",
        "  return stem_text"
      ],
      "execution_count": null,
      "outputs": []
    },
    {
      "cell_type": "markdown",
      "metadata": {
        "id": "rwZiRQ1cmn9U"
      },
      "source": [
        "### Readability"
      ]
    },
    {
      "cell_type": "markdown",
      "metadata": {
        "id": "ht2bJSxbr17R"
      },
      "source": [
        "#### Utils"
      ]
    },
    {
      "cell_type": "code",
      "metadata": {
        "colab": {
          "base_uri": "https://localhost:8080/"
        },
        "id": "C0aUemmQrtM2",
        "outputId": "dae3c7f3-309b-4e39-c81b-3aae12f622e6"
      },
      "source": [
        "pip install textstat"
      ],
      "execution_count": null,
      "outputs": [
        {
          "output_type": "stream",
          "name": "stdout",
          "text": [
            "Collecting textstat\n",
            "  Downloading textstat-0.7.2-py3-none-any.whl (101 kB)\n",
            "\u001b[?25l\r\u001b[K     |███▏                            | 10 kB 25.1 MB/s eta 0:00:01\r\u001b[K     |██████▍                         | 20 kB 29.5 MB/s eta 0:00:01\r\u001b[K     |█████████▋                      | 30 kB 33.7 MB/s eta 0:00:01\r\u001b[K     |████████████▉                   | 40 kB 37.5 MB/s eta 0:00:01\r\u001b[K     |████████████████                | 51 kB 24.1 MB/s eta 0:00:01\r\u001b[K     |███████████████████▎            | 61 kB 14.2 MB/s eta 0:00:01\r\u001b[K     |██████████████████████▌         | 71 kB 13.3 MB/s eta 0:00:01\r\u001b[K     |█████████████████████████▊      | 81 kB 14.4 MB/s eta 0:00:01\r\u001b[K     |█████████████████████████████   | 92 kB 15.5 MB/s eta 0:00:01\r\u001b[K     |████████████████████████████████| 101 kB 6.7 MB/s \n",
            "\u001b[?25hCollecting pyphen\n",
            "  Downloading pyphen-0.11.0-py3-none-any.whl (2.0 MB)\n",
            "\u001b[K     |████████████████████████████████| 2.0 MB 49.6 MB/s \n",
            "\u001b[?25hInstalling collected packages: pyphen, textstat\n",
            "Successfully installed pyphen-0.11.0 textstat-0.7.2\n"
          ]
        }
      ]
    },
    {
      "cell_type": "code",
      "metadata": {
        "id": "Vaf5wreMsO7T"
      },
      "source": [
        "import spacy\n",
        "from textstat.textstat import textstatistics,legacy_round\n",
        "\n",
        "def break_in_sentences(text):\n",
        "\tnlp = spacy.load('en_core_web_sm')\n",
        "\tdoc = nlp(text)\n",
        "\treturn list(doc.sents)\n",
        " \n",
        "def number_of_sentences(text):\n",
        "\tsentences = break_in_sentences(text)\n",
        "\treturn len(sentences)\n",
        "\n",
        "def number_of_words(text):\n",
        "\ttext_sentences = break_in_sentences(text)\n",
        "\tnumber_of_words = 0\n",
        "\tfor sentence in text_sentences:\n",
        "\t\tnumber_of_words += len([token for token in sentence])\n",
        "\treturn number_of_words\n",
        " \n",
        "def number_of_syllables(word):\n",
        "\treturn textstatistics().syllable_count(word)\n",
        "\n",
        "def average_sentence_length(text):\n",
        "\tnumber_of_words = number_of_words(text)\n",
        "\tnumber_of_sentences = number_of_sentences(text)\n",
        "\taverage_sentence_length = number_of_words/number_of_sentences\n",
        "\treturn float(average_sentence_length)\n",
        "\n",
        "def average_number_of_syllables_per_word(text):\n",
        "  number_of_syllables = number_of_syllables(text)\n",
        "  number_of_words = number_of_words(text)\n",
        "  ASPW = float(number_of_syllables) / float(number_of_syllables)\n",
        "  return legacy_round(ASPW, 1)\n",
        "\n",
        "def number_of_difficult_words(text):\n",
        "\tnlp = spacy.load('en_core_web_sm')\n",
        "\tdoc = nlp(text)\n",
        "\n",
        "\twords = []\n",
        "\tsentences = break_sentences(text)\n",
        "\tfor sentence in sentences:\n",
        "\t\twords += [str(token) for token in sentence]\n",
        "\n",
        "\tdiff_words_set = set()\n",
        "\t\n",
        "\tfor word in words:\n",
        "\t\tsyllable_count = number_of_syllables(word)\n",
        "\t\tif word not in nlp.Defaults.stop_words and syllable_count >= 2:\n",
        "\t\t\tdiff_words_set.add(word)\n",
        "\n",
        "\treturn len(diff_words_set)\n",
        "\n",
        "def number_of_polysyllable_words(text):\n",
        "\tcount = 0\n",
        "\twords = []\n",
        "\tsentences = break_sentences(text)\n",
        " \n",
        "\tfor sentence in sentences:\n",
        "\t\twords += [token for token in sentence]\n",
        "\n",
        "\tfor word in words:\n",
        "\t\tsyllable_count = number_of_syllables(word)\n",
        "\t\tif syllable_count >= 3:\n",
        "\t\t\tcount += 1\n",
        "      \n",
        "\treturn count"
      ],
      "execution_count": null,
      "outputs": []
    },
    {
      "cell_type": "markdown",
      "metadata": {
        "id": "Smg6bXC6r4en"
      },
      "source": [
        "#### Flesch-Kincaid"
      ]
    },
    {
      "cell_type": "code",
      "metadata": {
        "id": "bVoFLu5GsRu8"
      },
      "source": [
        "def flesch_reading_index(text):\n",
        "\tFRE = 206.835 - float(1.015 * average_sentence_length(text)) - float(84.6 * average_number_of_syllables_per_word(text))\n",
        "\treturn legacy_round(FRE, 2)"
      ],
      "execution_count": null,
      "outputs": []
    },
    {
      "cell_type": "markdown",
      "metadata": {
        "id": "yszbvIIfsEej"
      },
      "source": [
        "#### Dale-Chall"
      ]
    },
    {
      "cell_type": "code",
      "metadata": {
        "id": "_uZISEwosYlP"
      },
      "source": [
        "def dale_chall_index(text):  \n",
        "  number_of_words = number_of_words(text)\n",
        "  number_of_difficult_words = number_of_difficult_words(text)\n",
        "  \n",
        "  difficult_words_percentage = 0\n",
        "\n",
        "  if number_of_words > 0:\n",
        "\t\t difficult_words_percentage = float(number_of_difficult_words) / float(words) * 100\n",
        "\t\n",
        "  DCI = (0.1579 * difficult_words_percentage) + (0.0496 * average_sentence_length(text)) + 3.6365\n",
        "\t\t\n",
        "  return legacy_round(DCI, 2)"
      ],
      "execution_count": null,
      "outputs": []
    },
    {
      "cell_type": "markdown",
      "metadata": {
        "id": "YBawW_gNsGUk"
      },
      "source": [
        "#### Gunning Fog"
      ]
    },
    {
      "cell_type": "code",
      "metadata": {
        "id": "J15c2yLKsUID"
      },
      "source": [
        "def gunning_fog(text):\n",
        "    difficult_words_percentage = (number_of_difficult_words(text) / number_of_words(text) * 100) \n",
        "    GFI = 0.4 * (average_sentence_length(text) + difficult_words_percentage)\n",
        "    return GFI"
      ],
      "execution_count": null,
      "outputs": []
    },
    {
      "cell_type": "markdown",
      "metadata": {
        "id": "KDwWdD4ZsIWZ"
      },
      "source": [
        "#### SMOG"
      ]
    },
    {
      "cell_type": "code",
      "metadata": {
        "id": "MqPMwBPPsV1-"
      },
      "source": [
        "def smog_index(text):\n",
        "\tif number_of_sentences(text) >= 3:\n",
        "\t\tnumber_of_polysyllable_words = number_of_polysyllable_words(text)\n",
        "\t\tSMOG = (1.043 * (30*(number_of_polysyllable_words / number_of_sentences(text)))**0.5)\t+ 3.1291\n",
        "\t\treturn legacy_round(SMOG, 1)\n",
        "\telse:\n",
        "\t\treturn 0"
      ],
      "execution_count": null,
      "outputs": []
    }
  ]
}